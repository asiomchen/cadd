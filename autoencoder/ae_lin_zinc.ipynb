{
 "cells": [
  {
   "cell_type": "code",
   "execution_count": 1,
   "metadata": {},
   "outputs": [
    {
     "name": "stdout",
     "output_type": "stream",
     "text": [
      "Global seed set to 42\n"
     ]
    }
   ],
   "source": [
    "# General Imports\n",
    "import os\n",
    "import pandas as pd\n",
    "import numpy as np\n",
    "from rdkit import Chem\n",
    "from rdkit.Chem import Draw, Descriptors\n",
    "from matplotlib import pyplot as plt\n",
    "import torch\n",
    "import torch.nn as nn\n",
    "from tqdm.notebook import tqdm\n",
    "from torch.utils.data import DataLoader,random_split, Dataset\n",
    "from utils.fixes import global_seed\n",
    "global_seed(42)\n",
    "%matplotlib inline"
   ]
  },
  {
   "cell_type": "code",
   "execution_count": 2,
   "metadata": {},
   "outputs": [
    {
     "name": "stdout",
     "output_type": "stream",
     "text": [
      "cuda\n"
     ]
    }
   ],
   "source": [
    "# chech GPU\n",
    "device = torch.device(\"cuda\" if torch.cuda.is_available() else \"cpu\")\n",
    "print(device)"
   ]
  },
  {
   "cell_type": "code",
   "execution_count": 3,
   "metadata": {},
   "outputs": [
    {
     "data": {
      "text/plain": "device(type='cuda')"
     },
     "execution_count": 3,
     "metadata": {},
     "output_type": "execute_result"
    }
   ],
   "source": [
    "device = torch.device(device)\n",
    "device"
   ]
  },
  {
   "cell_type": "code",
   "execution_count": 10,
   "metadata": {},
   "outputs": [],
   "source": [
    "smifile = \"250k_rndm_zinc_drugs_clean_3.csv\"\n",
    "data = pd.read_csv(smifile, delimiter = \",\")"
   ]
  },
  {
   "cell_type": "code",
   "execution_count": 11,
   "metadata": {},
   "outputs": [
    {
     "data": {
      "text/plain": "                                              smiles     logP       qed  \\\n0          CC(C)(C)c1ccc2occ(CC(=O)Nc3ccccc3F)c2c1\\n  5.05060  0.702012   \n1     C[C@@H]1CC(Nc2cncc(-c3nncn3C)c2)C[C@@H](C)C1\\n  3.11370  0.928975   \n2  N#Cc1ccc(-c2ccc(O[C@@H](C(=O)N3CCCC3)c3ccccc3)...  4.96778  0.599682   \n3  CCOC(=O)[C@@H]1CCCN(C(=O)c2nc(-c3ccc(C)cc3)n3c...  4.00022  0.690944   \n4  N#CC1=C(SCC(=O)Nc2cccc(Cl)c2)N=C([O-])[C@H](C#...  3.60956  0.789027   \n\n        SAS  \n0  2.084095  \n1  3.432004  \n2  2.470633  \n3  2.822753  \n4  4.035182  ",
      "text/html": "<div>\n<style scoped>\n    .dataframe tbody tr th:only-of-type {\n        vertical-align: middle;\n    }\n\n    .dataframe tbody tr th {\n        vertical-align: top;\n    }\n\n    .dataframe thead th {\n        text-align: right;\n    }\n</style>\n<table border=\"1\" class=\"dataframe\">\n  <thead>\n    <tr style=\"text-align: right;\">\n      <th></th>\n      <th>smiles</th>\n      <th>logP</th>\n      <th>qed</th>\n      <th>SAS</th>\n    </tr>\n  </thead>\n  <tbody>\n    <tr>\n      <th>0</th>\n      <td>CC(C)(C)c1ccc2occ(CC(=O)Nc3ccccc3F)c2c1\\n</td>\n      <td>5.05060</td>\n      <td>0.702012</td>\n      <td>2.084095</td>\n    </tr>\n    <tr>\n      <th>1</th>\n      <td>C[C@@H]1CC(Nc2cncc(-c3nncn3C)c2)C[C@@H](C)C1\\n</td>\n      <td>3.11370</td>\n      <td>0.928975</td>\n      <td>3.432004</td>\n    </tr>\n    <tr>\n      <th>2</th>\n      <td>N#Cc1ccc(-c2ccc(O[C@@H](C(=O)N3CCCC3)c3ccccc3)...</td>\n      <td>4.96778</td>\n      <td>0.599682</td>\n      <td>2.470633</td>\n    </tr>\n    <tr>\n      <th>3</th>\n      <td>CCOC(=O)[C@@H]1CCCN(C(=O)c2nc(-c3ccc(C)cc3)n3c...</td>\n      <td>4.00022</td>\n      <td>0.690944</td>\n      <td>2.822753</td>\n    </tr>\n    <tr>\n      <th>4</th>\n      <td>N#CC1=C(SCC(=O)Nc2cccc(Cl)c2)N=C([O-])[C@H](C#...</td>\n      <td>3.60956</td>\n      <td>0.789027</td>\n      <td>4.035182</td>\n    </tr>\n  </tbody>\n</table>\n</div>"
     },
     "execution_count": 11,
     "metadata": {},
     "output_type": "execute_result"
    }
   ],
   "source": [
    "data.head()"
   ]
  },
  {
   "cell_type": "code",
   "execution_count": 12,
   "metadata": {},
   "outputs": [
    {
     "data": {
      "text/plain": "249455"
     },
     "execution_count": 12,
     "metadata": {},
     "output_type": "execute_result"
    }
   ],
   "source": [
    "len(data)"
   ]
  },
  {
   "cell_type": "code",
   "execution_count": 13,
   "metadata": {},
   "outputs": [],
   "source": [
    "charset = set(\"\".join(list(data.smiles))+\"?E\")\n",
    "#sort charset\n",
    "charset = sorted(list(charset))\n",
    "char_to_int = dict((c,i) for i,c in enumerate(charset))\n",
    "int_to_char = dict((i,c) for i,c in enumerate(charset))\n",
    "max_len = max([len(smile) for smile in data.smiles]) + 5"
   ]
  },
  {
   "cell_type": "code",
   "execution_count": 14,
   "metadata": {},
   "outputs": [
    {
     "name": "stdout",
     "output_type": "stream",
     "text": [
      "Charset: ['\\n', '#', '(', ')', '+', '-', '/', '1', '2', '3', '4', '5', '6', '7', '8', '=', '?', '@', 'B', 'C', 'E', 'F', 'H', 'I', 'N', 'O', 'P', 'S', '[', '\\\\', ']', 'c', 'l', 'n', 'o', 'r', 's']\n",
      "Embedding length: 115\n",
      "Number of characters: 37\n"
     ]
    }
   ],
   "source": [
    "print(f'Charset: {charset}')\n",
    "print(f'Embedding length: {max_len}')\n",
    "print(f'Number of characters: {len(charset)}')"
   ]
  },
  {
   "cell_type": "code",
   "execution_count": 111,
   "metadata": {},
   "outputs": [],
   "source": [
    "def vectorize(smiles):\n",
    "    ''' Vectorize a list of SMILES strings to a numpy array of shape (len(smiles), embed, len(charset))'''\n",
    "    X = np.zeros((len(smiles), max_len, len(charset)))\n",
    "    for i, smile in enumerate(smiles):\n",
    "        smile = '?'+ smile + 'E' * (max_len - len(smile) - 1)\n",
    "        for j, char in enumerate(smile):\n",
    "            X[i,j,char_to_int[char]] = 1\n",
    "    return X"
   ]
  },
  {
   "cell_type": "code",
   "execution_count": 112,
   "metadata": {},
   "outputs": [
    {
     "data": {
      "text/plain": "array([[0., 0., 0., ..., 0., 0., 0.],\n       [0., 0., 0., ..., 0., 0., 0.],\n       [0., 0., 0., ..., 0., 0., 0.],\n       ...,\n       [0., 0., 0., ..., 0., 0., 0.],\n       [0., 0., 0., ..., 0., 0., 0.],\n       [0., 0., 0., ..., 0., 0., 0.]])"
     },
     "execution_count": 112,
     "metadata": {},
     "output_type": "execute_result"
    }
   ],
   "source": [
    "X_train = vectorize(data.smiles.values[:3])\n",
    "X_train[0,:,:]"
   ]
  },
  {
   "cell_type": "code",
   "execution_count": 113,
   "metadata": {},
   "outputs": [],
   "source": [
    "def devectorize(X):\n",
    "    ''' Devectorize a numpy array of shape (len(smiles), embed, len(charset)) to a list of SMILES strings'''\n",
    "    smiles = []\n",
    "    for i in range(X.shape[0]):\n",
    "        smile = \"\"\n",
    "        for j in range(X.shape[1]):\n",
    "            smile += int_to_char[np.argmax(X[i,j,:])]\n",
    "        smiles.append(smile)\n",
    "    # Remove padding\n",
    "    smiles = [smile.replace(\"?\",\"\").replace(\"E\",\"\") for smile in smiles]\n",
    "    return smiles"
   ]
  },
  {
   "cell_type": "code",
   "execution_count": 114,
   "metadata": {},
   "outputs": [
    {
     "data": {
      "text/plain": "['CC(C)N(C)CC1(CC(C(C)N)C(C)O1)C#C',\n 'CCNCC1=C(CC)N(C(N)=O)C(NCC)=C1',\n 'CC(C)CCOC1(C)OC(=O)C(CC=O)C1C']"
     },
     "execution_count": 114,
     "metadata": {},
     "output_type": "execute_result"
    }
   ],
   "source": [
    "devectorize(X_train)"
   ]
  },
  {
   "cell_type": "code",
   "execution_count": 115,
   "metadata": {},
   "outputs": [],
   "source": [
    "class SMILESDataset(Dataset):\n",
    "    def __init__(self, data, charset, max_len):\n",
    "        self.data = data\n",
    "        self.charset = charset\n",
    "        self.max_len = max_len\n",
    "        self.char_to_int = {c: i for i, c in enumerate(self.charset)}\n",
    "        self.X = data.smiles\n",
    "\n",
    "    def __len__(self):\n",
    "        return len(self.data)\n",
    "\n",
    "    def __getitem__(self, idx):\n",
    "        return self.X[idx]\n",
    "\n",
    "    def vectorize(self, smiles):\n",
    "        ''' Vectorize a list of SMILES strings to a numpy array of shape (len(smiles), embed, len(charset))'''\n",
    "        X = np.zeros((len(smiles), self.max_len, len(self.charset)))\n",
    "        for i, smile in enumerate(smiles):\n",
    "            for j, char in enumerate(smile):\n",
    "                X[i,j,self.char_to_int[char]] = 1\n",
    "            X[i,j+1:,self.char_to_int[\"?\"]] = 1\n",
    "            X[i,j+2:,self.char_to_int[\"E\"]] = 1\n",
    "        return X"
   ]
  },
  {
   "cell_type": "code",
   "execution_count": 116,
   "metadata": {},
   "outputs": [],
   "source": [
    "# Instantiate the dataset and dataloader objects\n",
    "batch_size = 64\n",
    "dataset = SMILESDataset(data, charset, max_len)\n",
    "train_dataset, val_dataset, test_dataset = random_split(dataset, [int(0.8*len(dataset)), int(0.1*len(dataset)), int(0.1*len(dataset))])"
   ]
  },
  {
   "cell_type": "code",
   "execution_count": 117,
   "outputs": [
    {
     "data": {
      "text/plain": "0"
     },
     "execution_count": 117,
     "metadata": {},
     "output_type": "execute_result"
    }
   ],
   "source": [
    "dataset_2 = SMILESDataset(data, charset, max_len)\n",
    "dataset.char_to_int[\"#\"]"
   ],
   "metadata": {
    "collapsed": false
   }
  },
  {
   "cell_type": "code",
   "execution_count": 118,
   "outputs": [
    {
     "data": {
      "text/plain": "(32, 55, 31)"
     },
     "execution_count": 118,
     "metadata": {},
     "output_type": "execute_result"
    }
   ],
   "source": [
    "vectorize(dataset[0]).shape"
   ],
   "metadata": {
    "collapsed": false
   }
  },
  {
   "cell_type": "code",
   "execution_count": 119,
   "metadata": {},
   "outputs": [],
   "source": [
    "input_size = len(charset)\n",
    "hidden_size = input_size\n",
    "num_layers = 2"
   ]
  },
  {
   "cell_type": "code",
   "execution_count": 120,
   "metadata": {},
   "outputs": [],
   "source": [
    "# rewrite the model to use Encoder and Decoder classes\n",
    "class Encoder(nn.Module):\n",
    "    def __init__(self, input_size, hidden_size, num_layers, latent_size, dropout=0.2):\n",
    "        super(Encoder, self).__init__()\n",
    "        self.linear_size = max_len * hidden_size\n",
    "        self.encoder = nn.LSTM(input_size, hidden_size, num_layers, batch_first=True)\n",
    "        self.flatten = nn.Flatten()\n",
    "        self.fc1 = nn.Linear(self.linear_size, latent_size * 2)\n",
    "        self.fc2 = nn.Linear(latent_size * 2, latent_size)\n",
    "        self.relu = nn.ReLU()\n",
    "        self.dropout = nn.Dropout(dropout)\n",
    "\n",
    "\n",
    "    def forward(self, x):\n",
    "        encoded, _ = self.encoder(x)\n",
    "        encoded = self.flatten(encoded)\n",
    "        encoded = self.dropout(self.relu(self.fc1(encoded)))\n",
    "        encoded = self.fc2(encoded)\n",
    "        return encoded\n",
    "class Decoder(nn.Module):\n",
    "    def __init__(self, hidden_size, output_size, num_layers, latent_size, dropout=0.2):\n",
    "        super(Decoder, self).__init__()\n",
    "        self.linear_size = max_len * hidden_size\n",
    "        self.fc1 = nn.Linear(latent_size, latent_size * 2)\n",
    "        self.fc2 = nn.Linear(latent_size * 2, self.linear_size)\n",
    "        self.relu = nn.ReLU()\n",
    "        self.dropout = nn.Dropout(dropout)\n",
    "\n",
    "        self.decoder = nn.LSTM(hidden_size, output_size, num_layers, batch_first=True)\n",
    "\n",
    "    def forward(self, x):\n",
    "        decoded = self.dropout(self.relu(self.fc1(x)))\n",
    "        decoded = self.fc2(decoded)\n",
    "        decoded = decoded.view(-1, max_len, hidden_size)\n",
    "        decoded, _ = self.decoder(decoded)\n",
    "        return decoded"
   ]
  },
  {
   "cell_type": "code",
   "execution_count": 121,
   "metadata": {},
   "outputs": [],
   "source": [
    "class Autoencoder_2(nn.Module):\n",
    "    def __init__(self, input_size, hidden_size, num_layers, latent_size):\n",
    "        super(Autoencoder_2, self).__init__()\n",
    "        self.encoder = Encoder(input_size, hidden_size, num_layers, latent_size)\n",
    "        self.decoder = Decoder(hidden_size, input_size, num_layers, latent_size)\n",
    "\n",
    "    def forward(self, x):\n",
    "        encoded = self.encoder(x)\n",
    "        decoded = self.decoder(encoded)\n",
    "        return decoded"
   ]
  },
  {
   "cell_type": "code",
   "execution_count": 122,
   "metadata": {},
   "outputs": [],
   "source": [
    "model = Autoencoder_2(input_size, hidden_size, num_layers, latent_size=128)"
   ]
  },
  {
   "cell_type": "code",
   "execution_count": 123,
   "metadata": {},
   "outputs": [],
   "source": [
    "criterion = nn.MSELoss()\n",
    "optimizer = torch.optim.Adam(model.parameters(), lr=0.001)"
   ]
  },
  {
   "cell_type": "code",
   "execution_count": 124,
   "metadata": {},
   "outputs": [],
   "source": [
    "train_loader = DataLoader(dataset=train_dataset, batch_size=batch_size, shuffle=True)\n",
    "val_loader = DataLoader(dataset=val_dataset, batch_size=batch_size, shuffle=False)"
   ]
  },
  {
   "cell_type": "code",
   "execution_count": 125,
   "outputs": [],
   "source": [
    "history = {'train_loss': [], 'val_loss': []}"
   ],
   "metadata": {
    "collapsed": false
   }
  },
  {
   "cell_type": "code",
   "execution_count": 126,
   "metadata": {},
   "outputs": [],
   "source": [
    "model_name = 'lin_test_3M_l128.pt'\n",
    "# if os.path.exists(model_name):\n",
    "#     model.load_state_dict(torch.load(model_name))\n",
    "#     print(\"Loaded model from disk\")\n",
    "# else:\n",
    "#     print(\"No model found, training from scratch\")"
   ]
  },
  {
   "cell_type": "code",
   "execution_count": 127,
   "outputs": [
    {
     "data": {
      "text/plain": "Autoencoder_2(\n  (encoder): Encoder(\n    (encoder): LSTM(31, 31, num_layers=2, batch_first=True)\n    (flatten): Flatten(start_dim=1, end_dim=-1)\n    (fc1): Linear(in_features=1705, out_features=256, bias=True)\n    (fc2): Linear(in_features=256, out_features=128, bias=True)\n    (relu): ReLU()\n    (dropout): Dropout(p=0.2, inplace=False)\n  )\n  (decoder): Decoder(\n    (fc1): Linear(in_features=128, out_features=256, bias=True)\n    (fc2): Linear(in_features=256, out_features=1705, bias=True)\n    (relu): ReLU()\n    (dropout): Dropout(p=0.2, inplace=False)\n    (decoder): LSTM(31, 31, num_layers=2, batch_first=True)\n  )\n)"
     },
     "execution_count": 127,
     "metadata": {},
     "output_type": "execute_result"
    }
   ],
   "source": [
    "model.to(device)"
   ],
   "metadata": {
    "collapsed": false
   }
  },
  {
   "cell_type": "code",
   "execution_count": 128,
   "metadata": {},
   "outputs": [
    {
     "name": "stdout",
     "output_type": "stream",
     "text": [
      "Epoch [8/10], Train Loss: 0.001026, Val Loss: 0.000272\n",
      "Epoch [9/10], Train Loss: 0.001007, Val Loss: 0.000259\n",
      "Epoch [10/10], Train Loss: 0.000995, Val Loss: 0.000254\n"
     ]
    }
   ],
   "source": [
    "from IPython.core.display_functions import clear_output\n",
    "i = 0\n",
    "num_epochs = 10\n",
    "best_val_loss = np.inf\n",
    "# use appropriate device\n",
    "model.to(device)\n",
    "print(\"Training on {}\".format(device))\n",
    "for epoch in range(num_epochs):\n",
    "    train_epoch_loss = 0\n",
    "    val_epoch_loss = 0\n",
    "    for batch in train_loader:\n",
    "        model.train()\n",
    "        optimizer.zero_grad()\n",
    "        batch = vectorize(batch)\n",
    "        batch = torch.FloatTensor(batch)\n",
    "        batch = batch.to(device)\n",
    "        outputs = model(batch)\n",
    "        loss = criterion(outputs, batch)\n",
    "        train_epoch_loss += loss.item()\n",
    "        loss.backward()\n",
    "        optimizer.step()\n",
    "    train_epoch_loss /= len(train_loader)\n",
    "    #------------------------------------------\n",
    "    for batch in val_loader:\n",
    "        model.eval()\n",
    "        batch = vectorize(batch)\n",
    "        batch = torch.FloatTensor(batch)\n",
    "        batch = batch.to(device)\n",
    "        outputs = model(batch)\n",
    "        val_loss = criterion(outputs, batch)\n",
    "        val_epoch_loss += val_loss.item()\n",
    "    val_epoch_loss /= len(val_loader)\n",
    "    if val_epoch_loss < best_val_loss:\n",
    "        best_val_loss = val_epoch_loss\n",
    "        torch.save(model.state_dict(), model_name)\n",
    "    history['train_loss'].append(train_epoch_loss)\n",
    "    history['val_loss'].append(val_epoch_loss)\n",
    "    print('Epoch [{}/{}], Train Loss: {:.6f}, Val Loss: {:.6f}'.format(epoch+1, num_epochs, train_epoch_loss, val_epoch_loss))\n",
    "    if i > 5:\n",
    "        clear_output(wait=True)\n",
    "        i = 0\n",
    "    else:\n",
    "        i += 1"
   ]
  },
  {
   "cell_type": "code",
   "execution_count": 129,
   "metadata": {},
   "outputs": [
    {
     "data": {
      "text/plain": "<Figure size 640x480 with 1 Axes>",
      "image/png": "[encoded data removed]"
     },
     "metadata": {},
     "output_type": "display_data"
    }
   ],
   "source": [
    "plt.plot(history['train_loss'], label='train')\n",
    "plt.plot(history['val_loss'], label='val')\n",
    "plt.legend()\n",
    "plt.show()"
   ]
  },
  {
   "cell_type": "code",
   "execution_count": 134,
   "metadata": {},
   "outputs": [
    {
     "name": "stdout",
     "output_type": "stream",
     "text": [
      "Actual:    ClC1=CC(=CC=C1)N1C(=O)SC(C=O)=CC1=N\n",
      "Predicted: C\u001B[91mC\u001B[0mC1=CC(=CC=C1)N1C(=O)SC(C=O)=CC1=N\n",
      "--------\n",
      "Actual:    CC(=N)OC1=CC(OC=O)=C(Cl)C2=CC=CN12\n",
      "Predicted: CC(=N)OC1=CC(OC=O)=C(C\u001B[91mO\u001B[0m)C2=CC=CN12\n",
      "--------\n",
      "Actual:    CCC(C)(C(C)N)C1=C2N=CN=C2ON=C1Cl\n",
      "Predicted: CCC(C)(C(C)N)C1=C2N=CN=C2ON=C1C\u001B[91mO\u001B[0m\n",
      "--------\n",
      "Actual:    CC1=C2CC3CCC(CC(O)C#N)(O3)C2=NS1\n",
      "Predicted: CC1=C2CC3CCC(CC(O)C#N)(O\u001B[91m1\u001B[0m)C2=NS1\n",
      "--------\n",
      "Actual:    CC1=CC(N)=C(C2=C(N)N=CS2)C(C=O)=C1F\n",
      "Predicted: CC1=CC(N)=C(C2=C(N)N=CS2)C(C=O)=C1\u001B[91m2\u001B[0m\n",
      "--------\n",
      "Actual:    CCN1CC2=C(C1)C1=C(S2)N=CC(Cl)=C1C#C\n",
      "Predicted: CCN1CC2=C(C1)C1=C(S2)N=CC(C\u001B[91m1\u001B[0m)=C1C#C\n",
      "--------\n",
      "Actual:    CC(C)C(C)(N=C1OC(CO)=NC=C1F)C#N\n",
      "Predicted: CC(C)C(C)(N=C1OC(CO)=NC=C1\u001B[91m2\u001B[0m)C#N\n",
      "--------\n",
      "Actual:    CC(C(F)(F)F)C(C)(C)C1=C(COC1)C#N\n",
      "Predicted: CC(C(\u001B[91mC\u001B[0m)(\u001B[91mO\u001B[0m)F)C(C)(C)C1=C(COC1)C#N\n",
      "--------\n",
      "Actual:    CCCOC1(C)CCC23CCCN2C(=N)NC13\n",
      "Predicted: CCCOC1(C)CCC2\u001B[91mO\u001B[0mCCCN2C(=N)NC13\n",
      "--------\n",
      "Actual:    CC1CNC(C#C)C2=CC3CC=CCN3C12\n",
      "Predicted: CC1CNC(C#C)C2=CC3CC=CCN\u001B[91m1\u001B[0mC12\n",
      "--------\n",
      "Actual:    CC1=NC(Br)=C2N=COC(=O)OC(O)=CC2=C1\n",
      "Predicted: CC1=NC(Br)=C2N=COC(=O)\u001B[91mN\u001B[0mC(O)=CC2=C1\n",
      "--------\n",
      "Actual:    C#CC1CC2CC=CC2=C1CC1=NSN=C1\n",
      "Predicted: C\u001B[91mC\u001B[0mCC1CC2CC=CC2=C1CC1=NSN=C1\n",
      "--------\n",
      "Actual:    ClC1=CSC2=CN=CC(=CSC(=O)C1=N2)C#C\n",
      "Predicted: C\u001B[91mC\u001B[0mC1=CSC2=CN=CC(=CSC(=O)C1=N2)C#C\n",
      "--------\n",
      "Actual:    CCCCN(C)S(=O)(=O)C1=NC=NC=C1Br\n",
      "Predicted: CCCCN(C)S(=O)(=O)C1=NC=NC=C1\u001B[91m1\u001B[0mr\n",
      "--------\n",
      "Actual:    CC1(CC(=O)CNC1=O)C1=CC=C(I)C(N)=C1\n",
      "Predicted: CC1(CC(=O)CNC1=O)C1=CC=C(\u001B[91mF\u001B[0m)C(N)=C1\n",
      "--------\n",
      "Actual:    CC(=O)C1=NC(Br)=C(C)C(=C1)N1C=CC=C1N\n",
      "Predicted: CC(=O)C1=NC(Br)=C(C)C(=C1)N1C=CC=C1\u001B[91m2\u001B[0m\n",
      "--------\n",
      "Actual:    CC1C(C#C)C2CC(=O)C1C21OC(=N)C(=N)O1\n",
      "Predicted: CC1C(C#C)C2CC(=O)C1C2\u001B[91m3\u001B[0mOC(=N)C(=N)O1\n",
      "--------\n",
      "Actual:    CC1=NC(I)=CC(=C1)N1C(=N)CCCCC1=N\n",
      "Predicted: CC1=NC(\u001B[91mF\u001B[0m)=CC(=C1)N1C(=N)CCCCC1=N\n",
      "--------\n",
      "Actual:    CC1CN=COC2OCC3=C2C(O1)=CN=C3Br\n",
      "Predicted: CC1CN=COC2OCC3=C2C(O1)=CN=C3\u001B[91mS\u001B[0m\u001B[91m2\u001B[0m\n",
      "--------\n",
      "Actual:    CC(N)C(C)(O)C1=C(I)OC(=N)N=C1C\n",
      "Predicted: CC(N)C(C)(O)C1=C(\u001B[91mF\u001B[0m)OC(=N)N=C1C\n",
      "--------\n",
      "Actual:    CC1C2=C(C3=C(S2)N=CO3)C(=O)C2=C1C=CO2\n",
      "Predicted: CC1C2=C(C3=C(S2)N=CO3)C(=O)C2=C1C=C\u001B[91mS\u001B[0m\u001B[91m1\u001B[0m\n",
      "--------\n",
      "Actual:    CCS(=O)(=O)C#CC1(C)CCC2=CCCC12\n",
      "Predicted: CC\u001B[91mC\u001B[0m(=O)(=O)C#CC1(C)CCC2=CCCC12\n",
      "--------\n",
      "Actual:    CCC1=NN(C)C2=C1C1(CO2)OC=NC1(C)C\n",
      "Predicted: CCC1=NN(C)C2=C1C1(CO\u001B[91m)\u001B[0m)OC=NC1(C)C\n",
      "--------\n",
      "Actual:    C#CC1OC=NC2=CC=C(C=C12)C#N\n",
      "Predicted: C\u001B[91mC\u001B[0mCC1OC=NC2=CC=C(C=C12)C#N\n",
      "--------\n",
      "Actual:    CC12COCC(N1)C1=C(C#C)C(O)=C(Br)N=C21\n",
      "Predicted: CC12COCC(N1)C1=C(C#C)C(O)=C(Br)N=C\u001B[91m1\u001B[0m1\n",
      "--------\n",
      "Actual:    CC(C)(CC(=N)NC1=NC=NC(O)=C1Br)C=O\n",
      "Predicted: CC(C)(CC(=N)NC1=NC=NC(O)=C1\u001B[91m3\u001B[0mr)C=O\n",
      "--------\n",
      "Actual:    CC12CCC3=NC4(C=CC(=CC1)C4N23)C#C\n",
      "Predicted: CC12CCC3=NC\u001B[91m)\u001B[0m(C=CC(=CC1)C\u001B[91m)\u001B[0mN2\u001B[91m1\u001B[0m)C#C\n",
      "--------\n",
      "Actual:    CCOC1=NC2=C(CNC=N2)C(O)=C1Cl\n",
      "Predicted: CCOC1=NC2=C(CNC=N2)C(O)=C1C\u001B[91mO\u001B[0m\n",
      "--------\n",
      "Actual:    CC1=NN(C(=N)N=C1)C1=C(C)SN=C(Cl)C1=O\n",
      "Predicted: CC1=NN(C(=N)N=C1)C1=C(C)SN=C(C\u001B[91m1\u001B[0m)C1=O\n",
      "--------\n",
      "Actual:    CC1=C2N=C(C)C=NC(=N)NC=C2SC(F)=N1\n",
      "Predicted: CC1=C2N=C(C)C=NC(=N)NC=C2\u001B[91mO\u001B[0mC(F)=N1\n",
      "--------\n",
      "Actual:    CCC1=C2N=COC3=C2C(=C1)C(O)=NC(=N)O3\n",
      "Predicted: CCC1=C2N=C\u001B[91mS\u001B[0mC3=C2C(=C1)C(O)=NC(=N)O\u001B[91m2\u001B[0m\n",
      "--------\n",
      "Actual:    CC(C)C1CCC23CCCCC2(CC(=N)O3)N1\n",
      "Predicted: CC(C)C1CCC2\u001B[91m1\u001B[0mCCCCC2(CC(=N)O3)N1\n",
      "--------\n",
      "Actual:    CC1=NC2=C(N1)C(=O)C1=C2C(C)=C(C)N=C1F\n",
      "Predicted: CC1=NC2=C(N1)C(=O)C1=C2C(C)=C(C)N=C1\n",
      "format error\n",
      "\n",
      "--------\n",
      "Actual:    CC(C)C1(O)CCC2OCC3=C2C(OC1)=CO3\n",
      "Predicted: CC(C)C1(O)CCC2OCC3=C2C(OC1)=C\u001B[91mS\u001B[0m3\n",
      "--------\n",
      "Actual:    CC1C(=O)CCC2=C1C(=O)C(Cl)=C(Cl)N2\n",
      "Predicted: CC1C(=O)CCC2=C1C(=O)C(C\u001B[91mO\u001B[0m)=C(C\u001B[91m)\u001B[0m)N2\n",
      "--------\n",
      "Actual:    CC1=C(C)C2=CC(Br)=CC(=O)C2=C(CCN)O1\n",
      "Predicted: CC1=C(C)C2=CC(Br)=CC(=O)C2=C(C\u001B[91m1\u001B[0m\u001B[91m)\u001B[0m\u001B[91m=\u001B[0m\u001B[91mN\u001B[0m1\n",
      "--------\n",
      "Actual:    CCCC1(N)CC2=C(C1)C(O)=NC(CNC)=C2\n",
      "Predicted: CCCC1(N)CC2=C(C1)C(O)=NC(C\u001B[91m)\u001B[0mC)=C2\n",
      "--------\n",
      "Actual:    CC1=C(O)C(NC2=NC(N)=CC=C2)=CN=C1Cl\n",
      "Predicted: CC1=C(O)C(NC2=NC(N)=CC=C2)=CN=C1C\u001B[91mC\u001B[0m\n",
      "--------\n",
      "Actual:    CCC1=NOC2=C1CC1=C3N(CCN23)N=C1N\n",
      "Predicted: CCC1=NOC2=C1CC1=C3N(CCN\u001B[91m)\u001B[0m3)N=C1N\n",
      "--------\n",
      "Actual:    CCC(=O)C1=NN2N=C(Cl)C=C(C2=C1)[N+]([O-])=O\n",
      "Predicted: CCC(=O)C1=NN2N=C(C\u001B[91m3\u001B[0m)C=C(C2=C1)[N+]([O-])=O\n",
      "--------\n",
      "Actual:    CC(O)C1=NC2=C(SC(N(C)C)=C2N)C=C1Br\n",
      "Predicted: CC(O)C1=NC2=C(SC(N(C)C)=C2N)C=C1\u001B[91mO\u001B[0mr\n",
      "--------\n",
      "Actual:    CC1=CC2=C(C(=O)NC=C2F)C(F)=C1CC#C\n",
      "Predicted: CC1=CC2=C(C(=O)NC=C2\u001B[91mO\u001B[0m)C(F)=C1CC#C\n",
      "--------\n",
      "Actual:    CC1C2CCC(C22CCCO2)C11CNC(=N)O1\n",
      "Predicted: CC1C2CCC(C2\u001B[91mN\u001B[0mCCCO2)C11CNC(=N)O1\n",
      "--------\n",
      "Actual:    CCC#CC1CCC=CC(N1)=NCCN\n",
      "Predicted: CCC\u001B[91mO\u001B[0mCC1CCC=CC(N1)=NCCN\n",
      "--------\n",
      "Actual:    CCC(C)(OC=O)C1=C(Cl)NC(=N)C(O)=C1\n",
      "Predicted: CCC(C)(OC=O)C1=C(C\u001B[91mO\u001B[0m)NC(=N)C(O)=C1\n",
      "--------\n",
      "Actual:    CCC#CC1(CC(=O)C(=NO)C1(C)C)OC\n",
      "Predicted: CCC\u001B[91mO\u001B[0mCC1(CC(=O)C(=NO)C1(C)C)OC\n",
      "--------\n",
      "Actual:    CCOC1=CC=NC(CC2=NNN=C2C)=C1Br\n",
      "Predicted: CCOC1=CC=NC(CC2=NNN=C2C)=C1\u001B[91m2\u001B[0mr\n",
      "--------\n",
      "Actual:    CC1=CN2CC(C)(O)C3=C(COC2=C1)NC=N3\n",
      "Predicted: CC1=CN2CC(C)(O)C3=C(C\u001B[91mS\u001B[0mC2=C1)NC=N3\n",
      "--------\n",
      "Actual:    CCC(CCNC(C)CO)(C#N)C(O)C(C)C\n",
      "Predicted: CCC(CC\u001B[91m)\u001B[0mC(C)CO)(C#N)C(O)C(C)C\n",
      "--------\n",
      "Actual:    CC1=CC(I)=NC(N)=C1C(=O)CCC(O)C=O\n",
      "Predicted: CC1=CC(\u001B[91mF\u001B[0m)=NC(N)=C1C(=O)CCC(O)C=O\n",
      "--------\n",
      "Actual:    CC1(C)C2CC(=O)C(O)(C1OC(N)=O)C2(C)C\n",
      "Predicted: CC1(C)C2CC(=O)C(O)(C1\u001B[91m)\u001B[0mC(N)=O)C2(C)C\n",
      "--------\n",
      "Actual:    CCCN=C1N=C(O)C2=C3C=C(C)C=C3C=C12\n",
      "Predicted: CCCN=C1N=C(O)C2=C\u001B[91mO\u001B[0mC=C(C)C=C3C=C12\n",
      "--------\n",
      "Actual:    CC1(CN=CO1)C1NC2=CC=CC(Cl)=C2C1=O\n",
      "Predicted: CC1(CN=CO1)C1NC2=CC=CC(C\u001B[91mO\u001B[0m)=C2C1=O\n",
      "--------\n",
      "Actual:    CCC1(C)OC2=C(I)C(=O)OC(O)=C2C1C#N\n",
      "Predicted: CCC1(C)OC2=C(\u001B[91mF\u001B[0m)C(=O)OC(O)=C2C1C#N\n",
      "--------\n",
      "Actual:    C#CCN1CC=C2C=CCC2C2=NOC=C12\n",
      "Predicted: C\u001B[91mC\u001B[0mCCN1CC=C2C=CCC2C2=NOC=C12\n",
      "--------\n",
      "Actual:    CC1=NC(=NC(C)=C(N=C(C)S1)[N+]([O-])=O)C#N\n",
      "Predicted: CC1=NC(=NC(C)=C(N=C(C)\u001B[91mO\u001B[0m1)[N+]([O-])=O\u001B[91mC\u001B[0m\n",
      "format error\n",
      "\n",
      "format error\n",
      "\n",
      "format error\n",
      "\n",
      "--------\n",
      "Actual:    CC1=NC=C(C#C)C2=C(I)OC(=O)C(N)=C12\n",
      "Predicted: CC1=NC=C(C#C)C2=C(\u001B[91mF\u001B[0m)OC(=O)C(N)=C12\n",
      "--------\n",
      "Actual:    CC1C2COC1(C)CN2C1=CC=NC(C)=C1F\n",
      "Predicted: CC1C2COC1(C)CN2C1=CC=NC(C)=C1\u001B[91m3\u001B[0m\n",
      "--------\n",
      "Actual:    CC(C)COC(=O)N1N=C(O)C(O)=C(Cl)C1=O\n",
      "Predicted: CC(C)COC(=O)N1N=C(O)C(O)=C(C\u001B[91mO\u001B[0m)C1=O\n",
      "--------\n",
      "Actual:    ClC1=CN2C(C(=O)CC2=CC1=O)C1=NSN=C1\n",
      "Predicted: C\u001B[91mC\u001B[0mC1=CN2C(C(=O)CC2=CC1=O)C1=NSN=C1\n",
      "--------\n",
      "Actual:    CC(NC1=NC2=C(C=C1Br)N(C)C=N2)C(C)=O\n",
      "Predicted: CC(NC1=NC2=C(C=C1\u001B[91m3\u001B[0mr)N(C)C=N2)C(C)=O\n",
      "--------\n",
      "Actual:    CCC12C=CC3CC1C(=N)OC2O3\n",
      "Predicted: CCC12C=CC3CC1C(=N)OC2\u001B[91m3\u001B[0m\u001B[91mO\u001B[0m\n",
      "--------\n",
      "Actual:    CC1C(=O)C2CCCN2C2=C1C(I)=NC=C2\n",
      "Predicted: CC1C(=O)C2CCCN2C2=C1C(\u001B[91mF\u001B[0m)=NC=C2\n",
      "--------\n",
      "Actual:    CCOC1C2CCC1(CC)OC(CNC)=NC2\n",
      "Predicted: CCOC1C2CCC1(CC)OC(C\u001B[91mO\u001B[0mC)=NC2\n",
      "--------\n",
      "Actual:    CCC1(C)CNC2=C3CC(=N)OCOC3=CN12\n",
      "Predicted: CCC1(C)CNC2=C3CC(=N)OC\u001B[91m3\u001B[0mC3=CN12\n",
      "--------\n",
      "Actual:    CC(C=O)C1=NC(=CN=C1Cl)C(O)C(C)(C)C\n",
      "Predicted: CC(C=O)C1=NC(=CN=C1C\u001B[91mO\u001B[0m)C(O)C(C)(C)C\n",
      "--------\n",
      "Actual:    C1C2=CC=C3NC=NCC4C5=CNC1=C5C2=C34\n",
      "Predicted: C\u001B[91mC\u001B[0m\u001B[91m1\u001B[0m2=CC=C3NC=NCC\u001B[91mN\u001B[0mC\u001B[91mN\u001B[0m=CNC1=C\u001B[91mN\u001B[0mC2=C\u001B[91m1\u001B[0m\u001B[91m3\u001B[0m\n",
      "--------\n",
      "Actual:    CC(=O)C1=NC2=C(C(O)=C1C)C(Br)=C(C)C=N2\n",
      "Predicted: CC(=O)C1=NC2=C(C(O)=C1C)C(Br)=C(\u001B[91mO\u001B[0m)C\u001B[91m1\u001B[0m\u001B[91m1\u001B[0m\n",
      "format error\n",
      "\n",
      "--------\n",
      "Actual:    CC1(C)CC2=NC=C3C(C#N)C(CC1N23)C#C\n",
      "Predicted: CC1(C)CC2=NC=C3C(C#N)C(CC1\u001B[91m)\u001B[0m\u001B[91mN\u001B[0m\u001B[91m1\u001B[0m)C#C\n",
      "--------\n",
      "Actual:    C1C=CC2=C3C=CC=CC=C3CCNC1C2\n",
      "Predicted: C1C\u001B[91m1\u001B[0mCC2=C3C=CC=CC=C3CCNC1C2\n",
      "--------\n",
      "Actual:    CCC1=CN=C(CC(C)(N)C#C)C(NC)=C1Br\n",
      "Predicted: CCC1=CN=C(CC(C)(N)C#C)C(NC)=C1\u001B[91m2\u001B[0mr\n",
      "--------\n",
      "Actual:    CCC1OC2=C(C1=NO)C(Cl)=CC=C2C(O)=O\n",
      "Predicted: CCC1OC2=C(C\u001B[91m3\u001B[0m=NO)C(C\u001B[91m3\u001B[0m)=CC=C2C(O)=O\n",
      "--------\n",
      "Actual:    CC(C#C)(C#N)C1=C(F)C2=C(N=CO2)C(F)=C1\n",
      "Predicted: CC(C#C)(C#N)C1=C(F)C2=C(N=CO2)C(\u001B[91mC\u001B[0m)=C1\n",
      "--------\n",
      "Actual:    CCC1C=C2C(C)NCC22OCC(C)C12C\n",
      "Predicted: CCC1C=C2C(C)NCC2\u001B[91mN\u001B[0mOCC(C)C12C\n",
      "--------\n",
      "Actual:    CC1CCC(N)C2(C)C(OC3=NSC=C23)=NC1\n",
      "Predicted: CC1CCC(N)C2(C)C(OC3=NSC=C23)=N\u001B[91mS\u001B[0m1\n",
      "--------\n",
      "Actual:    CCC(CC)(C(C)N1CCN=C1)C(=O)CCO\n",
      "Predicted: CCC(CC)(C(C)N1CCN=C1\u001B[91mN\u001B[0mC(=O)CCO\n",
      "--------\n",
      "Actual:    BrC1=CC(SN=N1)=NC1=CC(=NO1)C(=O)C#C\n",
      "Predicted: BrC1=CC(\u001B[91mO\u001B[0m\u001B[91mC\u001B[0m=N1)=NC1=CC(=NO1)C(=O)C#C\n",
      "--------\n",
      "Actual:    CC1=CN2CC3C4NC(CC4C#N)C3(C)C2=C1\n",
      "Predicted: CC1=CN2CC3C\u001B[91m)\u001B[0mNC(CC\u001B[91m)\u001B[0mC#N)C3(C)C2=C1\n",
      "--------\n",
      "Actual:    CCC1CCNC2=CN=C(OCC1=O)N=C2Br\n",
      "Predicted: CCC1CCNC2=CN=C(OCC1=O)N=C2\u001B[91m1\u001B[0mr\n",
      "--------\n",
      "Actual:    C1C2=CC=C3NC=NCC(N23)C2=C1N=NS2\n",
      "Predicted: C\u001B[91mC\u001B[0m\u001B[91m1\u001B[0m2=CC=C3NC=NCC(N23)C2=C1N=NS2\n",
      "--------\n",
      "Actual:    C1N2C3=C(CC22CCCC4=CNC1=C24)N=CO3\n",
      "Predicted: C\u001B[91mC\u001B[0mN\u001B[91mC\u001B[0mC\u001B[91m2\u001B[0m=C(CC2\u001B[91m=\u001B[0mCCCC\u001B[91m)\u001B[0m=CNC1=C2\u001B[91m3\u001B[0m)N=C\u001B[91mS\u001B[0m\u001B[91m2\u001B[0m\n",
      "--------\n",
      "Actual:    CCC1C(C)C2=C3C1NCC3=CC(Cl)=C2O\n",
      "Predicted: CCC1C(C)C2=C3C1NCC3=CC(C\u001B[91mO\u001B[0m)=C2\u001B[91m3\u001B[0m\n",
      "--------\n",
      "Actual:    CC(C)N(C)C(C#N)C1=CC(=N)C(Cl)=C(N)S1\n",
      "Predicted: CC(C)N(C)C(C#N)C1=CC(=N)C(C\u001B[91mO\u001B[0m)=C(N)S1\n",
      "--------\n",
      "Actual:    CC(C)CC1CCC(OC(C)(CN1)C=O)C#C\n",
      "Predicted: CC(C)CC1CCC(OC(C)(C\u001B[91mO\u001B[0m1)C=O)C#C\n",
      "--------\n",
      "Actual:    CC1=C(O)C=CN=C2OC=C(Br)C=C2C(N)=C1\n",
      "Predicted: CC1=C(O)C=CN=C2\u001B[91mS\u001B[0mC=C(Br)C=C2C(N)=C1\n",
      "--------\n",
      "Actual:    CCC#CS(=O)(=O)C1=C(O)C(NC)=NN1\n",
      "Predicted: CCC\u001B[91m1\u001B[0mCS(=O)(=O)C1=C(O)C(NC)=NN1\n",
      "--------\n",
      "Actual:    C(CC12CCC(O1)C1=C2N=CS1)C1=CN=CO1\n",
      "Predicted: C\u001B[91mC\u001B[0mCC12CCC(O1)C1=C2N=CS\u001B[91m3\u001B[0m)C1=CN=CO1\n",
      "--------\n",
      "Actual:    C#CC(CC#N)OC(C#N)C1CCCC1\n",
      "Predicted: C\u001B[91mC\u001B[0mCC(CC#N)OC(C#N)C1CCCC1\n",
      "--------\n",
      "Actual:    CC1(CCC=CC1=NO)OC1=NSC=C1N\n",
      "Predicted: CC1(CCC=CC\u001B[91m3\u001B[0m=NO)OC1=NSC=C1N\n",
      "--------\n",
      "Actual:    CC1C2CN(CC3=C(C2)C2=C(N3)N=NS2)C1C\n",
      "Predicted: CC1C2CN(CC3=C(C2)C2=C(N\u001B[91m1\u001B[0m)N=N\u001B[91m1\u001B[0m2)C\u001B[91m#\u001B[0mC\n",
      "--------\n",
      "Actual:    CC(O)C1CC(CN1)N=C1C(C)=CNC=C1Br\n",
      "Predicted: CC(O)C1CC(CN1)N=C1C(C)=CNC=C1\u001B[91m2\u001B[0mr\n",
      "--------\n",
      "Actual:    CCCC(C)C1=C(N=CC(N)=C1CN)N(C)C\n",
      "Predicted: CCCC(C)C1=C(N=CC(N)=C1C\u001B[91m)\u001B[0m)N(C)C\n",
      "--------\n",
      "Actual:    CC1CCCC2=CC(C1)S(=O)(=O)C(=O)C=CC2\n",
      "Predicted: CC1CCCC2=CC(C1)S(=O)(=O)C(=O)C=C\u001B[91mS\u001B[0m2\n",
      "--------\n",
      "Actual:    CC1=C(OC2=C1C=NNC2=O)N1CCCCC1\n",
      "Predicted: CC1=C(OC2=C1C=NNC2=O)N\u001B[91m3\u001B[0mCCCCC1\n",
      "--------\n",
      "Actual:    CC1(O)CCCOC1=NCC1=CC=CC=C1Br\n",
      "Predicted: CC1(O)CCCOC1=NCC1=CC=CC=C1\u001B[91m2\u001B[0mr\n",
      "--------\n",
      "Actual:    CC1CCC2(CCN3C(CCC3=N)C2=O)OC1\n",
      "Predicted: CC1CCC2(CCN\u001B[91m1\u001B[0mC(CCC3=N)C2=O)OC1\n",
      "--------\n",
      "Actual:    ClC1=C2C=C3SC=NC3=CN=C2OC(=O)C1=N\n",
      "Predicted: C\u001B[91mC\u001B[0mC1=C2C=C3SC=NC3=CN=C2OC(=O)C1=N\n",
      "--------\n",
      "Actual:    CC(C#N)C(O)C1COC2=C1C=C(C)C=C2F\n",
      "Predicted: CC(C#N)C(O)C1COC2=C1C=C(C)C=C2\u001B[91m3\u001B[0m\n",
      "--------\n",
      "Actual:    C#CC1CCC2CCOC3CC(N=CO3)C1O2\n",
      "Predicted: C\u001B[91mC\u001B[0mCC1CCC2CCOC3CC(N=CO3)C1O2\n",
      "--------\n",
      "Actual:    CC(CC(C)(C)C)C1CC2=C(C1)C(CN2)=NO\n",
      "Predicted: CC(CC(C)(C)C)C1CC2=C(C1)C(C\u001B[91mO\u001B[0m2)=NO\n",
      "--------\n",
      "Actual:    CCN(C)C1=C(NC(C)C)N(C)C(=N)C(I)=C1\n",
      "Predicted: CCN(C)C1=C(NC(C)C)N(C)C(=N)C(\u001B[91mF\u001B[0m)=C1\n",
      "--------\n",
      "Actual:    CCCN=C(NC(C)=N)C1=CC=C(I)N=C1C\n",
      "Predicted: CCCN=C(NC(C)=N)C1=CC=C(\u001B[91mF\u001B[0m)N=C1C\n",
      "--------\n",
      "Actual:    CC(CC1=CN=CC(O)=C1F)C1=NNC(C)=C1\n",
      "Predicted: CC(CC1=CN=CC(O)=C1\u001B[91m3\u001B[0m)C1=NNC(C)=C1\n",
      "--------\n",
      "Actual:    CC1=CC(NC=O)=C2N(C=O)C=CC(I)=C12\n",
      "Predicted: CC1=CC(NC=O)=C2N(C=O)C=CC(\u001B[91mF\u001B[0m)=C12\n",
      "--------\n",
      "Actual:    CC(C1=NSC=C1O)C1=NC(C)=C(O)C(=N)S1\n",
      "Predicted: CC(C1=NSC=C1\u001B[91mC\u001B[0m)C1=NC(C)=C(O)C(=N)S1\n",
      "--------\n",
      "Actual:    CC12COC(CC(=N)OC3=CC(C1)=NS3)=N2\n",
      "Predicted: CC12COC(CC(=N)OC3=CC(C1)=NS\u001B[91m1\u001B[0m)=N2\n",
      "--------\n",
      "Actual:    CCC1OCC23NC(C)CC2(C)CC(C)C13\n",
      "Predicted: CCC1OCC2\u001B[91mC\u001B[0mNC(C)CC2(C)CC(C)C13\n",
      "--------\n",
      "Actual:    C1CNC2CC(C1)CCCCCCN=CNC2\n",
      "Predicted: C1C\u001B[91mC\u001B[0mC2CC(C1)CCCCCCN=CNC2\n",
      "--------\n",
      "Actual:    CCCC(=O)OC(C)C1=C(N)SC(=N)N=C1F\n",
      "Predicted: CCCC(=O)OC(C)C1=C(N)SC(=N)N=C1\u001B[91mO\u001B[0m\n",
      "--------\n",
      "Actual:    CC1=CC2=C(O1)OC1=C2OC=C1C(C)(O)C=O\n",
      "Predicted: CC1=CC2=C(O1)\u001B[91mS\u001B[0mC1=C2\u001B[91mS\u001B[0mC=C1C(C)(O)C=O\n",
      "--------\n",
      "Actual:    CCC(C)C1=C(C#N)N(C)C(C(C)=O)=C1OC\n",
      "Predicted: CCC(C)C1=C(C#N)N(C)C(C(C)=O)=C1O\u001B[91mr\u001B[0m\n",
      "--------\n",
      "Actual:    CCC#CC(C#C)N1N=NC=C1NC(C)C\n",
      "Predicted: CCC\u001B[91mO\u001B[0mCC(C#C)N1N=NC=C1NC(C)C\n",
      "--------\n",
      "Actual:    CC1CCC(O)C23CCNC2CC(C)(C#C)C13\n",
      "Predicted: CC1CCC(O)C2\u001B[91mO\u001B[0mCCNC2CC(C)(C#C)C13\n",
      "--------\n",
      "Actual:    CCC1=NC2=C(O1)N1C(C)C(C)(N=C1N2)C#C\n",
      "Predicted: CCC1=NC2=C(O1)N1C(C)C(C)(N=C1\u001B[91m)\u001B[0m\u001B[91mN\u001B[0m)C#C\n",
      "--------\n",
      "Actual:    CC1=C2N=C(OC(O)=CN=COC2=O)N=C1I\n",
      "Predicted: CC1=C2N=C(OC(O)=CN=COC2=O)N=C1\u001B[91m3\u001B[0m\n",
      "--------\n",
      "Actual:    CCCC1=C2C(=O)N=CC=C2C=C(Cl)N1\n",
      "Predicted: CCCC1=C2C(=O)N=CC=C2C=C(C\u001B[91mO\u001B[0m)N1\n",
      "--------\n",
      "Actual:    CC(C)C1=C(Cl)C2=CC(O)=C(CO)N2N=C1\n",
      "Predicted: CC(C)C1=C(C\u001B[91mO\u001B[0m)C2=CC(O)=C(CO)N2N=C1\n",
      "--------\n",
      "Actual:    CC(C)N=C(N)OCCC1C(C)CC(C)C1O\n",
      "Predicted: CC(C)N=C(N)\u001B[91mC\u001B[0mCCC1C(C)CC(C)C1O\n",
      "--------\n",
      "Actual:    CC1=C(N=C2C(C)=NON=C2Cl)N=C(N)N1\n",
      "Predicted: CC1=C(N=C2C(C)=NON=C2C\u001B[91m3\u001B[0m)N=C(N)N1\n",
      "--------\n",
      "Actual:    CC1=C(C#N)C2=C(C=C(Br)N=C2)C2=NC=NN12\n",
      "Predicted: CC1=C(C#N)C2=C(C=C(Br)N=C2)C2=NC\u001B[91m(\u001B[0mN\u001B[91m)\u001B[0m1\n",
      "format error\n",
      "\n",
      "--------\n",
      "Actual:    CCC1=C(O)NC2=C1CC(=O)C21CCOC1=N\n",
      "Predicted: CCC1=C(O)NC2=C1CC(=O)C2\u001B[91mO\u001B[0mCCOC1=N\n",
      "--------\n",
      "Actual:    CN1C2=C(N=NS2)C2CCC(=O)C12CC(C)=O\n",
      "Predicted: CN1C2=C(N=NS\u001B[91m3\u001B[0m)C2CCC(=O)C12CC(C)=O\n",
      "--------\n",
      "Actual:    CCC1=CC(=O)C2=C(N(C)C(CO)=N2)C(C)=C1\n",
      "Predicted: CCC1=CC(=O)C2=C(N(C)C(C\u001B[91mN\u001B[0m)=N2)C(C)=C1\n",
      "--------\n",
      "Actual:    CC1=NC2=C(S1)C1CN2C2=C1C(=N)C(Br)=NN2\n",
      "Predicted: CC1=NC2=C(S1)C1CN2C2=C1C(=N)C(Br)=\u001B[91mC\u001B[0mN\n",
      "format error\n",
      "\n",
      "--------\n",
      "Actual:    CCC1CNC(C)C1(C)N(C)C1=COC(=N)S1\n",
      "Predicted: CCC1CNC(C)C1(C)N(C)C1=C\u001B[91mN\u001B[0mC(=N)S1\n",
      "--------\n",
      "Actual:    CC(C)N=C1C=C2N(C)N=NC(C)=C2SC1=O\n",
      "Predicted: CC(C)N=C1C=C2N(C)N=NC(C)=C2\u001B[91mO\u001B[0mC1=O\n",
      "--------\n",
      "Actual:    CC1CC(=N)OC2=C(N)N=C(OC=N1)C=C2Br\n",
      "Predicted: CC1CC(=N)OC2=C(N)N=C(OC=N1)C=C2\u001B[91mS\u001B[0mr\n",
      "--------\n",
      "Actual:    CCCN1C(=NC(=O)C(I)=C1OC(C)=O)C#N\n",
      "Predicted: CCCN1C(=NC(=O)C(\u001B[91mF\u001B[0m)=C1OC(C)=O)C#N\n",
      "--------\n",
      "Actual:    CC1=NC2=C(C3=C(C=NO3)N=C2O)C(=N1)C#N\n",
      "Predicted: CC1=NC2=C(C3=C(C=NO3)N=C2\u001B[91m3\u001B[0m)C(=N1)C#\u001B[91mC\u001B[0m\n",
      "--------\n",
      "Actual:    CCOC(CC)=NC1=NC(O)=CC(CNC)=C1\n",
      "Predicted: CCOC(CC)=NC1=NC(O)=CC(C\u001B[91m)\u001B[0mC)=C1\n",
      "--------\n",
      "Actual:    CC1=C(N)NC(=NC2=CSC(CO)=C2)N=C1Br\n",
      "Predicted: CC1=C(N)NC(=NC2=CSC(CO)=C2)N=C1\u001B[91mO\u001B[0mr\n",
      "--------\n",
      "Actual:    BrC1=C2NC3=C(CNC2=CC=C1C#N)OC=C3\n",
      "Predicted: BrC1=C2NC3=C(C\u001B[91m)\u001B[0mC2=CC=C1C#N)OC=C3\n",
      "--------\n",
      "Actual:    CC1CC(C)C(N1)C1=C(C)N=C(Cl)N=C1C#C\n",
      "Predicted: CC1CC(C)C(N1)C1=C(C)N=C(C\u001B[91mO\u001B[0m)N=C1C#C\n",
      "--------\n",
      "Actual:    CC1CN=COCCC(O1)C1=CN=CC=C1Br\n",
      "Predicted: CC1CN=COCCC(O1)C1=CN=CC=C1\u001B[91m2\u001B[0mr\n",
      "--------\n",
      "Actual:    CCC12COCC(CC3=C(OC=N3)O1)C(C)C2\n",
      "Predicted: CCC12COCC(CC3=C(OC=N3)\u001B[91mN\u001B[0m1)C(C)C2\n",
      "--------\n",
      "Actual:    CC1C(C)(CC#C)C2C(C#N)C1(CN2C)C#N\n",
      "Predicted: CC1C(C)(CC#C)C2C(C#N)C1(CN\u001B[91mO\u001B[0mC)C#N\n",
      "--------\n",
      "Actual:    CCC1C(CC2C(CC3=COC1=C23)OC)OC\n",
      "Predicted: CCC1C(CC2C(CC3=COC1=C2\u001B[91mO\u001B[0m)OC)OC\n",
      "--------\n",
      "Actual:    CC(C)C(O)(CC#C)C1=NC(O)=C(C)C=C1F\n",
      "Predicted: CC(C)C(O)(CC#C)C1=NC(O)=C(C)C=C1\u001B[91mO\u001B[0m\n",
      "--------\n",
      "Actual:    CC(C(CO)N1C(=N)N=CN=C1F)C(C)(C)C\n",
      "Predicted: CC(C(CO)N1C(=N)N=CN=C1\u001B[91m3\u001B[0m)C(C)(C)C\n",
      "--------\n",
      "Actual:    CCC1=CSN=C2C(=N)N=C3C2=C1ON=C3F\n",
      "Predicted: CCC1=CSN=C2C(=N)N=C3C2=C1\u001B[91mS\u001B[0mN=C3\u001B[91m3\u001B[0m\n",
      "--------\n",
      "Actual:    CCC1NC2=C(F)C=CC=C2N(C)C(C)C1N\n",
      "Predicted: CCC1NC2=C(\u001B[91mS\u001B[0m)C=CC=C2N(C)C(C)C1N\n",
      "--------\n",
      "Actual:    CCOC1=NC2=NC(Br)=C(N)C=C2C(C)(C)C1\n",
      "Predicted: CCOC1=NC2=NC(Br)=C(N)C=C2C(C)(C)\u001B[91mS\u001B[0m1\n",
      "--------\n",
      "Actual:    BrC1=CC2=NC3=C(N2C(C=O)=N1)C(=O)C=NS3\n",
      "Predicted: BrC1=CC2=NC3=C(N\u001B[91m)\u001B[0mC(C=O)=N\u001B[91m3\u001B[0m)C(=O)C=\u001B[91mC\u001B[0m\u001B[91mN\u001B[0m\u001B[91m1\u001B[0m\n",
      "--------\n",
      "Actual:    CC(CCOC1=C(NC(I)=CC1=N)C=O)C#N\n",
      "Predicted: CC(CCOC1=C(NC(\u001B[91mF\u001B[0m)=CC1=N)C=O)C#N\n",
      "--------\n",
      "Actual:    CC(=C)C1=CC(CC(N)=O)=CC=C1\n",
      "Predicted: CC(=\u001B[91mO\u001B[0m)C1=CC(CC(N)=O)=CC=C1\n",
      "--------\n",
      "Actual:    CC1(C)OC2C3CCCCC(N3)C22CCNC12\n",
      "Predicted: CC1(C)OC2C3CCCCC(N\u001B[91m1\u001B[0m)C2\u001B[91mN\u001B[0mCCNC12\n",
      "--------\n",
      "Actual:    CC1CN2C3CCC(CC3C)N3N=C(O)C1=C23\n",
      "Predicted: CC1CN2C3CCC(CC3C)N\u001B[91m1\u001B[0mN=C(O)C1=C23\n",
      "--------\n",
      "Actual:    CC1=CC(=NN1)C1=NC=C2NC(O)=NC2=C1Br\n",
      "Predicted: CC1=CC(=NN1)C1=NC=C2NC(O)=NC2=C1\u001B[91mS\u001B[0mr\n",
      "--------\n",
      "Actual:    CCN=c1ccc2nc(co2)c2cnc([nH]2)o1\n",
      "Predicted: CCN=\u001B[91mC\u001B[0m1\u001B[91mO\u001B[0m\u001B[91m1\u001B[0m\u001B[91m)\u001B[0m\u001B[91mN\u001B[0m\u001B[91m1\u001B[0m\u001B[91mN\u001B[0m(\u001B[91mC\u001B[0m\u001B[91mO\u001B[0m\u001B[91m1\u001B[0m)\u001B[91mN\u001B[0m2\u001B[91m3\u001B[0m\u001B[91mS\u001B[0m\u001B[91mC\u001B[0m(\u001B[91mO\u001B[0m\u001B[91m1\u001B[0m\u001B[91m)\u001B[0m\u001B[91m3\u001B[0m2)\u001B[91mS\u001B[0m1\n",
      "--------\n",
      "Actual:    CCN1C=C(Cl)C(=O)C=C1CCC(O)CC#N\n",
      "Predicted: CCN1C=C(C\u001B[91mO\u001B[0m)C(=O)C=C1CCC(O)CC#N\n",
      "--------\n",
      "Actual:    CCCCC1=NC(I)=NC2=C1OC(=O)C=C2O\n",
      "Predicted: CCCCC1=NC(\u001B[91mF\u001B[0m)=NC2=C1OC(=O)C=C2O\n",
      "--------\n",
      "Actual:    CC1OC2CCC3CCC(N3)C2COC(=O)O1\n",
      "Predicted: CC1OC2CCC3CCC(N\u001B[91m1\u001B[0m)C2COC(=O)O1\n",
      "--------\n",
      "Actual:    CCOC(C)C1=NC2=C(CO1)C(=O)OC(Br)=N2\n",
      "Predicted: CCOC(C)C1=NC2=C(C\u001B[91mS\u001B[0m1)C(=O)OC(Br)=N2\n",
      "--------\n",
      "Actual:    CC#CCOCCC#CC1=CNN=N1\n",
      "Predicted: CC#CCOCCC#CC1=CNN=N\n",
      "format error\n",
      "\n",
      "--------\n",
      "Actual:    CC1(CCC2=C1C(=O)C(Cl)=C(Cl)S2)S(O)(=O)=O\n",
      "Predicted: CC1(CCC2=C1C(=O)C(C\u001B[91mO\u001B[0m)=C(C\u001B[91mO\u001B[0m)S2)\u001B[91mC\u001B[0m(O)\u001B[91mC\u001B[0m=O\u001B[91m2\u001B[0m\n",
      "format error\n",
      "\n",
      "format error\n",
      "\n",
      "--------\n",
      "Actual:    CC1COC2OCCCCC22CCNCC2C1\n",
      "Predicted: CC1COC2OCCCCC2\u001B[91mN\u001B[0mCCNCC2C1\n",
      "--------\n",
      "Actual:    CCC#CC1=C(C)C2C(N)C=CC2C1C\n",
      "Predicted: CCC\u001B[91mN\u001B[0mCC1=C(C)C2C(N)C=CC2C1C\n",
      "--------\n",
      "Actual:    CCCC1=C(I)C(=N)OC2=C1OCO2\n",
      "Predicted: CCCC1=C(\u001B[91mF\u001B[0m)C(=N)OC2=C1OCO2\n",
      "--------\n",
      "Actual:    CC(N(C)CC=O)C1=CN2C=C(C)C=C2C=C1\n",
      "Predicted: CC(N(C)C\u001B[91m1\u001B[0m=O)C1=CN2C=C(C)C=C2C=C1\n",
      "--------\n",
      "Actual:    BrC1=C2OCC(=NC(=O)SC(=N)NC=C2)C1=N\n",
      "Predicted: BrC1=C2\u001B[91mS\u001B[0mCC(=NC(=O)SC(=N)NC=C2)C1=N\n",
      "--------\n"
     ]
    }
   ],
   "source": [
    "# Test the model\n",
    "test_loader = DataLoader(dataset=test_dataset, batch_size=64, shuffle=False)\n",
    "n_test_batches = 20\n",
    "with torch.no_grad():\n",
    "    incorrect = 0\n",
    "    for batch in test_loader:\n",
    "        n_test_batches -= 1\n",
    "        if n_test_batches < 0:\n",
    "            break\n",
    "        batch = vectorize(batch)\n",
    "        batch = torch.FloatTensor(batch)\n",
    "        batch = batch.to(device)\n",
    "        outputs = model(batch)\n",
    "        outputs = outputs.cpu().numpy()\n",
    "        batch = batch.cpu().numpy()\n",
    "        smiles = devectorize(batch)\n",
    "        pred_smiles = devectorize(outputs)\n",
    "        for i in range(len(smiles)):\n",
    "            if smiles[i] != pred_smiles[i]:\n",
    "                incorrect += 1\n",
    "                print(f'Actual:    {smiles[i]}')\n",
    "                # print difference in red color\n",
    "                print('Predicted: ', end='')\n",
    "                for j in range(len(smiles[i])):\n",
    "                    try:\n",
    "                        if smiles[i][j] != pred_smiles[i][j]:\n",
    "                            print('\\033[91m', end='')\n",
    "                        print(pred_smiles[i][j], end='')\n",
    "                        if smiles[i][j] != pred_smiles[i][j]:\n",
    "                            print('\\033[0m', end='')\n",
    "                    except:\n",
    "                        print('\\nformat error')\n",
    "                print('\\n--------')"
   ]
  },
  {
   "cell_type": "code",
   "execution_count": 135,
   "metadata": {},
   "outputs": [
    {
     "name": "stdout",
     "output_type": "stream",
     "text": [
      "Accuracy: 99.95%"
     ]
    }
   ],
   "source": [
    "print(f'Accuracy: {100*(1-incorrect/len(test_dataset)):.2f}%', end='')"
   ]
  },
  {
   "cell_type": "code",
   "execution_count": 136,
   "outputs": [],
   "source": [
    "# Test the model\n",
    "test_loader = DataLoader(dataset=test_dataset, batch_size=64, shuffle=False)\n",
    "with torch.no_grad():\n",
    "    incorrect = 0\n",
    "    for batch in test_loader:\n",
    "        batch = vectorize(batch)\n",
    "        batch = torch.FloatTensor(batch)\n",
    "        batch = batch.to(device)\n",
    "        outputs = model(batch)\n",
    "        outputs = outputs.cpu().numpy()\n",
    "        batch = batch.cpu().numpy()\n",
    "        smiles = devectorize(batch)\n",
    "        pred_smiles = devectorize(outputs)\n",
    "        for i in range(len(smiles)):\n",
    "            if smiles[i] != pred_smiles[i]:\n",
    "                incorrect += 1"
   ],
   "metadata": {
    "collapsed": false
   }
  },
  {
   "cell_type": "code",
   "execution_count": 137,
   "outputs": [
    {
     "name": "stdout",
     "output_type": "stream",
     "text": [
      "Accuracy: 88.08%"
     ]
    }
   ],
   "source": [
    "print(f'Accuracy: {100*(1-incorrect/len(test_dataset)):.2f}%', end='')"
   ],
   "metadata": {
    "collapsed": false
   }
  },
  {
   "cell_type": "code",
   "execution_count": 142,
   "outputs": [],
   "source": [
    "from torchviz import make_dot"
   ],
   "metadata": {
    "collapsed": false
   }
  },
  {
   "cell_type": "code",
   "execution_count": 194,
   "outputs": [],
   "source": [
    "x = torch.rand(1,55,31).to(device)\n",
    "o = model(x)"
   ],
   "metadata": {
    "collapsed": false
   }
  },
  {
   "cell_type": "code",
   "execution_count": 197,
   "outputs": [
    {
     "data": {
      "text/plain": "'model.png.pdf'"
     },
     "execution_count": 197,
     "metadata": {},
     "output_type": "execute_result"
    }
   ],
   "source": [
    "make_dot(o, params=dict(model.named_parameters()))\n",
    "#save png\n",
    "from graphviz import Source\n",
    "Source(make_dot(o, params=dict(model.named_parameters())).source).render('model.png', view=True)"
   ],
   "metadata": {
    "collapsed": false
   }
  },
  {
   "cell_type": "code",
   "execution_count": 143,
   "metadata": {},
   "outputs": [],
   "source": [
    "def get_models(autoencoder, input_size, hidden_size, num_layers, latent_size):\n",
    "    '''\n",
    "    Returns the encoder and decoder with the same weights as the autoencoder\n",
    "    '''\n",
    "    encoder = Encoder(input_size, hidden_size, num_layers, latent_size)\n",
    "    decoder = Decoder(hidden_size, input_size, num_layers, latent_size)\n",
    "    encoder.load_state_dict(autoencoder.encoder.state_dict())\n",
    "    decoder.load_state_dict(autoencoder.decoder.state_dict())\n",
    "    return encoder, decoder"
   ]
  },
  {
   "cell_type": "code",
   "execution_count": 144,
   "metadata": {},
   "outputs": [],
   "source": [
    "encoder, decoder = get_models(model, input_size, hidden_size, num_layers, latent_size=128)"
   ]
  },
  {
   "cell_type": "code",
   "execution_count": 145,
   "metadata": {},
   "outputs": [],
   "source": [
    "from rdkit import Chem\n",
    "from rdkit.Chem import AllChem, DataStructs\n",
    "def tanimoto_similarity(smiles1, smiles2):\n",
    "    '''\n",
    "    Returns the Tanimoto similarity between two SMILES strings\n",
    "    '''\n",
    "    mol1 = Chem.MolFromSmiles(smiles1)\n",
    "    mol2 = Chem.MolFromSmiles(smiles2)\n",
    "    fp1 = AllChem.GetMorganFingerprintAsBitVect(mol1, 2)\n",
    "    fp2 = AllChem.GetMorganFingerprintAsBitVect(mol2, 2)\n",
    "    return DataStructs.FingerprintSimilarity(fp1, fp2)\n"
   ]
  },
  {
   "cell_type": "code",
   "execution_count": 146,
   "metadata": {},
   "outputs": [],
   "source": [
    "# Test the model\n",
    "encoder.eval()\n",
    "decoder.eval()\n",
    "test_loader = DataLoader(dataset=test_dataset, batch_size=1, shuffle=False)"
   ]
  },
  {
   "cell_type": "code",
   "execution_count": 189,
   "metadata": {},
   "outputs": [],
   "source": [
    "mdma = 'CC(NC)CC1=CC=C(OCO2)C2=C1'\n",
    "propranolol = 'OC(COC1=C2C=CC=CC2=CC=C1)CNC(C)C'\n",
    "aspirin = 'CC(=O)Oc1ccccc1C(=O)O'\n",
    "x = vectorize([mdma])\n",
    "encoded = encoder(torch.Tensor(x))"
   ]
  },
  {
   "cell_type": "code",
   "execution_count": 191,
   "outputs": [
    {
     "data": {
      "text/plain": "(1, 55, 31)"
     },
     "execution_count": 191,
     "metadata": {},
     "output_type": "execute_result"
    }
   ],
   "source": [
    "x.shape"
   ],
   "metadata": {
    "collapsed": false
   }
  },
  {
   "cell_type": "code",
   "execution_count": 148,
   "metadata": {},
   "outputs": [
    {
     "name": "stdout",
     "output_type": "stream",
     "text": [
      "CC(NC)CC1=CC=C(OCO2)C2=C1\n"
     ]
    }
   ],
   "source": [
    "decoded = decoder(encoded)\n",
    "print(devectorize(decoded.detach().numpy())[0])"
   ]
  },
  {
   "cell_type": "code",
   "execution_count": 149,
   "metadata": {},
   "outputs": [
    {
     "data": {
      "text/plain": "1.0"
     },
     "execution_count": 149,
     "metadata": {},
     "output_type": "execute_result"
    }
   ],
   "source": [
    "tanimoto_similarity(mdma, devectorize(decoded.detach().numpy())[0])"
   ]
  },
  {
   "cell_type": "code",
   "execution_count": 150,
   "outputs": [
    {
     "data": {
      "text/plain": "['CC(NC)CC1=CC=C(OCO2)C2=C1']"
     },
     "execution_count": 150,
     "metadata": {},
     "output_type": "execute_result"
    }
   ],
   "source": [
    "devectorize(decoded.detach().numpy())"
   ],
   "metadata": {
    "collapsed": false
   }
  },
  {
   "cell_type": "code",
   "execution_count": 151,
   "outputs": [
    {
     "data": {
      "text/plain": "array([[ 5.0654035e-04,  3.2325453e-04,  9.5017673e-04, ...,\n         1.4170870e-04, -2.6250142e-05, -3.6867257e-07],\n       [-8.2879070e-14,  7.5429192e-09,  4.6130921e-13, ...,\n         4.8811398e-07,  1.0231659e-03, -2.2854442e-04],\n       [ 3.9277734e-06,  1.7996017e-05,  2.5138388e-11, ...,\n        -2.3683272e-07,  1.3069469e-03, -3.7487047e-03],\n       ...,\n       [-4.2814168e-12,  1.2540774e-09, -1.9904946e-12, ...,\n        -1.3947124e-05,  9.8004011e-06, -1.8087376e-04],\n       [-3.3501858e-12,  5.2407395e-10, -1.9496605e-12, ...,\n        -6.9840371e-06,  7.8485191e-06, -1.8772225e-04],\n       [ 3.5905140e-12,  2.7202827e-09, -8.9910544e-12, ...,\n        -1.0357403e-05,  1.2055729e-05, -1.6834280e-04]], dtype=float32)"
     },
     "execution_count": 151,
     "metadata": {},
     "output_type": "execute_result"
    }
   ],
   "source": [
    "sample = decoded.detach().numpy()[0]\n",
    "sample"
   ],
   "metadata": {
    "collapsed": false
   }
  },
  {
   "cell_type": "code",
   "execution_count": 152,
   "outputs": [],
   "source": [
    "idx = np.argmax(sample, axis=1)"
   ],
   "metadata": {
    "collapsed": false
   }
  },
  {
   "cell_type": "code",
   "execution_count": 153,
   "outputs": [
    {
     "data": {
      "text/plain": "'?CC(NC)CC1=CC=C(OCO2)C2=C1EEEEEEEEEEEEEEEEEEEEEEEEEEEEE'"
     },
     "execution_count": 153,
     "metadata": {},
     "output_type": "execute_result"
    }
   ],
   "source": [
    "''.join([int_to_char[i] for i in idx])"
   ],
   "metadata": {
    "collapsed": false
   }
  },
  {
   "cell_type": "code",
   "execution_count": 154,
   "outputs": [
    {
     "name": "stdout",
     "output_type": "stream",
     "text": [
      "{0: '#', 1: '(', 2: ')', 3: '+', 4: '-', 5: '1', 6: '2', 7: '3', 8: '4', 9: '5', 10: '6', 11: '7', 12: '=', 13: '?', 14: 'B', 15: 'C', 16: 'E', 17: 'F', 18: 'H', 19: 'I', 20: 'N', 21: 'O', 22: 'S', 23: '[', 24: ']', 25: 'c', 26: 'l', 27: 'n', 28: 'o', 29: 'r', 30: 's'}\n"
     ]
    }
   ],
   "source": [
    "print(int_to_char)"
   ],
   "metadata": {
    "collapsed": false
   }
  },
  {
   "cell_type": "code",
   "execution_count": 155,
   "outputs": [
    {
     "name": "stdout",
     "output_type": "stream",
     "text": [
      "CC1COC2=C3C=CC=CC2=CC=C1)CNC(C)C\n"
     ]
    },
    {
     "name": "stderr",
     "output_type": "stream",
     "text": [
      "[13:25:19] SMILES Parse Error: extra close parentheses while parsing: CC1COC2=C3C=CC=CC2=CC=C1)CNC(C)C\n",
      "[13:25:19] SMILES Parse Error: Failed parsing SMILES 'CC1COC2=C3C=CC=CC2=CC=C1)CNC(C)C' for input: 'CC1COC2=C3C=CC=CC2=CC=C1)CNC(C)C'\n"
     ]
    },
    {
     "ename": "ArgumentError",
     "evalue": "Python argument types in\n    rdkit.Chem.rdMolDescriptors.GetMorganFingerprintAsBitVect(NoneType, int)\ndid not match C++ signature:\n    GetMorganFingerprintAsBitVect(RDKit::ROMol mol, unsigned int radius, unsigned int nBits=2048, boost::python::api::object invariants=[], boost::python::api::object fromAtoms=[], bool useChirality=False, bool useBondTypes=True, bool useFeatures=False, boost::python::api::object bitInfo=None, bool includeRedundantEnvironments=False)",
     "output_type": "error",
     "traceback": [
      "\u001B[0;31m---------------------------------------------------------------------------\u001B[0m",
      "\u001B[0;31mArgumentError\u001B[0m                             Traceback (most recent call last)",
      "Cell \u001B[0;32mIn[155], line 7\u001B[0m\n\u001B[1;32m      5\u001B[0m decoded \u001B[38;5;241m=\u001B[39m decoder(encoded)\n\u001B[1;32m      6\u001B[0m \u001B[38;5;28mprint\u001B[39m(devectorize(decoded\u001B[38;5;241m.\u001B[39mdetach()\u001B[38;5;241m.\u001B[39mnumpy())[\u001B[38;5;241m0\u001B[39m])\n\u001B[0;32m----> 7\u001B[0m \u001B[43mtanimoto_similarity\u001B[49m\u001B[43m(\u001B[49m\u001B[43mpropranolol\u001B[49m\u001B[43m,\u001B[49m\u001B[43m \u001B[49m\u001B[43mdevectorize\u001B[49m\u001B[43m(\u001B[49m\u001B[43mdecoded\u001B[49m\u001B[38;5;241;43m.\u001B[39;49m\u001B[43mdetach\u001B[49m\u001B[43m(\u001B[49m\u001B[43m)\u001B[49m\u001B[38;5;241;43m.\u001B[39;49m\u001B[43mnumpy\u001B[49m\u001B[43m(\u001B[49m\u001B[43m)\u001B[49m\u001B[43m)\u001B[49m\u001B[43m[\u001B[49m\u001B[38;5;241;43m0\u001B[39;49m\u001B[43m]\u001B[49m\u001B[43m)\u001B[49m\n",
      "Cell \u001B[0;32mIn[145], line 10\u001B[0m, in \u001B[0;36mtanimoto_similarity\u001B[0;34m(smiles1, smiles2)\u001B[0m\n\u001B[1;32m      8\u001B[0m mol2 \u001B[38;5;241m=\u001B[39m Chem\u001B[38;5;241m.\u001B[39mMolFromSmiles(smiles2)\n\u001B[1;32m      9\u001B[0m fp1 \u001B[38;5;241m=\u001B[39m AllChem\u001B[38;5;241m.\u001B[39mGetMorganFingerprintAsBitVect(mol1, \u001B[38;5;241m2\u001B[39m)\n\u001B[0;32m---> 10\u001B[0m fp2 \u001B[38;5;241m=\u001B[39m \u001B[43mAllChem\u001B[49m\u001B[38;5;241;43m.\u001B[39;49m\u001B[43mGetMorganFingerprintAsBitVect\u001B[49m\u001B[43m(\u001B[49m\u001B[43mmol2\u001B[49m\u001B[43m,\u001B[49m\u001B[43m \u001B[49m\u001B[38;5;241;43m2\u001B[39;49m\u001B[43m)\u001B[49m\n\u001B[1;32m     11\u001B[0m \u001B[38;5;28;01mreturn\u001B[39;00m DataStructs\u001B[38;5;241m.\u001B[39mFingerprintSimilarity(fp1, fp2)\n",
      "\u001B[0;31mArgumentError\u001B[0m: Python argument types in\n    rdkit.Chem.rdMolDescriptors.GetMorganFingerprintAsBitVect(NoneType, int)\ndid not match C++ signature:\n    GetMorganFingerprintAsBitVect(RDKit::ROMol mol, unsigned int radius, unsigned int nBits=2048, boost::python::api::object invariants=[], boost::python::api::object fromAtoms=[], bool useChirality=False, bool useBondTypes=True, bool useFeatures=False, boost::python::api::object bitInfo=None, bool includeRedundantEnvironments=False)"
     ]
    }
   ],
   "source": [
    "mdma = 'CC(NC)CC1=CC=C(OCO2)C2=C1'\n",
    "propranolol = 'OC(COC1=C2C=CC=CC2=CC=C1)CNC(C)C'\n",
    "x = vectorize([propranolol])\n",
    "encoded = encoder(torch.Tensor(x))\n",
    "decoded = decoder(encoded)\n",
    "print(devectorize(decoded.detach().numpy())[0])\n",
    "tanimoto_similarity(propranolol, devectorize(decoded.detach().numpy())[0])"
   ],
   "metadata": {
    "collapsed": false
   }
  },
  {
   "cell_type": "code",
   "execution_count": 156,
   "outputs": [],
   "source": [
    "meth = 'C1=CC2=C(C=C1O)C(=CN2)CCN'\n",
    "meth_vec = vectorize([meth])\n",
    "meth_encoded = encoder(torch.Tensor(meth_vec))\n",
    "meth_decoded = decoder(meth_encoded)"
   ],
   "metadata": {
    "collapsed": false
   }
  },
  {
   "cell_type": "code",
   "execution_count": 157,
   "outputs": [
    {
     "name": "stdout",
     "output_type": "stream",
     "text": [
      "CCNC12=C(C=C1O)C(=CN2)CCN\n"
     ]
    }
   ],
   "source": [
    "print(devectorize(meth_decoded.detach().numpy())[0])"
   ],
   "metadata": {
    "collapsed": false
   }
  },
  {
   "cell_type": "code",
   "execution_count": 158,
   "outputs": [
    {
     "name": "stderr",
     "output_type": "stream",
     "text": [
      "[13:25:23] Explicit valence for atom # 3 C, 5, is greater than permitted\n"
     ]
    },
    {
     "ename": "ArgumentError",
     "evalue": "Python argument types in\n    rdkit.Chem.rdMolDescriptors.GetMorganFingerprintAsBitVect(NoneType, int)\ndid not match C++ signature:\n    GetMorganFingerprintAsBitVect(RDKit::ROMol mol, unsigned int radius, unsigned int nBits=2048, boost::python::api::object invariants=[], boost::python::api::object fromAtoms=[], bool useChirality=False, bool useBondTypes=True, bool useFeatures=False, boost::python::api::object bitInfo=None, bool includeRedundantEnvironments=False)",
     "output_type": "error",
     "traceback": [
      "\u001B[0;31m---------------------------------------------------------------------------\u001B[0m",
      "\u001B[0;31mArgumentError\u001B[0m                             Traceback (most recent call last)",
      "Cell \u001B[0;32mIn[158], line 1\u001B[0m\n\u001B[0;32m----> 1\u001B[0m \u001B[43mtanimoto_similarity\u001B[49m\u001B[43m(\u001B[49m\u001B[43mmeth\u001B[49m\u001B[43m,\u001B[49m\u001B[43m \u001B[49m\u001B[43mdevectorize\u001B[49m\u001B[43m(\u001B[49m\u001B[43mmeth_decoded\u001B[49m\u001B[38;5;241;43m.\u001B[39;49m\u001B[43mdetach\u001B[49m\u001B[43m(\u001B[49m\u001B[43m)\u001B[49m\u001B[38;5;241;43m.\u001B[39;49m\u001B[43mnumpy\u001B[49m\u001B[43m(\u001B[49m\u001B[43m)\u001B[49m\u001B[43m)\u001B[49m\u001B[43m[\u001B[49m\u001B[38;5;241;43m0\u001B[39;49m\u001B[43m]\u001B[49m\u001B[43m)\u001B[49m\n",
      "Cell \u001B[0;32mIn[145], line 10\u001B[0m, in \u001B[0;36mtanimoto_similarity\u001B[0;34m(smiles1, smiles2)\u001B[0m\n\u001B[1;32m      8\u001B[0m mol2 \u001B[38;5;241m=\u001B[39m Chem\u001B[38;5;241m.\u001B[39mMolFromSmiles(smiles2)\n\u001B[1;32m      9\u001B[0m fp1 \u001B[38;5;241m=\u001B[39m AllChem\u001B[38;5;241m.\u001B[39mGetMorganFingerprintAsBitVect(mol1, \u001B[38;5;241m2\u001B[39m)\n\u001B[0;32m---> 10\u001B[0m fp2 \u001B[38;5;241m=\u001B[39m \u001B[43mAllChem\u001B[49m\u001B[38;5;241;43m.\u001B[39;49m\u001B[43mGetMorganFingerprintAsBitVect\u001B[49m\u001B[43m(\u001B[49m\u001B[43mmol2\u001B[49m\u001B[43m,\u001B[49m\u001B[43m \u001B[49m\u001B[38;5;241;43m2\u001B[39;49m\u001B[43m)\u001B[49m\n\u001B[1;32m     11\u001B[0m \u001B[38;5;28;01mreturn\u001B[39;00m DataStructs\u001B[38;5;241m.\u001B[39mFingerprintSimilarity(fp1, fp2)\n",
      "\u001B[0;31mArgumentError\u001B[0m: Python argument types in\n    rdkit.Chem.rdMolDescriptors.GetMorganFingerprintAsBitVect(NoneType, int)\ndid not match C++ signature:\n    GetMorganFingerprintAsBitVect(RDKit::ROMol mol, unsigned int radius, unsigned int nBits=2048, boost::python::api::object invariants=[], boost::python::api::object fromAtoms=[], bool useChirality=False, bool useBondTypes=True, bool useFeatures=False, boost::python::api::object bitInfo=None, bool includeRedundantEnvironments=False)"
     ]
    }
   ],
   "source": [
    "tanimoto_similarity(meth, devectorize(meth_decoded.detach().numpy())[0])"
   ],
   "metadata": {
    "collapsed": false
   }
  },
  {
   "cell_type": "code",
   "execution_count": 159,
   "outputs": [
    {
     "data": {
      "text/plain": "0.11320754716981132"
     },
     "execution_count": 159,
     "metadata": {},
     "output_type": "execute_result"
    }
   ],
   "source": [
    "tanimoto_similarity(meth, mdma)"
   ],
   "metadata": {
    "collapsed": false
   }
  },
  {
   "cell_type": "code",
   "execution_count": 160,
   "outputs": [
    {
     "data": {
      "text/plain": "1.2161215543746948"
     },
     "execution_count": 160,
     "metadata": {},
     "output_type": "execute_result"
    }
   ],
   "source": [
    "# calculate distance between two vectors\n",
    "from scipy.spatial.distance import cosine\n",
    "cosine(meth_encoded.detach().numpy()[0], encoded.detach().numpy()[0])"
   ],
   "metadata": {
    "collapsed": false
   }
  },
  {
   "cell_type": "code",
   "execution_count": 161,
   "outputs": [],
   "source": [
    "mdma_analog = 'CNC(CC1=CC=C2OC(C)OC2=C1)C(C)C'\n",
    "mdma_analog_vec = vectorize([mdma_analog])\n",
    "mdma_analog_encoded = encoder(torch.Tensor(mdma_analog_vec))\n",
    "mdma_analog_decoded = decoder(mdma_analog_encoded)"
   ],
   "metadata": {
    "collapsed": false
   }
  },
  {
   "cell_type": "code",
   "execution_count": 162,
   "outputs": [
    {
     "name": "stdout",
     "output_type": "stream",
     "text": [
      "CCC(CC1=CC=C2OC(C)OC2=C1)C(C)C\n"
     ]
    }
   ],
   "source": [
    "print(devectorize(mdma_analog_decoded.detach().numpy())[0])"
   ],
   "metadata": {
    "collapsed": false
   }
  },
  {
   "cell_type": "code",
   "execution_count": 163,
   "outputs": [
    {
     "data": {
      "text/plain": "0.4318181818181818"
     },
     "execution_count": 163,
     "metadata": {},
     "output_type": "execute_result"
    }
   ],
   "source": [
    "tanimoto_similarity(mdma_analog, mdma)"
   ],
   "metadata": {
    "collapsed": false
   }
  },
  {
   "cell_type": "code",
   "execution_count": 164,
   "outputs": [
    {
     "data": {
      "text/plain": "0.7898859232664108"
     },
     "execution_count": 164,
     "metadata": {},
     "output_type": "execute_result"
    }
   ],
   "source": [
    "cosine(mdma_analog_encoded.detach().numpy()[0], encoded.detach().numpy()[0])"
   ],
   "metadata": {
    "collapsed": false
   }
  },
  {
   "cell_type": "code",
   "execution_count": 165,
   "outputs": [],
   "source": [
    "import pubchempy as pcp"
   ],
   "metadata": {
    "collapsed": false
   }
  },
  {
   "cell_type": "code",
   "execution_count": 168,
   "outputs": [
    {
     "name": "stdout",
     "output_type": "stream",
     "text": [
      "Alanine CC(C(=O)O)N\n",
      "Arginine C(CC(C(=O)O)N)CN=C(N)N\n",
      "Asparagine C(C(C(=O)O)N)C(=O)N\n",
      "Aspartic acid C(C(C(=O)O)N)C(=O)O\n",
      "Cysteine C(C(C(=O)O)N)S\n",
      "Glutamic acid C(CC(=O)O)C(C(=O)O)N\n",
      "Glutamine C(CC(=O)N)C(C(=O)O)N\n",
      "Glycine C(C(=O)O)N\n",
      "Histidine C1=C(NC=N1)CC(C(=O)O)N\n",
      "Isoleucine CCC(C)C(C(=O)O)N\n",
      "Leucine CC(C)CC(C(=O)O)N\n",
      "Lysine C(CCN)CC(C(=O)O)N\n",
      "Methionine CSCCC(C(=O)O)N\n",
      "Phenylalanine C1=CC=C(C=C1)CC(C(=O)O)N\n",
      "Proline C1CC(NC1)C(=O)O\n",
      "Serine C(C(C(=O)O)N)O\n",
      "Threonine CC(C(C(=O)O)N)O\n",
      "Tryptophan C1=CC=C2C(=C1)C(=CN2)CC(C(=O)O)N\n",
      "Tyrosine C1=CC(=CC=C1CC(C(=O)O)N)O\n",
      "Valine CC(C)C(C(=O)O)N\n"
     ]
    }
   ],
   "source": [
    "# get all amino acids\n",
    "names = ['Alanine', 'Arginine', 'Asparagine', 'Aspartic acid', 'Cysteine', 'Glutamic acid', 'Glutamine', 'Glycine', 'Histidine', 'Isoleucine', 'Leucine', 'Lysine', 'Methionine', 'Phenylalanine', 'Proline', 'Serine', 'Threonine', 'Tryptophan', 'Tyrosine', 'Valine']\n",
    "aa_smiles = []\n",
    "for name in names:\n",
    "    aa = pcp.get_compounds(name, 'name')\n",
    "    print(name, aa[0].canonical_smiles)\n",
    "    aa_smiles.append(aa[0].canonical_smiles)"
   ],
   "metadata": {
    "collapsed": false
   }
  },
  {
   "cell_type": "code",
   "execution_count": 169,
   "outputs": [
    {
     "data": {
      "text/plain": "20"
     },
     "execution_count": 169,
     "metadata": {},
     "output_type": "execute_result"
    }
   ],
   "source": [
    "len(aa_smiles)"
   ],
   "metadata": {
    "collapsed": false
   }
  },
  {
   "cell_type": "code",
   "execution_count": 170,
   "outputs": [],
   "source": [
    "aa_vec = vectorize(aa_smiles)\n",
    "aa_encoded = encoder(torch.Tensor(aa_vec))"
   ],
   "metadata": {
    "collapsed": false
   }
  },
  {
   "cell_type": "code",
   "execution_count": 171,
   "outputs": [],
   "source": [
    "aa_encoded = aa_encoded.detach().numpy()"
   ],
   "metadata": {
    "collapsed": false
   }
  },
  {
   "cell_type": "code",
   "execution_count": 172,
   "outputs": [],
   "source": [
    "from sklearn.decomposition import PCA\n",
    "pca = PCA(n_components=2)\n",
    "vec_pca = pca.fit_transform(aa_encoded)"
   ],
   "metadata": {
    "collapsed": false
   }
  },
  {
   "cell_type": "code",
   "execution_count": 174,
   "outputs": [
    {
     "data": {
      "text/plain": "<Figure size 640x480 with 1 Axes>",
      "image/png": "[encoded data removed]"
     },
     "metadata": {},
     "output_type": "display_data"
    }
   ],
   "source": [
    "# plot PCA\n",
    "import matplotlib.pyplot as plt\n",
    "plt.scatter(vec_pca[:,0], vec_pca[:,1])\n",
    "plt.xlabel('PC1')\n",
    "plt.ylabel('PC2')\n",
    "for i, txt in enumerate(names):\n",
    "    plt.annotate(txt, (vec_pca[i,0], vec_pca[i,1]))"
   ],
   "metadata": {
    "collapsed": false
   }
  },
  {
   "cell_type": "code",
   "execution_count": 175,
   "outputs": [
    {
     "name": "stdout",
     "output_type": "stream",
     "text": [
      "Alanine: CC(C(=O)O)N -> CC(C(=O)O)NC)=NNNN1N\n",
      "Arginine: C(CC(C(=O)O)N)CN=C(N)N -> CCCC(C(=O)O)N)CN=C(N)N\n",
      "Asparagine: C(C(C(=O)O)N)C(=O)N -> CCC(C(=O)C=N)C(=O)N1\n",
      "Aspartic acid: C(C(C(=O)O)N)C(=O)O -> CCC(C(=O)C=N)C(=O)O\n",
      "Cysteine: C(C(C(=O)O)N)S -> CCC(C(=O)C=N)SN=NN\n",
      "Glutamic acid: C(CC(=O)O)C(C(=O)O)N -> CCCC(=O)O)C(C(=O)O)N\n",
      "Glutamine: C(CC(=O)N)C(C(=O)O)N -> CCCC(=O)N=C(C(=O)O)N\n",
      "Glycine: C(C(=O)O)N -> CCC(=O)O=NN=N)N1NN\n",
      "Histidine: C1=C(NC=N1)CC(C(=O)O)N -> CCOC(NC=N1)CC(C(=O)O)N\n",
      "Isoleucine: CCC(C)C(C(=O)O)N -> CCC(C)C(C(=O)O)N1=N\n",
      "Leucine: CC(C)CC(C(=O)O)N -> CC(C)CC(C(=O)O)N1=N\n",
      "Lysine: C(CCN)CC(C(=O)O)N -> CCCCN=CC(C(=O)O)N1)\n",
      "Methionine: CSCCC(C(=O)O)N -> CCCC1(C(=O)O=NC=NN2\n",
      "Phenylalanine: C1=CC=C(C=C1)CC(C(=O)O)N -> CCNC1=C(C=C1)CC(C(=O)C=N\n",
      "Proline: C1CC(NC1)C(=O)O -> C1OC(NC1)C(=O)OC=NN\n",
      "Serine: C(C(C(=O)O)N)O -> CCC(C(=O)C=N)OC=NN1\n",
      "Threonine: CC(C(C(=O)O)N)O -> CC(C(C(=O)O)N=OC=NN\n",
      "Tryptophan: C1=CC=C2C(=C1)C(=CN2)CC(C(=O)O)N -> CCNC1=C2C(=C1)C(=CN2)CC(C(=O)C#N\n",
      "Tyrosine: C1=CC(=CC=C1CC(C(=O)O)N)O -> CCNC1(=CC=C1CC(C(=O)O)N)O\n",
      "Valine: CC(C)C(C(=O)O)N -> CC(C)C(C(=O)O)NC=NN\n",
      "0.0\n"
     ]
    }
   ],
   "source": [
    "EM_accuracy = 0.0\n",
    "for aa_smi, name in zip(aa_smiles, names):\n",
    "    aa_vec = vectorize([aa_smi])\n",
    "    aa_encoded_s = encoder(torch.Tensor(aa_vec))\n",
    "    aa_decoded_s = decoder(aa_encoded_s)\n",
    "    aa_decoded_smi = devectorize(aa_decoded_s.detach().numpy())[0]\n",
    "    print(f'{name}: {aa_smi} -> {aa_decoded_smi}')\n",
    "    if aa_smi == aa_decoded_smi:\n",
    "        EM_accuracy += 1\n",
    "\n",
    "print(EM_accuracy)"
   ],
   "metadata": {
    "collapsed": false
   }
  },
  {
   "cell_type": "code",
   "execution_count": 185,
   "outputs": [
    {
     "data": {
      "text/plain": "(20, 128)"
     },
     "execution_count": 185,
     "metadata": {},
     "output_type": "execute_result"
    }
   ],
   "source": [
    "from sklearn.manifold import TSNE\n",
    "tsne = TSNE(n_components=2, perplexity=15)\n",
    "aa_encoded.shape"
   ],
   "metadata": {
    "collapsed": false
   }
  },
  {
   "cell_type": "code",
   "execution_count": 186,
   "outputs": [],
   "source": [
    "vec_tsne = tsne.fit_transform(aa_encoded)"
   ],
   "metadata": {
    "collapsed": false
   }
  },
  {
   "cell_type": "code",
   "execution_count": 187,
   "outputs": [
    {
     "data": {
      "text/plain": "<Figure size 640x480 with 1 Axes>",
      "image/png": "[encoded data removed]"
     },
     "metadata": {},
     "output_type": "display_data"
    }
   ],
   "source": [
    "# plot t-SNE\n",
    "import matplotlib.pyplot as plt\n",
    "plt.scatter(vec_tsne[:,0], vec_tsne[:,1])\n",
    "plt.xlabel('t-SNE1')\n",
    "plt.ylabel('t-SNE2')\n",
    "for i, txt in enumerate(names):\n",
    "    plt.annotate(txt, (vec_tsne[i,0], vec_tsne[i,1]))"
   ],
   "metadata": {
    "collapsed": false
   }
  },
  {
   "cell_type": "code",
   "execution_count": null,
   "outputs": [],
   "source": [],
   "metadata": {
    "collapsed": false
   }
  }
 ],
 "metadata": {
  "kernelspec": {
   "name": "conda-env-cadd-py",
   "language": "python",
   "display_name": "Python [conda env:cadd] *"
  },
  "language_info": {
   "codemirror_mode": {
    "name": "ipython",
    "version": 3
   },
   "file_extension": ".py",
   "mimetype": "text/x-python",
   "name": "python",
   "nbconvert_exporter": "python",
   "pygments_lexer": "ipython3",
   "version": "3.8.16"
  }
 },
 "nbformat": 4,
 "nbformat_minor": 1
}

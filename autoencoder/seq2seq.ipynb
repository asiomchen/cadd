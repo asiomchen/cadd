{
 "cells": [
  {
   "cell_type": "code",
   "execution_count": 2,
   "outputs": [],
   "source": [
    "import os\n",
    "import pandas as pd\n",
    "import numpy as np\n",
    "from rdkit import Chem\n",
    "from rdkit.Chem import Draw, Descriptors\n",
    "from matplotlib import pyplot as plt\n",
    "import torch\n",
    "import torch.nn as nn\n",
    "from tqdm.notebook import tqdm\n",
    "from torch.utils.data import DataLoader, random_split, Dataset"
   ],
   "metadata": {
    "collapsed": false
   }
  },
  {
   "cell_type": "code",
   "execution_count": 3,
   "outputs": [
    {
     "name": "stdout",
     "output_type": "stream",
     "text": [
      "cuda\n"
     ]
    }
   ],
   "source": [
    "# check GPU\n",
    "device = torch.device(\"cuda\" if torch.cuda.is_available() else \"cpu\")\n",
    "print(device)"
   ],
   "metadata": {
    "collapsed": false
   }
  },
  {
   "cell_type": "code",
   "execution_count": 4,
   "outputs": [
    {
     "data": {
      "text/plain": "device(type='cuda')"
     },
     "execution_count": 4,
     "metadata": {},
     "output_type": "execute_result"
    }
   ],
   "source": [
    "device = torch.device(device)\n",
    "device"
   ],
   "metadata": {
    "collapsed": false
   }
  },
  {
   "cell_type": "code",
   "execution_count": 5,
   "outputs": [],
   "source": [
    "smifile = \"GDB17.50000000LLnoSR.smi\"\n",
    "data = pd.read_csv(smifile, delimiter = \"\\t\", names = [\"smiles\"])\n",
    "data = data[:50000]"
   ],
   "metadata": {
    "collapsed": false
   }
  },
  {
   "cell_type": "code",
   "execution_count": 6,
   "outputs": [
    {
     "data": {
      "text/plain": "                                  smiles\n0    BrC1=C2C3=C4C(CC3CCC2=O)C(=N)NC4=N1\n1     BrC1=C2C3C4CCC(C4)C3C(=N)OC2=NC=C1\n2     BrC1=C2C3C4CCC(O4)C3(OC2=NC=C1)C#C\n3     BrC1=C2C3C4CNC(C4)(C#N)C3OC2=NC=C1\n4  BrC1=C2C3=C4C(OC(=O)C4=CC2=O)=CC3=NO1",
      "text/html": "<div>\n<style scoped>\n    .dataframe tbody tr th:only-of-type {\n        vertical-align: middle;\n    }\n\n    .dataframe tbody tr th {\n        vertical-align: top;\n    }\n\n    .dataframe thead th {\n        text-align: right;\n    }\n</style>\n<table border=\"1\" class=\"dataframe\">\n  <thead>\n    <tr style=\"text-align: right;\">\n      <th></th>\n      <th>smiles</th>\n    </tr>\n  </thead>\n  <tbody>\n    <tr>\n      <th>0</th>\n      <td>BrC1=C2C3=C4C(CC3CCC2=O)C(=N)NC4=N1</td>\n    </tr>\n    <tr>\n      <th>1</th>\n      <td>BrC1=C2C3C4CCC(C4)C3C(=N)OC2=NC=C1</td>\n    </tr>\n    <tr>\n      <th>2</th>\n      <td>BrC1=C2C3C4CCC(O4)C3(OC2=NC=C1)C#C</td>\n    </tr>\n    <tr>\n      <th>3</th>\n      <td>BrC1=C2C3C4CNC(C4)(C#N)C3OC2=NC=C1</td>\n    </tr>\n    <tr>\n      <th>4</th>\n      <td>BrC1=C2C3=C4C(OC(=O)C4=CC2=O)=CC3=NO1</td>\n    </tr>\n  </tbody>\n</table>\n</div>"
     },
     "execution_count": 6,
     "metadata": {},
     "output_type": "execute_result"
    }
   ],
   "source": [
    "data.head()"
   ],
   "metadata": {
    "collapsed": false
   }
  },
  {
   "cell_type": "code",
   "execution_count": 21,
   "outputs": [],
   "source": [
    "class Vectorizer:\n",
    "    def __init__(self, method=\"char_vector\"):\n",
    "        self.method = method\n",
    "    def fit(self, smiles):\n",
    "        self.charset = set(\"\".join(list(smiles))+\"?E\")\n",
    "        self.vocab_size = len(self.charset)\n",
    "        self.char_to_int = dict((c,i) for i,c in enumerate(self.charset))\n",
    "        self.int_to_char = dict((i,c) for i,c in enumerate(self.charset))\n",
    "        self.max_len = max([len(smile) for smile in smiles]) + 5\n",
    "        self.padding_id = self.char_to_int[\"E\"]\n",
    "    def transform(self, smiles):\n",
    "        if self.method == \"char_vector\":\n",
    "            return self.char_vectorize(smiles)\n",
    "        elif self.method == \"one_hot\":\n",
    "            return self.one_hot_vectorize(smiles)\n",
    "        else:\n",
    "            raise ValueError(\"Vectorizer method not recognized\")\n",
    "    def one_hot_vectorize(self, smiles):\n",
    "        raise NotImplementedError\n",
    "\n",
    "    def reconstruct(self, X):\n",
    "        if self.method == \"char_vector\":\n",
    "            return self.devectorize_char(X)\n",
    "        elif self.method == \"one_hot\":\n",
    "            return self.devectorize_one_hot(X)\n",
    "        else:\n",
    "            raise ValueError(\"Vectorizer method not recognized\")\n",
    "    def char_vectorize(self, smiles):\n",
    "        ''' Vectorize a list of SMILES strings to a numpy array with char_to_int encoding'''\n",
    "        X = np.zeros((len(smiles), self.max_len))\n",
    "        for i,smile in enumerate(smiles):\n",
    "            for j,char in enumerate(smile):\n",
    "                X[i,j] = self.char_to_int[char]\n",
    "            X[i,j+1:] = self.char_to_int[\"?\"]\n",
    "            X[i,j+2:] = self.char_to_int[\"E\"]\n",
    "        return torch.LongTensor(X)\n",
    "    def devectorize_char(self, X):\n",
    "        ''' Devectorize a numpy array of shape (len(smiles), embed) to a list of SMILES strings'''\n",
    "        if type(X) == torch.Tensor:\n",
    "            X = X.numpy()\n",
    "        if type(X) == list:\n",
    "            X = np.array(X)\n",
    "        smiles = []\n",
    "        for i in range(X.shape[0]):\n",
    "            smile = \"\"\n",
    "            for j in range(X.shape[1]):\n",
    "                smile += self.int_to_char[X[i,j]]\n",
    "            smiles.append(smile)\n",
    "        # Remove padding\n",
    "        smiles = [smile.replace(\"?\",\"\").replace(\"E\",\"\") for smile in smiles]\n",
    "        return smiles\n",
    "    def devectorize_one_hot(self, X):\n",
    "        raise NotImplementedError"
   ],
   "metadata": {
    "collapsed": false
   }
  },
  {
   "cell_type": "code",
   "execution_count": 25,
   "outputs": [],
   "source": [
    "class SMILESDataset(Dataset):\n",
    "    def __init__(self, data):\n",
    "        self.data = data\n",
    "        self.X = data.smiles\n",
    "\n",
    "    def __len__(self):\n",
    "        return len(self.data)\n",
    "\n",
    "    def __getitem__(self, idx):\n",
    "        return self.X[idx]"
   ],
   "metadata": {
    "collapsed": false
   }
  },
  {
   "cell_type": "code",
   "execution_count": 26,
   "outputs": [],
   "source": [
    "tokenizer = Vectorizer(method=\"char_vector\")\n",
    "tokenizer.fit(data.smiles)"
   ],
   "metadata": {
    "collapsed": false
   }
  },
  {
   "cell_type": "code",
   "execution_count": 27,
   "outputs": [
    {
     "data": {
      "text/plain": "tensor([[ 7, 24,  3, 21, 13,  3, 22,  3,  9, 13,  3, 14,  3,  0,  3,  3,  9,  3,\n          3,  3, 22, 13, 19, 17,  3,  0, 13, 20, 17, 20,  3, 14, 13, 20, 21, 15,\n         18, 18, 18, 18, 18, 18, 18, 18, 18, 18, 18],\n        [ 7, 24,  3, 21, 13,  3, 22,  3,  9,  3, 14,  3,  3,  3,  0,  3, 14, 17,\n          3,  9,  3,  0, 13, 20, 17, 19,  3, 22, 13, 20,  3, 13,  3, 21, 15, 18,\n         18, 18, 18, 18, 18, 18, 18, 18, 18, 18, 18]])"
     },
     "execution_count": 27,
     "metadata": {},
     "output_type": "execute_result"
    }
   ],
   "source": [
    "tokenized = tokenizer.transform(data.smiles[:2])\n",
    "tokenized"
   ],
   "metadata": {
    "collapsed": false
   }
  },
  {
   "cell_type": "code",
   "execution_count": 28,
   "outputs": [],
   "source": [
    "train_data = SMILESDataset(data)"
   ],
   "metadata": {
    "collapsed": false
   }
  },
  {
   "cell_type": "code",
   "execution_count": 29,
   "outputs": [
    {
     "data": {
      "text/plain": "'BrC1=C2C3=C4C(CC3CCC2=O)C(=N)NC4=N1'"
     },
     "execution_count": 29,
     "metadata": {},
     "output_type": "execute_result"
    }
   ],
   "source": [
    "train_data[0]"
   ],
   "metadata": {
    "collapsed": false
   }
  },
  {
   "cell_type": "code",
   "execution_count": null,
   "outputs": [],
   "source": [],
   "metadata": {
    "collapsed": false
   }
  }
 ],
 "metadata": {
  "kernelspec": {
   "display_name": "Python 3",
   "language": "python",
   "name": "python3"
  },
  "language_info": {
   "codemirror_mode": {
    "name": "ipython",
    "version": 2
   },
   "file_extension": ".py",
   "mimetype": "text/x-python",
   "name": "python",
   "nbconvert_exporter": "python",
   "pygments_lexer": "ipython2",
   "version": "2.7.6"
  }
 },
 "nbformat": 4,
 "nbformat_minor": 0
}

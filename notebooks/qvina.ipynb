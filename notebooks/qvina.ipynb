{
 "cells": [
  {
   "cell_type": "code",
   "execution_count": 1,
   "metadata": {
    "collapsed": true
   },
   "outputs": [],
   "source": [
    "import sys\n",
    "\n",
    "import pandas as pd\n",
    "\n",
    "sys.path.insert(0, '..')"
   ]
  },
  {
   "cell_type": "code",
   "execution_count": 5,
   "outputs": [],
   "source": [
    "protein = '/home/anton/PycharmProjects/cadd/data/prots/cox2.pdbqt'"
   ],
   "metadata": {
    "collapsed": false
   }
  },
  {
   "cell_type": "code",
   "execution_count": 6,
   "outputs": [],
   "source": [
    "from protein_preparation.protein_preparation import *"
   ],
   "metadata": {
    "collapsed": false
   }
  },
  {
   "cell_type": "code",
   "execution_count": 7,
   "outputs": [
    {
     "name": "stdout",
     "output_type": "stream",
     "text": [
      "[30.42400122 28.46949863 22.03649998]\n",
      "[ 87.95000172 103.20899773 100.06300163]\n"
     ]
    }
   ],
   "source": [
    "centroid, box_dims = get_box(protein, extending=5.0)\n",
    "print(centroid, box_dims, sep='\\n')"
   ],
   "metadata": {
    "collapsed": false
   }
  },
  {
   "cell_type": "code",
   "execution_count": 8,
   "outputs": [
    {
     "name": "stdout",
     "output_type": "stream",
     "text": [
      "Missing receptor.\r\n",
      "\r\n",
      "Correct usage:\r\n",
      "\r\n",
      "Input:\r\n",
      "  --receptor arg             rigid part of the receptor (PDBQT)\r\n",
      "  --flex arg                 flexible side chains, if any (PDBQT)\r\n",
      "  --ligand arg               ligand (PDBQT)\r\n",
      "\r\n",
      "Search space (required):\r\n",
      "  --center_x arg             X coordinate of the center\r\n",
      "  --center_y arg             Y coordinate of the center\r\n",
      "  --center_z arg             Z coordinate of the center\r\n",
      "  --size_x arg               size in the X dimension (Angstroms)\r\n",
      "  --size_y arg               size in the Y dimension (Angstroms)\r\n",
      "  --size_z arg               size in the Z dimension (Angstroms)\r\n",
      "\r\n",
      "Output (optional):\r\n",
      "  --out arg                  output models (PDBQT), the default is chosen based\r\n",
      "                             on the ligand file name\r\n",
      "  --log arg                  optionally, write log file\r\n",
      "\r\n",
      "Misc (optional):\r\n",
      "  --cpu arg                  the number of CPUs to use (the default is to try \r\n",
      "                             to detect the number of CPUs or, failing that, use\r\n",
      "                             1)\r\n",
      "  --seed arg                 explicit random seed\r\n",
      "  --exhaustiveness arg (=8)  exhaustiveness of the global search (roughly \r\n",
      "                             proportional to time): 1+\r\n",
      "  --num_modes arg (=9)       maximum number of binding modes to generate\r\n",
      "  --energy_range arg (=3)    maximum energy difference between the best binding\r\n",
      "                             mode and the worst one displayed (kcal/mol)\r\n",
      "\r\n",
      "Configuration file (optional):\r\n",
      "  --config arg               the above options can be put here\r\n",
      "\r\n",
      "Information (optional):\r\n",
      "  --help                     display usage summary\r\n",
      "  --help_advanced            display usage summary with advanced options\r\n",
      "  --version                  display program version\r\n",
      "\r\n"
     ]
    }
   ],
   "source": [
    "!./qvina-w"
   ],
   "metadata": {
    "collapsed": false
   }
  },
  {
   "cell_type": "code",
   "execution_count": 9,
   "outputs": [],
   "source": [
    "from molecular_docking.qvina_docking import *"
   ],
   "metadata": {
    "collapsed": false
   }
  },
  {
   "cell_type": "code",
   "execution_count": 10,
   "outputs": [],
   "source": [
    "test_df = pd.read_csv('/home/anton/PycharmProjects/cadd/data/joined_results.csv')"
   ],
   "metadata": {
    "collapsed": false
   }
  },
  {
   "cell_type": "code",
   "execution_count": 11,
   "outputs": [
    {
     "data": {
      "text/plain": "          ID  Affinity_1  CNNscore_1  CNNaffinity_1  Realative_affinity  \\\n0  CHEMBL622  -11.517095    0.326144       9.437337           -3.756234   \n1  CHEMBL956   -8.804907    0.408616       8.724112           -3.597827   \n2    CHEMBL6   -8.720407    0.407148       8.934416           -3.550500   \n3     25-ref   -8.743291    0.395045       7.704820           -3.453990   \n4  CHEMBL154   -9.302682    0.365885       8.345302           -3.403714   \n\n   Affinity_1_smina  Affinity_2_smina  Affinity_3_smina  Affinity_4_smina  \\\n0        -11.681115        -11.534886        -11.410219        -11.376697   \n1         -9.356826         -9.252730         -9.100626         -8.871902   \n2        -10.302375         -9.918255         -9.662663         -9.633802   \n3         -9.530845         -9.497015         -9.365493         -9.124116   \n4         -9.301667         -8.982399         -8.896075         -8.777915   \n\n   Affinity_5_smina  \n0        -10.802636  \n1         -8.727815  \n2         -9.550676  \n3         -8.985881  \n4         -8.764978  ",
      "text/html": "<div>\n<style scoped>\n    .dataframe tbody tr th:only-of-type {\n        vertical-align: middle;\n    }\n\n    .dataframe tbody tr th {\n        vertical-align: top;\n    }\n\n    .dataframe thead th {\n        text-align: right;\n    }\n</style>\n<table border=\"1\" class=\"dataframe\">\n  <thead>\n    <tr style=\"text-align: right;\">\n      <th></th>\n      <th>ID</th>\n      <th>Affinity_1</th>\n      <th>CNNscore_1</th>\n      <th>CNNaffinity_1</th>\n      <th>Realative_affinity</th>\n      <th>Affinity_1_smina</th>\n      <th>Affinity_2_smina</th>\n      <th>Affinity_3_smina</th>\n      <th>Affinity_4_smina</th>\n      <th>Affinity_5_smina</th>\n    </tr>\n  </thead>\n  <tbody>\n    <tr>\n      <th>0</th>\n      <td>CHEMBL622</td>\n      <td>-11.517095</td>\n      <td>0.326144</td>\n      <td>9.437337</td>\n      <td>-3.756234</td>\n      <td>-11.681115</td>\n      <td>-11.534886</td>\n      <td>-11.410219</td>\n      <td>-11.376697</td>\n      <td>-10.802636</td>\n    </tr>\n    <tr>\n      <th>1</th>\n      <td>CHEMBL956</td>\n      <td>-8.804907</td>\n      <td>0.408616</td>\n      <td>8.724112</td>\n      <td>-3.597827</td>\n      <td>-9.356826</td>\n      <td>-9.252730</td>\n      <td>-9.100626</td>\n      <td>-8.871902</td>\n      <td>-8.727815</td>\n    </tr>\n    <tr>\n      <th>2</th>\n      <td>CHEMBL6</td>\n      <td>-8.720407</td>\n      <td>0.407148</td>\n      <td>8.934416</td>\n      <td>-3.550500</td>\n      <td>-10.302375</td>\n      <td>-9.918255</td>\n      <td>-9.662663</td>\n      <td>-9.633802</td>\n      <td>-9.550676</td>\n    </tr>\n    <tr>\n      <th>3</th>\n      <td>25-ref</td>\n      <td>-8.743291</td>\n      <td>0.395045</td>\n      <td>7.704820</td>\n      <td>-3.453990</td>\n      <td>-9.530845</td>\n      <td>-9.497015</td>\n      <td>-9.365493</td>\n      <td>-9.124116</td>\n      <td>-8.985881</td>\n    </tr>\n    <tr>\n      <th>4</th>\n      <td>CHEMBL154</td>\n      <td>-9.302682</td>\n      <td>0.365885</td>\n      <td>8.345302</td>\n      <td>-3.403714</td>\n      <td>-9.301667</td>\n      <td>-8.982399</td>\n      <td>-8.896075</td>\n      <td>-8.777915</td>\n      <td>-8.764978</td>\n    </tr>\n  </tbody>\n</table>\n</div>"
     },
     "execution_count": 11,
     "metadata": {},
     "output_type": "execute_result"
    }
   ],
   "source": [
    "test_df.head()"
   ],
   "metadata": {
    "collapsed": false
   }
  },
  {
   "cell_type": "code",
   "execution_count": 12,
   "outputs": [
    {
     "data": {
      "text/plain": "   Unnamed: 0 Molecule ChEMBL ID  \\\n0           0       CHEMBL134342   \n1         552         CHEMBL1077   \n2         634      CHEMBL1630249   \n3         633      CHEMBL1630225   \n4         692      CHEMBL1288592   \n\n                                          Smiles Standard Type  \\\n0                         O=C(O)CCCC[C@@H]1CCSS1          IC50   \n1            Nc1c(CC(=O)O)cccc1C(=O)c1ccc(Br)cc1          IC50   \n2   CCCc1cc2c(cc1Cl)C=C(C(=O)O)[C@H](C(F)(F)F)O2          IC50   \n3  CC(C)(C)c1cc2c(cc1Cl)C=C(C(=O)O)C(C(F)(F)F)O2          IC50   \n4      O=C(O)C1=Cc2c(cc(Cl)c(Cl)c2Cl)OC1C(F)(F)F          IC50   \n\n   Standard Value Standard Units  \\\n0           0.000             nM   \n1           4.803             nM   \n2           5.000             nM   \n3           5.000             nM   \n4           6.000             nM   \n\n                                                 Mol  fr_Al_COO  fr_Ar_COO  \\\n0  <img data-content=\"rdkit/molecule\" src=\"data:i...          1          0   \n1  <img data-content=\"rdkit/molecule\" src=\"data:i...          1          0   \n2  <img data-content=\"rdkit/molecule\" src=\"data:i...          1          0   \n3  <img data-content=\"rdkit/molecule\" src=\"data:i...          1          0   \n4  <img data-content=\"rdkit/molecule\" src=\"data:i...          1          0   \n\n   fr_Al_COO+fr_Ar_COO                                          conjugate  \n0                    1  O=C(CCCC[C@@H]1CCSS1)NCCCCCCNC(=O)c1ccc(-c2c3n...  \n1                    1  Nc1c(CC(=O)NCCCCCCNC(=O)c2ccc(-c3c4nc(c(-c5c(F...  \n2                    1  CCCc1cc2c(cc1Cl)C=C(C(=O)NCCCCCCNC(=O)c1ccc(-c...  \n3                    1  CC(C)(C)c1cc2c(cc1Cl)C=C(C(=O)NCCCCCCNC(=O)c1c...  \n4                    1  O=C(NCCCCCCNC(=O)c1ccc(-c2c3nc(c(-c4c(F)c(F)c(...  ",
      "text/html": "<div>\n<style scoped>\n    .dataframe tbody tr th:only-of-type {\n        vertical-align: middle;\n    }\n\n    .dataframe tbody tr th {\n        vertical-align: top;\n    }\n\n    .dataframe thead th {\n        text-align: right;\n    }\n</style>\n<table border=\"1\" class=\"dataframe\">\n  <thead>\n    <tr style=\"text-align: right;\">\n      <th></th>\n      <th>Unnamed: 0</th>\n      <th>Molecule ChEMBL ID</th>\n      <th>Smiles</th>\n      <th>Standard Type</th>\n      <th>Standard Value</th>\n      <th>Standard Units</th>\n      <th>Mol</th>\n      <th>fr_Al_COO</th>\n      <th>fr_Ar_COO</th>\n      <th>fr_Al_COO+fr_Ar_COO</th>\n      <th>conjugate</th>\n    </tr>\n  </thead>\n  <tbody>\n    <tr>\n      <th>0</th>\n      <td>0</td>\n      <td>CHEMBL134342</td>\n      <td>O=C(O)CCCC[C@@H]1CCSS1</td>\n      <td>IC50</td>\n      <td>0.000</td>\n      <td>nM</td>\n      <td>&lt;img data-content=\"rdkit/molecule\" src=\"data:i...</td>\n      <td>1</td>\n      <td>0</td>\n      <td>1</td>\n      <td>O=C(CCCC[C@@H]1CCSS1)NCCCCCCNC(=O)c1ccc(-c2c3n...</td>\n    </tr>\n    <tr>\n      <th>1</th>\n      <td>552</td>\n      <td>CHEMBL1077</td>\n      <td>Nc1c(CC(=O)O)cccc1C(=O)c1ccc(Br)cc1</td>\n      <td>IC50</td>\n      <td>4.803</td>\n      <td>nM</td>\n      <td>&lt;img data-content=\"rdkit/molecule\" src=\"data:i...</td>\n      <td>1</td>\n      <td>0</td>\n      <td>1</td>\n      <td>Nc1c(CC(=O)NCCCCCCNC(=O)c2ccc(-c3c4nc(c(-c5c(F...</td>\n    </tr>\n    <tr>\n      <th>2</th>\n      <td>634</td>\n      <td>CHEMBL1630249</td>\n      <td>CCCc1cc2c(cc1Cl)C=C(C(=O)O)[C@H](C(F)(F)F)O2</td>\n      <td>IC50</td>\n      <td>5.000</td>\n      <td>nM</td>\n      <td>&lt;img data-content=\"rdkit/molecule\" src=\"data:i...</td>\n      <td>1</td>\n      <td>0</td>\n      <td>1</td>\n      <td>CCCc1cc2c(cc1Cl)C=C(C(=O)NCCCCCCNC(=O)c1ccc(-c...</td>\n    </tr>\n    <tr>\n      <th>3</th>\n      <td>633</td>\n      <td>CHEMBL1630225</td>\n      <td>CC(C)(C)c1cc2c(cc1Cl)C=C(C(=O)O)C(C(F)(F)F)O2</td>\n      <td>IC50</td>\n      <td>5.000</td>\n      <td>nM</td>\n      <td>&lt;img data-content=\"rdkit/molecule\" src=\"data:i...</td>\n      <td>1</td>\n      <td>0</td>\n      <td>1</td>\n      <td>CC(C)(C)c1cc2c(cc1Cl)C=C(C(=O)NCCCCCCNC(=O)c1c...</td>\n    </tr>\n    <tr>\n      <th>4</th>\n      <td>692</td>\n      <td>CHEMBL1288592</td>\n      <td>O=C(O)C1=Cc2c(cc(Cl)c(Cl)c2Cl)OC1C(F)(F)F</td>\n      <td>IC50</td>\n      <td>6.000</td>\n      <td>nM</td>\n      <td>&lt;img data-content=\"rdkit/molecule\" src=\"data:i...</td>\n      <td>1</td>\n      <td>0</td>\n      <td>1</td>\n      <td>O=C(NCCCCCCNC(=O)c1ccc(-c2c3nc(c(-c4c(F)c(F)c(...</td>\n    </tr>\n  </tbody>\n</table>\n</div>"
     },
     "execution_count": 12,
     "metadata": {},
     "output_type": "execute_result"
    }
   ],
   "source": [
    "smi = pd.read_csv('/home/anton/PycharmProjects/cadd/data/ligands_conjugated.csv')\n",
    "smi.head()"
   ],
   "metadata": {
    "collapsed": false
   }
  },
  {
   "cell_type": "code",
   "execution_count": 13,
   "outputs": [],
   "source": [
    "merged = pd.merge(test_df, smi, how='left', right_on='Molecule ChEMBL ID', left_on='ID')"
   ],
   "metadata": {
    "collapsed": false
   }
  },
  {
   "cell_type": "code",
   "execution_count": 14,
   "outputs": [
    {
     "data": {
      "text/plain": "ID                     0\nAffinity_1             0\nCNNscore_1             0\nCNNaffinity_1          0\nRealative_affinity     0\nAffinity_1_smina       0\nAffinity_2_smina       0\nAffinity_3_smina       0\nAffinity_4_smina       0\nAffinity_5_smina       0\nUnnamed: 0             2\nMolecule ChEMBL ID     2\nSmiles                 2\nStandard Type          2\nStandard Value         2\nStandard Units         2\nMol                    2\nfr_Al_COO              2\nfr_Ar_COO              2\nfr_Al_COO+fr_Ar_COO    2\nconjugate              2\ndtype: int64"
     },
     "execution_count": 14,
     "metadata": {},
     "output_type": "execute_result"
    }
   ],
   "source": [
    "merged.isna().sum()"
   ],
   "metadata": {
    "collapsed": false
   }
  },
  {
   "cell_type": "code",
   "execution_count": 15,
   "outputs": [
    {
     "data": {
      "text/plain": "               ID  Affinity_1  CNNscore_1  CNNaffinity_1  Realative_affinity  \\\n0       CHEMBL622  -11.517095    0.326144       9.437337           -3.756234   \n1       CHEMBL956   -8.804907    0.408616       8.724112           -3.597827   \n2         CHEMBL6   -8.720407    0.407148       8.934416           -3.550500   \n3          25-ref   -8.743291    0.395045       7.704820           -3.453990   \n4       CHEMBL154   -9.302682    0.365885       8.345302           -3.403714   \n5    CHEMBL435298   -9.663109    0.346288       8.487493           -3.346217   \n6       CHEMBL563   -8.775920    0.380669       8.250026           -3.340718   \n7      CHEMBL1077   -8.596604    0.385909       8.767962           -3.317509   \n8      CHEMBL1071   -9.317914    0.351838       8.639109           -3.278392   \n9       CHEMBL469   -9.037792    0.362060       8.665256           -3.272220   \n10      CHEMBL139   -8.719066    0.368407       8.652321           -3.212167   \n11      CHEMBL704   -9.253494    0.342278       8.197535           -3.167268   \n12  CHEMBL1201124   -7.882163    0.401688       8.326059           -3.166174   \n13      CHEMBL571   -8.875094    0.350848       8.549641           -3.113811   \n14   CHEMBL190083   -9.330606    0.333680       8.666428           -3.113435   \n15   CHEMBL404108   -8.524534    0.350632       8.852247           -2.988979   \n16    CHEMBL23588   -8.072650    0.362296       8.743123           -2.924687   \n17     CHEMBL1316   -7.998067    0.359993       8.712342           -2.879250   \n18      CHEMBL145   -7.666465    0.372375       8.487097           -2.854800   \n19      CHEMBL424   -7.999362    0.349175       7.747576           -2.793176   \n20    CHEMBL75435   -8.053133    0.341383       8.600905           -2.749199   \n21       CHEMBL25   -7.898793    0.346515       8.163643           -2.737051   \n22      CHEMBL175   -8.562421    0.286158       8.371243           -2.450209   \n23    CHEMBL19299   -7.394369    0.328171       8.443049           -2.426618   \n24      CHEMBL521   -9.983849    0.182471       7.783585           -1.821763   \n\n    Affinity_1_smina  Affinity_2_smina  Affinity_3_smina  Affinity_4_smina  \\\n0         -11.681115        -11.534886        -11.410219        -11.376697   \n1          -9.356826         -9.252730         -9.100626         -8.871902   \n2         -10.302375         -9.918255         -9.662663         -9.633802   \n3          -9.530845         -9.497015         -9.365493         -9.124116   \n4          -9.301667         -8.982399         -8.896075         -8.777915   \n5         -12.051331        -11.890670        -11.790000        -11.748651   \n6         -12.014837        -11.992943        -11.984343        -11.883790   \n7         -10.517737        -10.451115        -10.420001        -10.384898   \n8         -12.066712        -12.032768        -11.907131        -11.866726   \n9          -9.726739         -9.715600         -9.575595         -9.556388   \n10        -11.212897        -11.180199        -11.119481        -10.935047   \n11         -9.880850         -9.596795         -9.565941         -9.545662   \n12        -10.039124         -9.867794         -9.850721         -9.804322   \n13        -10.395113        -10.209222         -9.975617         -9.970963   \n14        -11.720035        -11.612482        -11.502737        -11.347860   \n15        -13.031723        -12.380220        -12.369818        -12.330308   \n16        -12.688175        -12.614389        -12.410734        -12.374282   \n17        -11.498105        -11.309309        -11.285165        -11.274431   \n18         -8.958902         -8.783603         -8.725559         -8.636990   \n19         -9.840141         -9.766563         -9.633879         -9.483421   \n20         -9.263624         -9.154156         -9.094215         -9.051713   \n21         -8.783383         -8.620195         -8.493072         -8.463031   \n22        -10.228948         -9.636353         -9.544608         -9.478241   \n23        -11.486686        -11.470257        -11.416377        -11.127698   \n24        -10.427962        -10.263396        -10.146921        -10.116921   \n\n    Affinity_5_smina  ...  Molecule ChEMBL ID  \\\n0         -10.802636  ...           CHEMBL622   \n1          -8.727815  ...                 NaN   \n2          -9.550676  ...             CHEMBL6   \n3          -8.985881  ...                 NaN   \n4          -8.764978  ...           CHEMBL154   \n5         -11.690491  ...        CHEMBL435298   \n6         -11.871747  ...           CHEMBL563   \n7         -10.299906  ...          CHEMBL1077   \n8         -11.782930  ...          CHEMBL1071   \n9          -9.470119  ...           CHEMBL469   \n10        -10.878954  ...           CHEMBL139   \n11         -9.511999  ...           CHEMBL704   \n12         -9.637859  ...       CHEMBL1201124   \n13         -9.917416  ...           CHEMBL571   \n14        -11.260832  ...        CHEMBL190083   \n15        -12.092602  ...        CHEMBL404108   \n16        -12.342807  ...         CHEMBL23588   \n17        -11.208518  ...          CHEMBL1316   \n18         -8.514774  ...           CHEMBL145   \n19         -9.351656  ...           CHEMBL424   \n20         -9.005419  ...         CHEMBL75435   \n21         -8.416986  ...            CHEMBL25   \n22         -9.465520  ...           CHEMBL175   \n23        -11.116609  ...         CHEMBL19299   \n24        -10.115575  ...           CHEMBL521   \n\n                                            Smiles Standard Type  \\\n0          CCc1cccc2c3c([nH]c12)C(CC)(CC(=O)O)OCC3          IC50   \n1                                              NaN           NaN   \n2   COc1ccc2c(c1)c(CC(=O)O)c(C)n2C(=O)c1ccc(Cl)cc1          IC50   \n3                                              NaN           NaN   \n4                 COc1ccc2cc([C@H](C)C(=O)O)ccc2c1          IC50   \n5             C[C@H](C(=O)O)c1ccc(-c2ccccc2)c(F)c1          IC50   \n6                 CC(C(=O)O)c1ccc(-c2ccccc2)c(F)c1          IC50   \n7              Nc1c(CC(=O)O)cccc1C(=O)c1ccc(Br)cc1          IC50   \n8            O=C(O)CCc1nc(-c2ccccc2)c(-c2ccccc2)o1          IC50   \n9                  O=C(c1ccccc1)c1ccc2n1CCC2C(=O)O          IC50   \n10                  O=C(O)Cc1ccccc1Nc1c(Cl)cccc1Cl          IC50   \n11                            Nc1ccc(O)c(C(=O)O)c1          IC50   \n12    NC(CO)(CO)CO.O=C(c1ccccc1)c1ccc2n1CCC2C(=O)O          IC50   \n13               CC(C(=O)O)c1cccc(C(=O)c2ccccc2)c1          IC50   \n14           C[C@@H](C(=O)O)c1ccc(-c2ccccc2)c(F)c1          IC50   \n15              Cc1ccc(Nc2c(F)cccc2Cl)c(CC(=O)O)c1          IC50   \n16               O=C(O)c1ccccc1Nc1cccc(C(F)(F)F)c1          IC50   \n17          CC(C(=O)O)c1ccc2c(c1)[nH]c1ccc(Cl)cc12          IC50   \n18                       O=C(O)/C=C/c1ccc(O)c(O)c1          IC50   \n19                                 O=C(O)c1ccccc1O          IC50   \n20           C[C@H](C(=O)O)c1cccc(C(=O)c2ccccc2)c1          IC50   \n21                           CC(=O)Oc1ccccc1C(=O)O          IC50   \n22                  CC(C)Cc1ccc([C@H](C)C(=O)O)cc1          IC50   \n23                  CC(C(=O)O)c1ccc(CC2CCCC2=O)cc1          IC50   \n24                      CC(C)Cc1ccc(C(C)C(=O)O)cc1          IC50   \n\n   Standard Value  Standard Units  \\\n0        2000.000              nM   \n1             NaN             NaN   \n2          10.000              nM   \n3             NaN             NaN   \n4     1010000.000              nM   \n5         910.000              nM   \n6          10.000              nM   \n7           4.803              nM   \n8         110.000              nM   \n9         140.000              nM   \n10         10.000              nM   \n11       7530.000              nM   \n12        120.000              nM   \n13         26.000              nM   \n14     123000.000              nM   \n15      10000.000              nM   \n16       9300.000              nM   \n17        100.000              nM   \n18     129700.000              nM   \n19      40000.000              nM   \n20        230.000              nM   \n21      10000.000              nM   \n22       2460.000              nM   \n23     100000.000              nM   \n24        100.000              nM   \n\n                                                  Mol fr_Al_COO  fr_Ar_COO  \\\n0   <img data-content=\"rdkit/molecule\" src=\"data:i...       1.0        0.0   \n1                                                 NaN       NaN        NaN   \n2   <img data-content=\"rdkit/molecule\" src=\"data:i...       1.0        0.0   \n3                                                 NaN       NaN        NaN   \n4   <img data-content=\"rdkit/molecule\" src=\"data:i...       1.0        0.0   \n5   <img data-content=\"rdkit/molecule\" src=\"data:i...       1.0        0.0   \n6   <img data-content=\"rdkit/molecule\" src=\"data:i...       1.0        0.0   \n7   <img data-content=\"rdkit/molecule\" src=\"data:i...       1.0        0.0   \n8   <img data-content=\"rdkit/molecule\" src=\"data:i...       1.0        0.0   \n9   <img data-content=\"rdkit/molecule\" src=\"data:i...       1.0        0.0   \n10  <img data-content=\"rdkit/molecule\" src=\"data:i...       1.0        0.0   \n11  <img data-content=\"rdkit/molecule\" src=\"data:i...       0.0        1.0   \n12  <img data-content=\"rdkit/molecule\" src=\"data:i...       1.0        0.0   \n13  <img data-content=\"rdkit/molecule\" src=\"data:i...       1.0        0.0   \n14  <img data-content=\"rdkit/molecule\" src=\"data:i...       1.0        0.0   \n15  <img data-content=\"rdkit/molecule\" src=\"data:i...       1.0        0.0   \n16  <img data-content=\"rdkit/molecule\" src=\"data:i...       0.0        1.0   \n17  <img data-content=\"rdkit/molecule\" src=\"data:i...       1.0        0.0   \n18  <img data-content=\"rdkit/molecule\" src=\"data:i...       1.0        0.0   \n19  <img data-content=\"rdkit/molecule\" src=\"data:i...       0.0        1.0   \n20  <img data-content=\"rdkit/molecule\" src=\"data:i...       1.0        0.0   \n21  <img data-content=\"rdkit/molecule\" src=\"data:i...       0.0        1.0   \n22  <img data-content=\"rdkit/molecule\" src=\"data:i...       1.0        0.0   \n23  <img data-content=\"rdkit/molecule\" src=\"data:i...       1.0        0.0   \n24  <img data-content=\"rdkit/molecule\" src=\"data:i...       1.0        0.0   \n\n    fr_Al_COO+fr_Ar_COO                                          conjugate  \n0                   1.0  CCc1cccc2c3c([nH]c12)C(CC)(CC(=O)NCCCCCCNC(=O)...  \n1                   NaN                                                NaN  \n2                   1.0  COc1ccc2c(c1)c(CC(=O)NCCCCCCNC(=O)c1ccc(-c3c4n...  \n3                   NaN                                                NaN  \n4                   1.0  COc1ccc2cc([C@H](C)C(=O)NCCCCCCNC(=O)c3ccc(-c4...  \n5                   1.0  C[C@H](C(=O)NCCCCCCNC(=O)c1ccc(-c2c3nc(c(-c4c(...  \n6                   1.0  CC(C(=O)NCCCCCCNC(=O)c1ccc(-c2c3nc(c(-c4c(F)c(...  \n7                   1.0  Nc1c(CC(=O)NCCCCCCNC(=O)c2ccc(-c3c4nc(c(-c5c(F...  \n8                   1.0  O=C(CCc1nc(-c2ccccc2)c(-c2ccccc2)o1)NCCCCCCNC(...  \n9                   1.0  O=C(NCCCCCCNC(=O)C1CCn2c(C(=O)c3ccccc3)ccc21)c...  \n10                  1.0  O=C(Cc1ccccc1Nc1c(Cl)cccc1Cl)NCCCCCCNC(=O)c1cc...  \n11                  1.0  Nc1ccc(O)c(C(=O)NCCCCCCNC(=O)c2ccc(-c3c4nc(c(-...  \n12                  1.0  O=C(NCCCCCCNC(=O)C1CCn2c(C(=O)c3ccccc3)ccc21)c...  \n13                  1.0  CC(C(=O)NCCCCCCNC(=O)c1ccc(-c2c3nc(c(-c4c(F)c(...  \n14                  1.0  C[C@@H](C(=O)NCCCCCCNC(=O)c1ccc(-c2c3nc(c(-c4c...  \n15                  1.0  Cc1ccc(Nc2c(F)cccc2Cl)c(CC(=O)NCCCCCCNC(=O)c2c...  \n16                  1.0  O=C(NCCCCCCNC(=O)c1ccccc1Nc1cccc(C(F)(F)F)c1)c...  \n17                  1.0  CC(C(=O)NCCCCCCNC(=O)c1ccc(-c2c3nc(c(-c4c(F)c(...  \n18                  1.0  O=C(/C=C/c1ccc(O)c(O)c1)NCCCCCCNC(=O)c1ccc(-c2...  \n19                  1.0  O=C(NCCCCCCNC(=O)c1ccccc1O)c1ccc(-c2c3nc(c(-c4...  \n20                  1.0  C[C@H](C(=O)NCCCCCCNC(=O)c1ccc(-c2c3nc(c(-c4c(...  \n21                  1.0  CC(=O)Oc1ccccc1C(=O)NCCCCCCNC(=O)c1ccc(-c2c3nc...  \n22                  1.0  CC(C)Cc1ccc([C@H](C)C(=O)NCCCCCCNC(=O)c2ccc(-c...  \n23                  1.0  CC(C(=O)NCCCCCCNC(=O)c1ccc(-c2c3nc(c(-c4c(F)c(...  \n24                  1.0  CC(C)Cc1ccc(C(C)C(=O)NCCCCCCNC(=O)c2ccc(-c3c4n...  \n\n[25 rows x 21 columns]",
      "text/html": "<div>\n<style scoped>\n    .dataframe tbody tr th:only-of-type {\n        vertical-align: middle;\n    }\n\n    .dataframe tbody tr th {\n        vertical-align: top;\n    }\n\n    .dataframe thead th {\n        text-align: right;\n    }\n</style>\n<table border=\"1\" class=\"dataframe\">\n  <thead>\n    <tr style=\"text-align: right;\">\n      <th></th>\n      <th>ID</th>\n      <th>Affinity_1</th>\n      <th>CNNscore_1</th>\n      <th>CNNaffinity_1</th>\n      <th>Realative_affinity</th>\n      <th>Affinity_1_smina</th>\n      <th>Affinity_2_smina</th>\n      <th>Affinity_3_smina</th>\n      <th>Affinity_4_smina</th>\n      <th>Affinity_5_smina</th>\n      <th>...</th>\n      <th>Molecule ChEMBL ID</th>\n      <th>Smiles</th>\n      <th>Standard Type</th>\n      <th>Standard Value</th>\n      <th>Standard Units</th>\n      <th>Mol</th>\n      <th>fr_Al_COO</th>\n      <th>fr_Ar_COO</th>\n      <th>fr_Al_COO+fr_Ar_COO</th>\n      <th>conjugate</th>\n    </tr>\n  </thead>\n  <tbody>\n    <tr>\n      <th>0</th>\n      <td>CHEMBL622</td>\n      <td>-11.517095</td>\n      <td>0.326144</td>\n      <td>9.437337</td>\n      <td>-3.756234</td>\n      <td>-11.681115</td>\n      <td>-11.534886</td>\n      <td>-11.410219</td>\n      <td>-11.376697</td>\n      <td>-10.802636</td>\n      <td>...</td>\n      <td>CHEMBL622</td>\n      <td>CCc1cccc2c3c([nH]c12)C(CC)(CC(=O)O)OCC3</td>\n      <td>IC50</td>\n      <td>2000.000</td>\n      <td>nM</td>\n      <td>&lt;img data-content=\"rdkit/molecule\" src=\"data:i...</td>\n      <td>1.0</td>\n      <td>0.0</td>\n      <td>1.0</td>\n      <td>CCc1cccc2c3c([nH]c12)C(CC)(CC(=O)NCCCCCCNC(=O)...</td>\n    </tr>\n    <tr>\n      <th>1</th>\n      <td>CHEMBL956</td>\n      <td>-8.804907</td>\n      <td>0.408616</td>\n      <td>8.724112</td>\n      <td>-3.597827</td>\n      <td>-9.356826</td>\n      <td>-9.252730</td>\n      <td>-9.100626</td>\n      <td>-8.871902</td>\n      <td>-8.727815</td>\n      <td>...</td>\n      <td>NaN</td>\n      <td>NaN</td>\n      <td>NaN</td>\n      <td>NaN</td>\n      <td>NaN</td>\n      <td>NaN</td>\n      <td>NaN</td>\n      <td>NaN</td>\n      <td>NaN</td>\n      <td>NaN</td>\n    </tr>\n    <tr>\n      <th>2</th>\n      <td>CHEMBL6</td>\n      <td>-8.720407</td>\n      <td>0.407148</td>\n      <td>8.934416</td>\n      <td>-3.550500</td>\n      <td>-10.302375</td>\n      <td>-9.918255</td>\n      <td>-9.662663</td>\n      <td>-9.633802</td>\n      <td>-9.550676</td>\n      <td>...</td>\n      <td>CHEMBL6</td>\n      <td>COc1ccc2c(c1)c(CC(=O)O)c(C)n2C(=O)c1ccc(Cl)cc1</td>\n      <td>IC50</td>\n      <td>10.000</td>\n      <td>nM</td>\n      <td>&lt;img data-content=\"rdkit/molecule\" src=\"data:i...</td>\n      <td>1.0</td>\n      <td>0.0</td>\n      <td>1.0</td>\n      <td>COc1ccc2c(c1)c(CC(=O)NCCCCCCNC(=O)c1ccc(-c3c4n...</td>\n    </tr>\n    <tr>\n      <th>3</th>\n      <td>25-ref</td>\n      <td>-8.743291</td>\n      <td>0.395045</td>\n      <td>7.704820</td>\n      <td>-3.453990</td>\n      <td>-9.530845</td>\n      <td>-9.497015</td>\n      <td>-9.365493</td>\n      <td>-9.124116</td>\n      <td>-8.985881</td>\n      <td>...</td>\n      <td>NaN</td>\n      <td>NaN</td>\n      <td>NaN</td>\n      <td>NaN</td>\n      <td>NaN</td>\n      <td>NaN</td>\n      <td>NaN</td>\n      <td>NaN</td>\n      <td>NaN</td>\n      <td>NaN</td>\n    </tr>\n    <tr>\n      <th>4</th>\n      <td>CHEMBL154</td>\n      <td>-9.302682</td>\n      <td>0.365885</td>\n      <td>8.345302</td>\n      <td>-3.403714</td>\n      <td>-9.301667</td>\n      <td>-8.982399</td>\n      <td>-8.896075</td>\n      <td>-8.777915</td>\n      <td>-8.764978</td>\n      <td>...</td>\n      <td>CHEMBL154</td>\n      <td>COc1ccc2cc([C@H](C)C(=O)O)ccc2c1</td>\n      <td>IC50</td>\n      <td>1010000.000</td>\n      <td>nM</td>\n      <td>&lt;img data-content=\"rdkit/molecule\" src=\"data:i...</td>\n      <td>1.0</td>\n      <td>0.0</td>\n      <td>1.0</td>\n      <td>COc1ccc2cc([C@H](C)C(=O)NCCCCCCNC(=O)c3ccc(-c4...</td>\n    </tr>\n    <tr>\n      <th>5</th>\n      <td>CHEMBL435298</td>\n      <td>-9.663109</td>\n      <td>0.346288</td>\n      <td>8.487493</td>\n      <td>-3.346217</td>\n      <td>-12.051331</td>\n      <td>-11.890670</td>\n      <td>-11.790000</td>\n      <td>-11.748651</td>\n      <td>-11.690491</td>\n      <td>...</td>\n      <td>CHEMBL435298</td>\n      <td>C[C@H](C(=O)O)c1ccc(-c2ccccc2)c(F)c1</td>\n      <td>IC50</td>\n      <td>910.000</td>\n      <td>nM</td>\n      <td>&lt;img data-content=\"rdkit/molecule\" src=\"data:i...</td>\n      <td>1.0</td>\n      <td>0.0</td>\n      <td>1.0</td>\n      <td>C[C@H](C(=O)NCCCCCCNC(=O)c1ccc(-c2c3nc(c(-c4c(...</td>\n    </tr>\n    <tr>\n      <th>6</th>\n      <td>CHEMBL563</td>\n      <td>-8.775920</td>\n      <td>0.380669</td>\n      <td>8.250026</td>\n      <td>-3.340718</td>\n      <td>-12.014837</td>\n      <td>-11.992943</td>\n      <td>-11.984343</td>\n      <td>-11.883790</td>\n      <td>-11.871747</td>\n      <td>...</td>\n      <td>CHEMBL563</td>\n      <td>CC(C(=O)O)c1ccc(-c2ccccc2)c(F)c1</td>\n      <td>IC50</td>\n      <td>10.000</td>\n      <td>nM</td>\n      <td>&lt;img data-content=\"rdkit/molecule\" src=\"data:i...</td>\n      <td>1.0</td>\n      <td>0.0</td>\n      <td>1.0</td>\n      <td>CC(C(=O)NCCCCCCNC(=O)c1ccc(-c2c3nc(c(-c4c(F)c(...</td>\n    </tr>\n    <tr>\n      <th>7</th>\n      <td>CHEMBL1077</td>\n      <td>-8.596604</td>\n      <td>0.385909</td>\n      <td>8.767962</td>\n      <td>-3.317509</td>\n      <td>-10.517737</td>\n      <td>-10.451115</td>\n      <td>-10.420001</td>\n      <td>-10.384898</td>\n      <td>-10.299906</td>\n      <td>...</td>\n      <td>CHEMBL1077</td>\n      <td>Nc1c(CC(=O)O)cccc1C(=O)c1ccc(Br)cc1</td>\n      <td>IC50</td>\n      <td>4.803</td>\n      <td>nM</td>\n      <td>&lt;img data-content=\"rdkit/molecule\" src=\"data:i...</td>\n      <td>1.0</td>\n      <td>0.0</td>\n      <td>1.0</td>\n      <td>Nc1c(CC(=O)NCCCCCCNC(=O)c2ccc(-c3c4nc(c(-c5c(F...</td>\n    </tr>\n    <tr>\n      <th>8</th>\n      <td>CHEMBL1071</td>\n      <td>-9.317914</td>\n      <td>0.351838</td>\n      <td>8.639109</td>\n      <td>-3.278392</td>\n      <td>-12.066712</td>\n      <td>-12.032768</td>\n      <td>-11.907131</td>\n      <td>-11.866726</td>\n      <td>-11.782930</td>\n      <td>...</td>\n      <td>CHEMBL1071</td>\n      <td>O=C(O)CCc1nc(-c2ccccc2)c(-c2ccccc2)o1</td>\n      <td>IC50</td>\n      <td>110.000</td>\n      <td>nM</td>\n      <td>&lt;img data-content=\"rdkit/molecule\" src=\"data:i...</td>\n      <td>1.0</td>\n      <td>0.0</td>\n      <td>1.0</td>\n      <td>O=C(CCc1nc(-c2ccccc2)c(-c2ccccc2)o1)NCCCCCCNC(...</td>\n    </tr>\n    <tr>\n      <th>9</th>\n      <td>CHEMBL469</td>\n      <td>-9.037792</td>\n      <td>0.362060</td>\n      <td>8.665256</td>\n      <td>-3.272220</td>\n      <td>-9.726739</td>\n      <td>-9.715600</td>\n      <td>-9.575595</td>\n      <td>-9.556388</td>\n      <td>-9.470119</td>\n      <td>...</td>\n      <td>CHEMBL469</td>\n      <td>O=C(c1ccccc1)c1ccc2n1CCC2C(=O)O</td>\n      <td>IC50</td>\n      <td>140.000</td>\n      <td>nM</td>\n      <td>&lt;img data-content=\"rdkit/molecule\" src=\"data:i...</td>\n      <td>1.0</td>\n      <td>0.0</td>\n      <td>1.0</td>\n      <td>O=C(NCCCCCCNC(=O)C1CCn2c(C(=O)c3ccccc3)ccc21)c...</td>\n    </tr>\n    <tr>\n      <th>10</th>\n      <td>CHEMBL139</td>\n      <td>-8.719066</td>\n      <td>0.368407</td>\n      <td>8.652321</td>\n      <td>-3.212167</td>\n      <td>-11.212897</td>\n      <td>-11.180199</td>\n      <td>-11.119481</td>\n      <td>-10.935047</td>\n      <td>-10.878954</td>\n      <td>...</td>\n      <td>CHEMBL139</td>\n      <td>O=C(O)Cc1ccccc1Nc1c(Cl)cccc1Cl</td>\n      <td>IC50</td>\n      <td>10.000</td>\n      <td>nM</td>\n      <td>&lt;img data-content=\"rdkit/molecule\" src=\"data:i...</td>\n      <td>1.0</td>\n      <td>0.0</td>\n      <td>1.0</td>\n      <td>O=C(Cc1ccccc1Nc1c(Cl)cccc1Cl)NCCCCCCNC(=O)c1cc...</td>\n    </tr>\n    <tr>\n      <th>11</th>\n      <td>CHEMBL704</td>\n      <td>-9.253494</td>\n      <td>0.342278</td>\n      <td>8.197535</td>\n      <td>-3.167268</td>\n      <td>-9.880850</td>\n      <td>-9.596795</td>\n      <td>-9.565941</td>\n      <td>-9.545662</td>\n      <td>-9.511999</td>\n      <td>...</td>\n      <td>CHEMBL704</td>\n      <td>Nc1ccc(O)c(C(=O)O)c1</td>\n      <td>IC50</td>\n      <td>7530.000</td>\n      <td>nM</td>\n      <td>&lt;img data-content=\"rdkit/molecule\" src=\"data:i...</td>\n      <td>0.0</td>\n      <td>1.0</td>\n      <td>1.0</td>\n      <td>Nc1ccc(O)c(C(=O)NCCCCCCNC(=O)c2ccc(-c3c4nc(c(-...</td>\n    </tr>\n    <tr>\n      <th>12</th>\n      <td>CHEMBL1201124</td>\n      <td>-7.882163</td>\n      <td>0.401688</td>\n      <td>8.326059</td>\n      <td>-3.166174</td>\n      <td>-10.039124</td>\n      <td>-9.867794</td>\n      <td>-9.850721</td>\n      <td>-9.804322</td>\n      <td>-9.637859</td>\n      <td>...</td>\n      <td>CHEMBL1201124</td>\n      <td>NC(CO)(CO)CO.O=C(c1ccccc1)c1ccc2n1CCC2C(=O)O</td>\n      <td>IC50</td>\n      <td>120.000</td>\n      <td>nM</td>\n      <td>&lt;img data-content=\"rdkit/molecule\" src=\"data:i...</td>\n      <td>1.0</td>\n      <td>0.0</td>\n      <td>1.0</td>\n      <td>O=C(NCCCCCCNC(=O)C1CCn2c(C(=O)c3ccccc3)ccc21)c...</td>\n    </tr>\n    <tr>\n      <th>13</th>\n      <td>CHEMBL571</td>\n      <td>-8.875094</td>\n      <td>0.350848</td>\n      <td>8.549641</td>\n      <td>-3.113811</td>\n      <td>-10.395113</td>\n      <td>-10.209222</td>\n      <td>-9.975617</td>\n      <td>-9.970963</td>\n      <td>-9.917416</td>\n      <td>...</td>\n      <td>CHEMBL571</td>\n      <td>CC(C(=O)O)c1cccc(C(=O)c2ccccc2)c1</td>\n      <td>IC50</td>\n      <td>26.000</td>\n      <td>nM</td>\n      <td>&lt;img data-content=\"rdkit/molecule\" src=\"data:i...</td>\n      <td>1.0</td>\n      <td>0.0</td>\n      <td>1.0</td>\n      <td>CC(C(=O)NCCCCCCNC(=O)c1ccc(-c2c3nc(c(-c4c(F)c(...</td>\n    </tr>\n    <tr>\n      <th>14</th>\n      <td>CHEMBL190083</td>\n      <td>-9.330606</td>\n      <td>0.333680</td>\n      <td>8.666428</td>\n      <td>-3.113435</td>\n      <td>-11.720035</td>\n      <td>-11.612482</td>\n      <td>-11.502737</td>\n      <td>-11.347860</td>\n      <td>-11.260832</td>\n      <td>...</td>\n      <td>CHEMBL190083</td>\n      <td>C[C@@H](C(=O)O)c1ccc(-c2ccccc2)c(F)c1</td>\n      <td>IC50</td>\n      <td>123000.000</td>\n      <td>nM</td>\n      <td>&lt;img data-content=\"rdkit/molecule\" src=\"data:i...</td>\n      <td>1.0</td>\n      <td>0.0</td>\n      <td>1.0</td>\n      <td>C[C@@H](C(=O)NCCCCCCNC(=O)c1ccc(-c2c3nc(c(-c4c...</td>\n    </tr>\n    <tr>\n      <th>15</th>\n      <td>CHEMBL404108</td>\n      <td>-8.524534</td>\n      <td>0.350632</td>\n      <td>8.852247</td>\n      <td>-2.988979</td>\n      <td>-13.031723</td>\n      <td>-12.380220</td>\n      <td>-12.369818</td>\n      <td>-12.330308</td>\n      <td>-12.092602</td>\n      <td>...</td>\n      <td>CHEMBL404108</td>\n      <td>Cc1ccc(Nc2c(F)cccc2Cl)c(CC(=O)O)c1</td>\n      <td>IC50</td>\n      <td>10000.000</td>\n      <td>nM</td>\n      <td>&lt;img data-content=\"rdkit/molecule\" src=\"data:i...</td>\n      <td>1.0</td>\n      <td>0.0</td>\n      <td>1.0</td>\n      <td>Cc1ccc(Nc2c(F)cccc2Cl)c(CC(=O)NCCCCCCNC(=O)c2c...</td>\n    </tr>\n    <tr>\n      <th>16</th>\n      <td>CHEMBL23588</td>\n      <td>-8.072650</td>\n      <td>0.362296</td>\n      <td>8.743123</td>\n      <td>-2.924687</td>\n      <td>-12.688175</td>\n      <td>-12.614389</td>\n      <td>-12.410734</td>\n      <td>-12.374282</td>\n      <td>-12.342807</td>\n      <td>...</td>\n      <td>CHEMBL23588</td>\n      <td>O=C(O)c1ccccc1Nc1cccc(C(F)(F)F)c1</td>\n      <td>IC50</td>\n      <td>9300.000</td>\n      <td>nM</td>\n      <td>&lt;img data-content=\"rdkit/molecule\" src=\"data:i...</td>\n      <td>0.0</td>\n      <td>1.0</td>\n      <td>1.0</td>\n      <td>O=C(NCCCCCCNC(=O)c1ccccc1Nc1cccc(C(F)(F)F)c1)c...</td>\n    </tr>\n    <tr>\n      <th>17</th>\n      <td>CHEMBL1316</td>\n      <td>-7.998067</td>\n      <td>0.359993</td>\n      <td>8.712342</td>\n      <td>-2.879250</td>\n      <td>-11.498105</td>\n      <td>-11.309309</td>\n      <td>-11.285165</td>\n      <td>-11.274431</td>\n      <td>-11.208518</td>\n      <td>...</td>\n      <td>CHEMBL1316</td>\n      <td>CC(C(=O)O)c1ccc2c(c1)[nH]c1ccc(Cl)cc12</td>\n      <td>IC50</td>\n      <td>100.000</td>\n      <td>nM</td>\n      <td>&lt;img data-content=\"rdkit/molecule\" src=\"data:i...</td>\n      <td>1.0</td>\n      <td>0.0</td>\n      <td>1.0</td>\n      <td>CC(C(=O)NCCCCCCNC(=O)c1ccc(-c2c3nc(c(-c4c(F)c(...</td>\n    </tr>\n    <tr>\n      <th>18</th>\n      <td>CHEMBL145</td>\n      <td>-7.666465</td>\n      <td>0.372375</td>\n      <td>8.487097</td>\n      <td>-2.854800</td>\n      <td>-8.958902</td>\n      <td>-8.783603</td>\n      <td>-8.725559</td>\n      <td>-8.636990</td>\n      <td>-8.514774</td>\n      <td>...</td>\n      <td>CHEMBL145</td>\n      <td>O=C(O)/C=C/c1ccc(O)c(O)c1</td>\n      <td>IC50</td>\n      <td>129700.000</td>\n      <td>nM</td>\n      <td>&lt;img data-content=\"rdkit/molecule\" src=\"data:i...</td>\n      <td>1.0</td>\n      <td>0.0</td>\n      <td>1.0</td>\n      <td>O=C(/C=C/c1ccc(O)c(O)c1)NCCCCCCNC(=O)c1ccc(-c2...</td>\n    </tr>\n    <tr>\n      <th>19</th>\n      <td>CHEMBL424</td>\n      <td>-7.999362</td>\n      <td>0.349175</td>\n      <td>7.747576</td>\n      <td>-2.793176</td>\n      <td>-9.840141</td>\n      <td>-9.766563</td>\n      <td>-9.633879</td>\n      <td>-9.483421</td>\n      <td>-9.351656</td>\n      <td>...</td>\n      <td>CHEMBL424</td>\n      <td>O=C(O)c1ccccc1O</td>\n      <td>IC50</td>\n      <td>40000.000</td>\n      <td>nM</td>\n      <td>&lt;img data-content=\"rdkit/molecule\" src=\"data:i...</td>\n      <td>0.0</td>\n      <td>1.0</td>\n      <td>1.0</td>\n      <td>O=C(NCCCCCCNC(=O)c1ccccc1O)c1ccc(-c2c3nc(c(-c4...</td>\n    </tr>\n    <tr>\n      <th>20</th>\n      <td>CHEMBL75435</td>\n      <td>-8.053133</td>\n      <td>0.341383</td>\n      <td>8.600905</td>\n      <td>-2.749199</td>\n      <td>-9.263624</td>\n      <td>-9.154156</td>\n      <td>-9.094215</td>\n      <td>-9.051713</td>\n      <td>-9.005419</td>\n      <td>...</td>\n      <td>CHEMBL75435</td>\n      <td>C[C@H](C(=O)O)c1cccc(C(=O)c2ccccc2)c1</td>\n      <td>IC50</td>\n      <td>230.000</td>\n      <td>nM</td>\n      <td>&lt;img data-content=\"rdkit/molecule\" src=\"data:i...</td>\n      <td>1.0</td>\n      <td>0.0</td>\n      <td>1.0</td>\n      <td>C[C@H](C(=O)NCCCCCCNC(=O)c1ccc(-c2c3nc(c(-c4c(...</td>\n    </tr>\n    <tr>\n      <th>21</th>\n      <td>CHEMBL25</td>\n      <td>-7.898793</td>\n      <td>0.346515</td>\n      <td>8.163643</td>\n      <td>-2.737051</td>\n      <td>-8.783383</td>\n      <td>-8.620195</td>\n      <td>-8.493072</td>\n      <td>-8.463031</td>\n      <td>-8.416986</td>\n      <td>...</td>\n      <td>CHEMBL25</td>\n      <td>CC(=O)Oc1ccccc1C(=O)O</td>\n      <td>IC50</td>\n      <td>10000.000</td>\n      <td>nM</td>\n      <td>&lt;img data-content=\"rdkit/molecule\" src=\"data:i...</td>\n      <td>0.0</td>\n      <td>1.0</td>\n      <td>1.0</td>\n      <td>CC(=O)Oc1ccccc1C(=O)NCCCCCCNC(=O)c1ccc(-c2c3nc...</td>\n    </tr>\n    <tr>\n      <th>22</th>\n      <td>CHEMBL175</td>\n      <td>-8.562421</td>\n      <td>0.286158</td>\n      <td>8.371243</td>\n      <td>-2.450209</td>\n      <td>-10.228948</td>\n      <td>-9.636353</td>\n      <td>-9.544608</td>\n      <td>-9.478241</td>\n      <td>-9.465520</td>\n      <td>...</td>\n      <td>CHEMBL175</td>\n      <td>CC(C)Cc1ccc([C@H](C)C(=O)O)cc1</td>\n      <td>IC50</td>\n      <td>2460.000</td>\n      <td>nM</td>\n      <td>&lt;img data-content=\"rdkit/molecule\" src=\"data:i...</td>\n      <td>1.0</td>\n      <td>0.0</td>\n      <td>1.0</td>\n      <td>CC(C)Cc1ccc([C@H](C)C(=O)NCCCCCCNC(=O)c2ccc(-c...</td>\n    </tr>\n    <tr>\n      <th>23</th>\n      <td>CHEMBL19299</td>\n      <td>-7.394369</td>\n      <td>0.328171</td>\n      <td>8.443049</td>\n      <td>-2.426618</td>\n      <td>-11.486686</td>\n      <td>-11.470257</td>\n      <td>-11.416377</td>\n      <td>-11.127698</td>\n      <td>-11.116609</td>\n      <td>...</td>\n      <td>CHEMBL19299</td>\n      <td>CC(C(=O)O)c1ccc(CC2CCCC2=O)cc1</td>\n      <td>IC50</td>\n      <td>100000.000</td>\n      <td>nM</td>\n      <td>&lt;img data-content=\"rdkit/molecule\" src=\"data:i...</td>\n      <td>1.0</td>\n      <td>0.0</td>\n      <td>1.0</td>\n      <td>CC(C(=O)NCCCCCCNC(=O)c1ccc(-c2c3nc(c(-c4c(F)c(...</td>\n    </tr>\n    <tr>\n      <th>24</th>\n      <td>CHEMBL521</td>\n      <td>-9.983849</td>\n      <td>0.182471</td>\n      <td>7.783585</td>\n      <td>-1.821763</td>\n      <td>-10.427962</td>\n      <td>-10.263396</td>\n      <td>-10.146921</td>\n      <td>-10.116921</td>\n      <td>-10.115575</td>\n      <td>...</td>\n      <td>CHEMBL521</td>\n      <td>CC(C)Cc1ccc(C(C)C(=O)O)cc1</td>\n      <td>IC50</td>\n      <td>100.000</td>\n      <td>nM</td>\n      <td>&lt;img data-content=\"rdkit/molecule\" src=\"data:i...</td>\n      <td>1.0</td>\n      <td>0.0</td>\n      <td>1.0</td>\n      <td>CC(C)Cc1ccc(C(C)C(=O)NCCCCCCNC(=O)c2ccc(-c3c4n...</td>\n    </tr>\n  </tbody>\n</table>\n<p>25 rows × 21 columns</p>\n</div>"
     },
     "execution_count": 15,
     "metadata": {},
     "output_type": "execute_result"
    }
   ],
   "source": [
    "merged"
   ],
   "metadata": {
    "collapsed": false
   }
  },
  {
   "cell_type": "code",
   "execution_count": 16,
   "outputs": [],
   "source": [
    "linker = 'NCCCCCCNC(=O)c1ccc(cc1)-c1c2ccc(n2)c(-c2c(F)c(F)c(F)c(F)c2F)c2ccc([nH]2)c(-c2c(F)c(F)c(F)c(F)c2F)c2ccc(n2)c(-c2c(F)c(F)c(F)c(F)c2F)c2ccc1[nH]2'\n",
    "\n",
    "merged['conjugate'].at[3] = linker"
   ],
   "metadata": {
    "collapsed": false
   }
  },
  {
   "cell_type": "code",
   "execution_count": 17,
   "outputs": [
    {
     "data": {
      "text/plain": "'NCCCCCCNC(=O)c1ccc(cc1)-c1c2ccc(n2)c(-c2c(F)c(F)c(F)c(F)c2F)c2ccc([nH]2)c(-c2c(F)c(F)c(F)c(F)c2F)c2ccc(n2)c(-c2c(F)c(F)c(F)c(F)c2F)c2ccc1[nH]2'"
     },
     "execution_count": 17,
     "metadata": {},
     "output_type": "execute_result"
    }
   ],
   "source": [
    "merged['conjugate'].at[3]"
   ],
   "metadata": {
    "collapsed": false
   }
  },
  {
   "cell_type": "code",
   "execution_count": 18,
   "outputs": [
    {
     "data": {
      "text/plain": "(23, 21)"
     },
     "execution_count": 18,
     "metadata": {},
     "output_type": "execute_result"
    }
   ],
   "source": [
    "merged = merged.dropna()\n",
    "merged.shape"
   ],
   "metadata": {
    "collapsed": false
   }
  },
  {
   "cell_type": "code",
   "execution_count": 23,
   "outputs": [
    {
     "name": "stdout",
     "output_type": "stream",
     "text": [
      "CHEMBL622 CCc1cccc2c3c([nH]c12)C(CC)(CC(=O)NCCCCCCNC(=O)c1ccc(-c2c4nc(c(-c5c(F)c(F)c(F)c(F)c5F)c5ccc([nH]5)c(-c5c(F)c(F)c(F)c(F)c5F)c5nc(c(-c6c(F)c(F)c(F)c(F)c6F)c6ccc2[nH]6)C=C5)C=C4)cc1)OCC3\n"
     ]
    },
    {
     "name": "stderr",
     "output_type": "stream",
     "text": [
      "1 molecule converted\n"
     ]
    },
    {
     "name": "stdout",
     "output_type": "stream",
     "text": [
      "/home/anton/PycharmProjects/cadd/notebooks/qvina-w --receptor /home/anton/PycharmProjects/cadd/data/prots/cox.pdbqt --ligand CHEMBL622.pdbqt --num_modes 10 --exhaustiveness 32 --seed 42 --out /home/anton/PycharmProjects/cadd/notebooks/docking/CHEMBL622.pdbqt --center_x 30.43100070953369 --center_y 28.46949863433838 --center_z 21.786001205444336 --size_x 89.71600151062012 --size_y 105.20899772644043 --size_z 101.20000076293945\n",
      "/home/anton/PycharmProjects/cadd/notebooks/docking\n",
      "############################################################################\n",
      "# If you used Qvina-W in your work, please cite:                           #\n",
      "#                                                                          #\n",
      "# Nafisa M. Hassan, Amr A. Alhossary, Yuguang Mu, and Chee-Keong Kwoh,     #\n",
      "# Protein-Ligand Blind Docking Using QuickVina-W With Inter-Process        #\n",
      "# Spatio-Temporal Integration, Scientific Reports 7(1):2017,               #\n",
      "# doi:10.1038/s41598-017-15571-7                                           #\n",
      "#                                                                          #\n",
      "# You are also encouraged to cite:                                         #\n",
      "# QuickVina 2                                                              #\n",
      "# Amr Alhossary, Stephanus Daniel Handoko, Yuguang Mu, and Chee-Keong Kwoh,#\n",
      "# Fast, Accurate, and Reliable Molecular Docking with QuickVina 2,         #\n",
      "# Bioinformatics (2015), doi: 10.1093/bioinformatics/btv082                #\n",
      "#                                                                          #\n",
      "# Quick Vina 1:                                                            #\n",
      "# Stephanus Daniel Handoko, Xuchang Ouyang, Chinh Tran To Su, Chee Keong   #\n",
      "# Kwoh, Yew Soon Ong,                                                      #\n",
      "# QuickVina: Accelerating AutoDock Vina Using Gradient-Based Heuristics for#\n",
      "# Global Optimization,                                                     #\n",
      "# IEEE/ACM Transactions on Computational Biology and Bioinformatics,vol.9, #\n",
      "# no. 5, pp. 1266-1272, Sept.-Oct. 2012, doi: 10.1109/TCBB.2012.82         #\n",
      "#                                                                          #\n",
      "# and original AutoDock Vina paper:                                        #\n",
      "# O. Trott, A. J. Olson,                                                   #\n",
      "# AutoDock Vina: improving the speed and accuracy of docking with a        #\n",
      "# new scoring function, efficient optimization and multithreading,         #\n",
      "# Journal of Computational Chemistry 31 (2010) 455-461                     #\n",
      "# doi: 10.1002/jcc.21334                                                   #\n",
      "############################################################################\n",
      "\n",
      "WARNING: The search space volume > 27000 Angstrom^3 (See FAQ)\n",
      "Detected 16 CPUs\n",
      "Reading input ... done.\n",
      "lazy initialization done\n",
      "Setting up the scoring function ... done.\n",
      "Analyzing the binding site ... done.\n",
      "Using random seed: 42\n",
      "Performing search ... \n",
      "0%   10   20   30   40   50   60   70   80   90   100%\n",
      "|----|----|----|----|----|----|----|----|----|----|\n",
      "***************************************************\n",
      "done.\n",
      "Refining results ... \n",
      "searching finished in 123.428 seconds\n",
      "done.\n",
      "\n",
      "mode |   affinity | dist from best mode\n",
      "     | (kcal/mol) | rmsd l.b.| rmsd u.b.\n",
      "-----+------------+----------+----------\n",
      "   1        -11.6      0.000      0.000\n",
      "   2        -11.2      3.374      9.142\n",
      "   3        -11.2      3.031      8.796\n",
      "   4        -11.1      3.730      6.955\n",
      "   5        -10.9      3.175      9.407\n",
      "   6        -10.7      1.307      2.172\n",
      "   7        -10.5     34.943     42.129\n",
      "   8        -10.4     25.923     32.382\n",
      "   9        -10.3     35.505     42.348\n",
      "  10        -10.2     25.297     32.873\n",
      "Writing output ... done.\n",
      "CHEMBL6 COc1ccc2c(c1)c(CC(=O)NCCCCCCNC(=O)c1ccc(-c3c4nc(c(-c5c(F)c(F)c(F)c(F)c5F)c5ccc([nH]5)c(-c5c(F)c(F)c(F)c(F)c5F)c5nc(c(-c6c(F)c(F)c(F)c(F)c6F)c6ccc3[nH]6)C=C5)C=C4)cc1)c(C)n2C(=O)c1ccc(Cl)cc1\n"
     ]
    },
    {
     "name": "stderr",
     "output_type": "stream",
     "text": [
      "1 molecule converted\n"
     ]
    },
    {
     "name": "stdout",
     "output_type": "stream",
     "text": [
      "/home/anton/PycharmProjects/cadd/notebooks/qvina-w --receptor /home/anton/PycharmProjects/cadd/data/prots/cox.pdbqt --ligand CHEMBL6.pdbqt --num_modes 10 --exhaustiveness 32 --seed 42 --out /home/anton/PycharmProjects/cadd/notebooks/docking/CHEMBL6.pdbqt --center_x 30.43100070953369 --center_y 28.46949863433838 --center_z 21.786001205444336 --size_x 89.71600151062012 --size_y 105.20899772644043 --size_z 101.20000076293945\n",
      "/home/anton/PycharmProjects/cadd/notebooks/docking\n",
      "############################################################################\n",
      "# If you used Qvina-W in your work, please cite:                           #\n",
      "#                                                                          #\n",
      "# Nafisa M. Hassan, Amr A. Alhossary, Yuguang Mu, and Chee-Keong Kwoh,     #\n",
      "# Protein-Ligand Blind Docking Using QuickVina-W With Inter-Process        #\n",
      "# Spatio-Temporal Integration, Scientific Reports 7(1):2017,               #\n",
      "# doi:10.1038/s41598-017-15571-7                                           #\n",
      "#                                                                          #\n",
      "# You are also encouraged to cite:                                         #\n",
      "# QuickVina 2                                                              #\n",
      "# Amr Alhossary, Stephanus Daniel Handoko, Yuguang Mu, and Chee-Keong Kwoh,#\n",
      "# Fast, Accurate, and Reliable Molecular Docking with QuickVina 2,         #\n",
      "# Bioinformatics (2015), doi: 10.1093/bioinformatics/btv082                #\n",
      "#                                                                          #\n",
      "# Quick Vina 1:                                                            #\n",
      "# Stephanus Daniel Handoko, Xuchang Ouyang, Chinh Tran To Su, Chee Keong   #\n",
      "# Kwoh, Yew Soon Ong,                                                      #\n",
      "# QuickVina: Accelerating AutoDock Vina Using Gradient-Based Heuristics for#\n",
      "# Global Optimization,                                                     #\n",
      "# IEEE/ACM Transactions on Computational Biology and Bioinformatics,vol.9, #\n",
      "# no. 5, pp. 1266-1272, Sept.-Oct. 2012, doi: 10.1109/TCBB.2012.82         #\n",
      "#                                                                          #\n",
      "# and original AutoDock Vina paper:                                        #\n",
      "# O. Trott, A. J. Olson,                                                   #\n",
      "# AutoDock Vina: improving the speed and accuracy of docking with a        #\n",
      "# new scoring function, efficient optimization and multithreading,         #\n",
      "# Journal of Computational Chemistry 31 (2010) 455-461                     #\n",
      "# doi: 10.1002/jcc.21334                                                   #\n",
      "############################################################################\n",
      "\n",
      "WARNING: The search space volume > 27000 Angstrom^3 (See FAQ)\n",
      "Detected 16 CPUs\n",
      "Reading input ... done.\n",
      "lazy initialization done\n",
      "Setting up the scoring function ... done.\n",
      "Analyzing the binding site ... done.\n",
      "Using random seed: 42\n",
      "Performing search ... \n",
      "0%   10   20   30   40   50   60   70   80   90   100%\n",
      "|----|----|----|----|----|----|----|----|----|----|\n",
      "***************************************************\n",
      "done.\n",
      "Refining results ... \n",
      "searching finished in 139.083 seconds\n",
      "done.\n",
      "\n",
      "mode |   affinity | dist from best mode\n",
      "     | (kcal/mol) | rmsd l.b.| rmsd u.b.\n",
      "-----+------------+----------+----------\n",
      "   1        -11.3      0.000      0.000\n",
      "   2        -10.7     36.269     43.049\n",
      "   3        -10.4      4.687      9.846\n",
      "   4        -10.4      5.175      9.730\n",
      "   5        -10.3     36.590     42.991\n",
      "   6        -10.3     34.580     42.131\n",
      "   7        -10.2     26.718     33.185\n",
      "   8        -10.0     37.069     44.324\n",
      "   9        -10.0     26.650     32.058\n",
      "  10        -10.0     26.039     32.585\n",
      "Writing output ... done.\n",
      "CHEMBL154 COc1ccc2cc([C@H](C)C(=O)NCCCCCCNC(=O)c3ccc(-c4c5nc(c(-c6c(F)c(F)c(F)c(F)c6F)c6ccc([nH]6)c(-c6c(F)c(F)c(F)c(F)c6F)c6nc(c(-c7c(F)c(F)c(F)c(F)c7F)c7ccc4[nH]7)C=C6)C=C5)cc3)ccc2c1\n"
     ]
    },
    {
     "name": "stderr",
     "output_type": "stream",
     "text": [
      "1 molecule converted\n"
     ]
    },
    {
     "name": "stdout",
     "output_type": "stream",
     "text": [
      "/home/anton/PycharmProjects/cadd/notebooks/qvina-w --receptor /home/anton/PycharmProjects/cadd/data/prots/cox.pdbqt --ligand CHEMBL154.pdbqt --num_modes 10 --exhaustiveness 32 --seed 42 --out /home/anton/PycharmProjects/cadd/notebooks/docking/CHEMBL154.pdbqt --center_x 30.43100070953369 --center_y 28.46949863433838 --center_z 21.786001205444336 --size_x 89.71600151062012 --size_y 105.20899772644043 --size_z 101.20000076293945\n",
      "/home/anton/PycharmProjects/cadd/notebooks/docking\n",
      "############################################################################\n",
      "# If you used Qvina-W in your work, please cite:                           #\n",
      "#                                                                          #\n",
      "# Nafisa M. Hassan, Amr A. Alhossary, Yuguang Mu, and Chee-Keong Kwoh,     #\n",
      "# Protein-Ligand Blind Docking Using QuickVina-W With Inter-Process        #\n",
      "# Spatio-Temporal Integration, Scientific Reports 7(1):2017,               #\n",
      "# doi:10.1038/s41598-017-15571-7                                           #\n",
      "#                                                                          #\n",
      "# You are also encouraged to cite:                                         #\n",
      "# QuickVina 2                                                              #\n",
      "# Amr Alhossary, Stephanus Daniel Handoko, Yuguang Mu, and Chee-Keong Kwoh,#\n",
      "# Fast, Accurate, and Reliable Molecular Docking with QuickVina 2,         #\n",
      "# Bioinformatics (2015), doi: 10.1093/bioinformatics/btv082                #\n",
      "#                                                                          #\n",
      "# Quick Vina 1:                                                            #\n",
      "# Stephanus Daniel Handoko, Xuchang Ouyang, Chinh Tran To Su, Chee Keong   #\n",
      "# Kwoh, Yew Soon Ong,                                                      #\n",
      "# QuickVina: Accelerating AutoDock Vina Using Gradient-Based Heuristics for#\n",
      "# Global Optimization,                                                     #\n",
      "# IEEE/ACM Transactions on Computational Biology and Bioinformatics,vol.9, #\n",
      "# no. 5, pp. 1266-1272, Sept.-Oct. 2012, doi: 10.1109/TCBB.2012.82         #\n",
      "#                                                                          #\n",
      "# and original AutoDock Vina paper:                                        #\n",
      "# O. Trott, A. J. Olson,                                                   #\n",
      "# AutoDock Vina: improving the speed and accuracy of docking with a        #\n",
      "# new scoring function, efficient optimization and multithreading,         #\n",
      "# Journal of Computational Chemistry 31 (2010) 455-461                     #\n",
      "# doi: 10.1002/jcc.21334                                                   #\n",
      "############################################################################\n",
      "\n",
      "WARNING: The search space volume > 27000 Angstrom^3 (See FAQ)\n",
      "Detected 16 CPUs\n",
      "Reading input ... done.\n",
      "lazy initialization done\n",
      "Setting up the scoring function ... done.\n",
      "Analyzing the binding site ... done.\n",
      "Using random seed: 42\n",
      "Performing search ... \n",
      "0%   10   20   30   40   50   60   70   80   90   100%\n",
      "|----|----|----|----|----|----|----|----|----|----|\n",
      "**"
     ]
    },
    {
     "ename": "KeyboardInterrupt",
     "evalue": "",
     "output_type": "error",
     "traceback": [
      "\u001B[0;31m---------------------------------------------------------------------------\u001B[0m",
      "\u001B[0;31mKeyboardInterrupt\u001B[0m                         Traceback (most recent call last)",
      "Cell \u001B[0;32mIn[23], line 16\u001B[0m\n\u001B[1;32m     14\u001B[0m qvina\u001B[38;5;241m.\u001B[39mset_seed(\u001B[38;5;241m42\u001B[39m)\n\u001B[1;32m     15\u001B[0m qvina\u001B[38;5;241m.\u001B[39mset_out_dir(\u001B[38;5;124m'\u001B[39m\u001B[38;5;124mdocking\u001B[39m\u001B[38;5;124m'\u001B[39m)\n\u001B[0;32m---> 16\u001B[0m \u001B[43mqvina\u001B[49m\u001B[38;5;241;43m.\u001B[39;49m\u001B[43mdocking\u001B[49m\u001B[43m(\u001B[49m\u001B[43mnames\u001B[49m\u001B[43m[\u001B[49m\u001B[43mi\u001B[49m\u001B[43m]\u001B[49m\u001B[43m)\u001B[49m\n",
      "File \u001B[0;32m~/PycharmProjects/cadd/notebooks/../molecular_docking/qvina_docking.py:84\u001B[0m, in \u001B[0;36mQvinaWrapper.docking\u001B[0;34m(self, mol_name, blind)\u001B[0m\n\u001B[1;32m     82\u001B[0m \u001B[38;5;28mprint\u001B[39m(cmd)\n\u001B[1;32m     83\u001B[0m \u001B[38;5;28mprint\u001B[39m(\u001B[38;5;28mself\u001B[39m\u001B[38;5;241m.\u001B[39mout_dir)\n\u001B[0;32m---> 84\u001B[0m \u001B[43msubprocess\u001B[49m\u001B[38;5;241;43m.\u001B[39;49m\u001B[43mcall\u001B[49m\u001B[43m(\u001B[49m\u001B[43mcmd\u001B[49m\u001B[43m,\u001B[49m\u001B[43m \u001B[49m\u001B[43mshell\u001B[49m\u001B[38;5;241;43m=\u001B[39;49m\u001B[38;5;28;43;01mTrue\u001B[39;49;00m\u001B[43m)\u001B[49m\n",
      "File \u001B[0;32m~/miniconda3/envs/docking/lib/python3.8/subprocess.py:342\u001B[0m, in \u001B[0;36mcall\u001B[0;34m(timeout, *popenargs, **kwargs)\u001B[0m\n\u001B[1;32m    340\u001B[0m \u001B[38;5;28;01mwith\u001B[39;00m Popen(\u001B[38;5;241m*\u001B[39mpopenargs, \u001B[38;5;241m*\u001B[39m\u001B[38;5;241m*\u001B[39mkwargs) \u001B[38;5;28;01mas\u001B[39;00m p:\n\u001B[1;32m    341\u001B[0m     \u001B[38;5;28;01mtry\u001B[39;00m:\n\u001B[0;32m--> 342\u001B[0m         \u001B[38;5;28;01mreturn\u001B[39;00m \u001B[43mp\u001B[49m\u001B[38;5;241;43m.\u001B[39;49m\u001B[43mwait\u001B[49m\u001B[43m(\u001B[49m\u001B[43mtimeout\u001B[49m\u001B[38;5;241;43m=\u001B[39;49m\u001B[43mtimeout\u001B[49m\u001B[43m)\u001B[49m\n\u001B[1;32m    343\u001B[0m     \u001B[38;5;28;01mexcept\u001B[39;00m:  \u001B[38;5;66;03m# Including KeyboardInterrupt, wait handled that.\u001B[39;00m\n\u001B[1;32m    344\u001B[0m         p\u001B[38;5;241m.\u001B[39mkill()\n",
      "File \u001B[0;32m~/miniconda3/envs/docking/lib/python3.8/subprocess.py:1083\u001B[0m, in \u001B[0;36mPopen.wait\u001B[0;34m(self, timeout)\u001B[0m\n\u001B[1;32m   1081\u001B[0m     endtime \u001B[38;5;241m=\u001B[39m _time() \u001B[38;5;241m+\u001B[39m timeout\n\u001B[1;32m   1082\u001B[0m \u001B[38;5;28;01mtry\u001B[39;00m:\n\u001B[0;32m-> 1083\u001B[0m     \u001B[38;5;28;01mreturn\u001B[39;00m \u001B[38;5;28;43mself\u001B[39;49m\u001B[38;5;241;43m.\u001B[39;49m\u001B[43m_wait\u001B[49m\u001B[43m(\u001B[49m\u001B[43mtimeout\u001B[49m\u001B[38;5;241;43m=\u001B[39;49m\u001B[43mtimeout\u001B[49m\u001B[43m)\u001B[49m\n\u001B[1;32m   1084\u001B[0m \u001B[38;5;28;01mexcept\u001B[39;00m \u001B[38;5;167;01mKeyboardInterrupt\u001B[39;00m:\n\u001B[1;32m   1085\u001B[0m     \u001B[38;5;66;03m# https://bugs.python.org/issue25942\u001B[39;00m\n\u001B[1;32m   1086\u001B[0m     \u001B[38;5;66;03m# The first keyboard interrupt waits briefly for the child to\u001B[39;00m\n\u001B[1;32m   1087\u001B[0m     \u001B[38;5;66;03m# exit under the common assumption that it also received the ^C\u001B[39;00m\n\u001B[1;32m   1088\u001B[0m     \u001B[38;5;66;03m# generated SIGINT and will exit rapidly.\u001B[39;00m\n\u001B[1;32m   1089\u001B[0m     \u001B[38;5;28;01mif\u001B[39;00m timeout \u001B[38;5;129;01mis\u001B[39;00m \u001B[38;5;129;01mnot\u001B[39;00m \u001B[38;5;28;01mNone\u001B[39;00m:\n",
      "File \u001B[0;32m~/miniconda3/envs/docking/lib/python3.8/subprocess.py:1806\u001B[0m, in \u001B[0;36mPopen._wait\u001B[0;34m(self, timeout)\u001B[0m\n\u001B[1;32m   1804\u001B[0m \u001B[38;5;28;01mif\u001B[39;00m \u001B[38;5;28mself\u001B[39m\u001B[38;5;241m.\u001B[39mreturncode \u001B[38;5;129;01mis\u001B[39;00m \u001B[38;5;129;01mnot\u001B[39;00m \u001B[38;5;28;01mNone\u001B[39;00m:\n\u001B[1;32m   1805\u001B[0m     \u001B[38;5;28;01mbreak\u001B[39;00m  \u001B[38;5;66;03m# Another thread waited.\u001B[39;00m\n\u001B[0;32m-> 1806\u001B[0m (pid, sts) \u001B[38;5;241m=\u001B[39m \u001B[38;5;28;43mself\u001B[39;49m\u001B[38;5;241;43m.\u001B[39;49m\u001B[43m_try_wait\u001B[49m\u001B[43m(\u001B[49m\u001B[38;5;241;43m0\u001B[39;49m\u001B[43m)\u001B[49m\n\u001B[1;32m   1807\u001B[0m \u001B[38;5;66;03m# Check the pid and loop as waitpid has been known to\u001B[39;00m\n\u001B[1;32m   1808\u001B[0m \u001B[38;5;66;03m# return 0 even without WNOHANG in odd situations.\u001B[39;00m\n\u001B[1;32m   1809\u001B[0m \u001B[38;5;66;03m# http://bugs.python.org/issue14396.\u001B[39;00m\n\u001B[1;32m   1810\u001B[0m \u001B[38;5;28;01mif\u001B[39;00m pid \u001B[38;5;241m==\u001B[39m \u001B[38;5;28mself\u001B[39m\u001B[38;5;241m.\u001B[39mpid:\n",
      "File \u001B[0;32m~/miniconda3/envs/docking/lib/python3.8/subprocess.py:1764\u001B[0m, in \u001B[0;36mPopen._try_wait\u001B[0;34m(self, wait_flags)\u001B[0m\n\u001B[1;32m   1762\u001B[0m \u001B[38;5;124;03m\"\"\"All callers to this function MUST hold self._waitpid_lock.\"\"\"\u001B[39;00m\n\u001B[1;32m   1763\u001B[0m \u001B[38;5;28;01mtry\u001B[39;00m:\n\u001B[0;32m-> 1764\u001B[0m     (pid, sts) \u001B[38;5;241m=\u001B[39m \u001B[43mos\u001B[49m\u001B[38;5;241;43m.\u001B[39;49m\u001B[43mwaitpid\u001B[49m\u001B[43m(\u001B[49m\u001B[38;5;28;43mself\u001B[39;49m\u001B[38;5;241;43m.\u001B[39;49m\u001B[43mpid\u001B[49m\u001B[43m,\u001B[49m\u001B[43m \u001B[49m\u001B[43mwait_flags\u001B[49m\u001B[43m)\u001B[49m\n\u001B[1;32m   1765\u001B[0m \u001B[38;5;28;01mexcept\u001B[39;00m \u001B[38;5;167;01mChildProcessError\u001B[39;00m:\n\u001B[1;32m   1766\u001B[0m     \u001B[38;5;66;03m# This happens if SIGCLD is set to be ignored or waiting\u001B[39;00m\n\u001B[1;32m   1767\u001B[0m     \u001B[38;5;66;03m# for child processes has otherwise been disabled for our\u001B[39;00m\n\u001B[1;32m   1768\u001B[0m     \u001B[38;5;66;03m# process.  This child is dead, we can't get the status.\u001B[39;00m\n\u001B[1;32m   1769\u001B[0m     pid \u001B[38;5;241m=\u001B[39m \u001B[38;5;28mself\u001B[39m\u001B[38;5;241m.\u001B[39mpid\n",
      "\u001B[0;31mKeyboardInterrupt\u001B[0m: "
     ]
    }
   ],
   "source": [
    "protein = '/home/anton/PycharmProjects/cadd/data/prots/cox.pdbqt'\n",
    "names = merged['Molecule ChEMBL ID'].tolist()\n",
    "smiles = merged['conjugate'].tolist()\n",
    "scores = {}\n",
    "analyzer = QvinaAnalyzer('docking')\n",
    "for i in range(len(names)):\n",
    "    print(names[i], smiles[i])\n",
    "    qvina = QvinaWrapper()\n",
    "    qvina.set_protein(protein)\n",
    "    qvina.set_ligand(smiles[i])\n",
    "    qvina.set_ligand_type('smiles')\n",
    "    qvina.set_num_modes(10)\n",
    "    qvina.set_exhaustiveness(32)\n",
    "    qvina.set_seed(42)\n",
    "    qvina.set_out_dir('docking')\n",
    "    qvina.docking(names[i])\n"
   ],
   "metadata": {
    "collapsed": false
   }
  },
  {
   "cell_type": "code",
   "execution_count": 24,
   "outputs": [],
   "source": [
    "names = [name.split('.')[0] for name in os.listdir('./docking')]\n",
    "results = {}\n",
    "analyzer = QvinaAnalyzer('docking')"
   ],
   "metadata": {
    "collapsed": false
   }
  },
  {
   "cell_type": "code",
   "execution_count": 25,
   "outputs": [],
   "source": [
    "results = {name: analyzer(name) for name in names}"
   ],
   "metadata": {
    "collapsed": false
   }
  },
  {
   "cell_type": "code",
   "execution_count": 26,
   "outputs": [
    {
     "data": {
      "text/plain": "{'CHEMBL6': ['-11.3',\n  '-10.7',\n  '-10.4',\n  '-10.4',\n  '-10.3',\n  '-10.3',\n  '-10.2',\n  '-10.0',\n  '-10.0',\n  '-10.0'],\n 'CHEMBL622': ['-11.6',\n  '-11.2',\n  '-11.2',\n  '-11.1',\n  '-10.9',\n  '-10.7',\n  '-10.5',\n  '-10.4',\n  '-10.3',\n  '-10.2']}"
     },
     "execution_count": 26,
     "metadata": {},
     "output_type": "execute_result"
    }
   ],
   "source": [
    "results"
   ],
   "metadata": {
    "collapsed": false
   }
  },
  {
   "cell_type": "markdown",
   "source": [],
   "metadata": {
    "collapsed": false
   }
  },
  {
   "cell_type": "code",
   "execution_count": 44,
   "outputs": [],
   "source": [
    "df = pd.DataFrame.from_dict(results, orient='index')"
   ],
   "metadata": {
    "collapsed": false
   }
  },
  {
   "cell_type": "code",
   "execution_count": 48,
   "outputs": [
    {
     "data": {
      "text/plain": "                   0      1      2      3      4      5      6      7      8  \\\nCHEMBL139       -9.7   -9.6   -9.5   -9.4   -9.4   -9.4   -9.4   -9.4   -9.4   \nCHEMBL1201124   -9.6   -9.6   -9.6   -9.4   -9.2   -9.2   -9.0   -8.9   -8.9   \nCHEMBL424       -9.5   -9.5   -9.5   -9.5   -9.4   -9.4   -9.4   -9.4   -9.3   \nCHEMBL704       -9.4   -9.4   -9.3   -9.3   -9.3   -9.3   -9.2   -9.2   -9.2   \nCHEMBL145       -9.0   -8.9   -8.7   -8.7   -8.7   -8.7   -8.7   -8.6   -8.6   \nCHEMBL25        -8.7   -8.6   -8.6   -8.6   -8.6   -8.6   -8.5   -8.5   -8.5   \nCHEMBL404108   -12.1  -11.9  -11.4  -11.2  -11.0  -11.0  -11.0  -10.9  -10.9   \nCHEMBL1071     -11.5  -11.4  -11.4  -11.3  -11.3  -11.2  -10.8  -10.7  -10.7   \nCHEMBL190083   -11.5  -11.3  -11.3  -11.2  -11.1  -11.1  -11.0  -11.0  -10.9   \nCHEMBL469      -11.5  -11.4  -11.2  -11.2  -11.1  -11.0  -11.0  -10.9  -10.9   \nCHEMBL1316     -11.5  -11.2  -11.1  -11.1  -10.9  -10.9  -10.9  -10.9  -10.8   \nCHEMBL435298   -11.4  -11.4  -11.1  -10.8  -10.7  -10.7  -10.6  -10.5  -10.5   \nCHEMBL563      -11.4  -11.4  -10.9  -10.8  -10.7  -10.5  -10.5  -10.5  -10.5   \nCHEMBL622      -11.3  -10.9  -10.8  -10.7  -10.6  -10.4  -10.2  -10.1   -9.9   \nCHEMBL1077     -11.1  -10.9  -10.8  -10.6  -10.5  -10.5  -10.4  -10.4  -10.4   \nCHEMBL19299    -11.1  -11.0  -10.8  -10.7  -10.6  -10.5  -10.5  -10.4  -10.3   \nCHEMBL23588    -11.0  -11.0  -11.0  -11.0  -11.0  -11.0  -10.9  -10.9  -10.9   \nCHEMBL571      -11.0  -10.8  -10.8  -10.5  -10.4  -10.4  -10.3  -10.3  -10.3   \nCHEMBL154      -10.7  -10.4  -10.4  -10.3  -10.3  -10.3  -10.2  -10.2  -10.1   \nCHEMBL75435    -10.4  -10.4  -10.4  -10.3  -10.3  -10.2  -10.1  -10.0  -10.0   \nCHEMBL521      -10.3  -10.2  -10.1  -10.1  -10.0  -10.0  -10.0   -9.9   -9.9   \nCHEMBL175      -10.1   -9.9   -9.8   -9.7   -9.7   -9.7   -9.7   -9.7   -9.6   \nCHEMBL6        -10.0   -9.4   -9.2   -9.0   -9.0   -8.8   -8.7   -8.5   -8.5   \n\n                   9  \nCHEMBL139       -9.3  \nCHEMBL1201124   -8.9  \nCHEMBL424       -9.3  \nCHEMBL704       -9.2  \nCHEMBL145       -8.6  \nCHEMBL25        -8.5  \nCHEMBL404108   -10.9  \nCHEMBL1071     -10.7  \nCHEMBL190083   -10.9  \nCHEMBL469      -10.9  \nCHEMBL1316     -10.8  \nCHEMBL435298   -10.5  \nCHEMBL563      -10.5  \nCHEMBL622       -9.8  \nCHEMBL1077     -10.4  \nCHEMBL19299    -10.3  \nCHEMBL23588    -10.9  \nCHEMBL571      -10.3  \nCHEMBL154      -10.1  \nCHEMBL75435    -10.0  \nCHEMBL521       -9.8  \nCHEMBL175       -9.6  \nCHEMBL6         -8.5  ",
      "text/html": "<div>\n<style scoped>\n    .dataframe tbody tr th:only-of-type {\n        vertical-align: middle;\n    }\n\n    .dataframe tbody tr th {\n        vertical-align: top;\n    }\n\n    .dataframe thead th {\n        text-align: right;\n    }\n</style>\n<table border=\"1\" class=\"dataframe\">\n  <thead>\n    <tr style=\"text-align: right;\">\n      <th></th>\n      <th>0</th>\n      <th>1</th>\n      <th>2</th>\n      <th>3</th>\n      <th>4</th>\n      <th>5</th>\n      <th>6</th>\n      <th>7</th>\n      <th>8</th>\n      <th>9</th>\n    </tr>\n  </thead>\n  <tbody>\n    <tr>\n      <th>CHEMBL139</th>\n      <td>-9.7</td>\n      <td>-9.6</td>\n      <td>-9.5</td>\n      <td>-9.4</td>\n      <td>-9.4</td>\n      <td>-9.4</td>\n      <td>-9.4</td>\n      <td>-9.4</td>\n      <td>-9.4</td>\n      <td>-9.3</td>\n    </tr>\n    <tr>\n      <th>CHEMBL1201124</th>\n      <td>-9.6</td>\n      <td>-9.6</td>\n      <td>-9.6</td>\n      <td>-9.4</td>\n      <td>-9.2</td>\n      <td>-9.2</td>\n      <td>-9.0</td>\n      <td>-8.9</td>\n      <td>-8.9</td>\n      <td>-8.9</td>\n    </tr>\n    <tr>\n      <th>CHEMBL424</th>\n      <td>-9.5</td>\n      <td>-9.5</td>\n      <td>-9.5</td>\n      <td>-9.5</td>\n      <td>-9.4</td>\n      <td>-9.4</td>\n      <td>-9.4</td>\n      <td>-9.4</td>\n      <td>-9.3</td>\n      <td>-9.3</td>\n    </tr>\n    <tr>\n      <th>CHEMBL704</th>\n      <td>-9.4</td>\n      <td>-9.4</td>\n      <td>-9.3</td>\n      <td>-9.3</td>\n      <td>-9.3</td>\n      <td>-9.3</td>\n      <td>-9.2</td>\n      <td>-9.2</td>\n      <td>-9.2</td>\n      <td>-9.2</td>\n    </tr>\n    <tr>\n      <th>CHEMBL145</th>\n      <td>-9.0</td>\n      <td>-8.9</td>\n      <td>-8.7</td>\n      <td>-8.7</td>\n      <td>-8.7</td>\n      <td>-8.7</td>\n      <td>-8.7</td>\n      <td>-8.6</td>\n      <td>-8.6</td>\n      <td>-8.6</td>\n    </tr>\n    <tr>\n      <th>CHEMBL25</th>\n      <td>-8.7</td>\n      <td>-8.6</td>\n      <td>-8.6</td>\n      <td>-8.6</td>\n      <td>-8.6</td>\n      <td>-8.6</td>\n      <td>-8.5</td>\n      <td>-8.5</td>\n      <td>-8.5</td>\n      <td>-8.5</td>\n    </tr>\n    <tr>\n      <th>CHEMBL404108</th>\n      <td>-12.1</td>\n      <td>-11.9</td>\n      <td>-11.4</td>\n      <td>-11.2</td>\n      <td>-11.0</td>\n      <td>-11.0</td>\n      <td>-11.0</td>\n      <td>-10.9</td>\n      <td>-10.9</td>\n      <td>-10.9</td>\n    </tr>\n    <tr>\n      <th>CHEMBL1071</th>\n      <td>-11.5</td>\n      <td>-11.4</td>\n      <td>-11.4</td>\n      <td>-11.3</td>\n      <td>-11.3</td>\n      <td>-11.2</td>\n      <td>-10.8</td>\n      <td>-10.7</td>\n      <td>-10.7</td>\n      <td>-10.7</td>\n    </tr>\n    <tr>\n      <th>CHEMBL190083</th>\n      <td>-11.5</td>\n      <td>-11.3</td>\n      <td>-11.3</td>\n      <td>-11.2</td>\n      <td>-11.1</td>\n      <td>-11.1</td>\n      <td>-11.0</td>\n      <td>-11.0</td>\n      <td>-10.9</td>\n      <td>-10.9</td>\n    </tr>\n    <tr>\n      <th>CHEMBL469</th>\n      <td>-11.5</td>\n      <td>-11.4</td>\n      <td>-11.2</td>\n      <td>-11.2</td>\n      <td>-11.1</td>\n      <td>-11.0</td>\n      <td>-11.0</td>\n      <td>-10.9</td>\n      <td>-10.9</td>\n      <td>-10.9</td>\n    </tr>\n    <tr>\n      <th>CHEMBL1316</th>\n      <td>-11.5</td>\n      <td>-11.2</td>\n      <td>-11.1</td>\n      <td>-11.1</td>\n      <td>-10.9</td>\n      <td>-10.9</td>\n      <td>-10.9</td>\n      <td>-10.9</td>\n      <td>-10.8</td>\n      <td>-10.8</td>\n    </tr>\n    <tr>\n      <th>CHEMBL435298</th>\n      <td>-11.4</td>\n      <td>-11.4</td>\n      <td>-11.1</td>\n      <td>-10.8</td>\n      <td>-10.7</td>\n      <td>-10.7</td>\n      <td>-10.6</td>\n      <td>-10.5</td>\n      <td>-10.5</td>\n      <td>-10.5</td>\n    </tr>\n    <tr>\n      <th>CHEMBL563</th>\n      <td>-11.4</td>\n      <td>-11.4</td>\n      <td>-10.9</td>\n      <td>-10.8</td>\n      <td>-10.7</td>\n      <td>-10.5</td>\n      <td>-10.5</td>\n      <td>-10.5</td>\n      <td>-10.5</td>\n      <td>-10.5</td>\n    </tr>\n    <tr>\n      <th>CHEMBL622</th>\n      <td>-11.3</td>\n      <td>-10.9</td>\n      <td>-10.8</td>\n      <td>-10.7</td>\n      <td>-10.6</td>\n      <td>-10.4</td>\n      <td>-10.2</td>\n      <td>-10.1</td>\n      <td>-9.9</td>\n      <td>-9.8</td>\n    </tr>\n    <tr>\n      <th>CHEMBL1077</th>\n      <td>-11.1</td>\n      <td>-10.9</td>\n      <td>-10.8</td>\n      <td>-10.6</td>\n      <td>-10.5</td>\n      <td>-10.5</td>\n      <td>-10.4</td>\n      <td>-10.4</td>\n      <td>-10.4</td>\n      <td>-10.4</td>\n    </tr>\n    <tr>\n      <th>CHEMBL19299</th>\n      <td>-11.1</td>\n      <td>-11.0</td>\n      <td>-10.8</td>\n      <td>-10.7</td>\n      <td>-10.6</td>\n      <td>-10.5</td>\n      <td>-10.5</td>\n      <td>-10.4</td>\n      <td>-10.3</td>\n      <td>-10.3</td>\n    </tr>\n    <tr>\n      <th>CHEMBL23588</th>\n      <td>-11.0</td>\n      <td>-11.0</td>\n      <td>-11.0</td>\n      <td>-11.0</td>\n      <td>-11.0</td>\n      <td>-11.0</td>\n      <td>-10.9</td>\n      <td>-10.9</td>\n      <td>-10.9</td>\n      <td>-10.9</td>\n    </tr>\n    <tr>\n      <th>CHEMBL571</th>\n      <td>-11.0</td>\n      <td>-10.8</td>\n      <td>-10.8</td>\n      <td>-10.5</td>\n      <td>-10.4</td>\n      <td>-10.4</td>\n      <td>-10.3</td>\n      <td>-10.3</td>\n      <td>-10.3</td>\n      <td>-10.3</td>\n    </tr>\n    <tr>\n      <th>CHEMBL154</th>\n      <td>-10.7</td>\n      <td>-10.4</td>\n      <td>-10.4</td>\n      <td>-10.3</td>\n      <td>-10.3</td>\n      <td>-10.3</td>\n      <td>-10.2</td>\n      <td>-10.2</td>\n      <td>-10.1</td>\n      <td>-10.1</td>\n    </tr>\n    <tr>\n      <th>CHEMBL75435</th>\n      <td>-10.4</td>\n      <td>-10.4</td>\n      <td>-10.4</td>\n      <td>-10.3</td>\n      <td>-10.3</td>\n      <td>-10.2</td>\n      <td>-10.1</td>\n      <td>-10.0</td>\n      <td>-10.0</td>\n      <td>-10.0</td>\n    </tr>\n    <tr>\n      <th>CHEMBL521</th>\n      <td>-10.3</td>\n      <td>-10.2</td>\n      <td>-10.1</td>\n      <td>-10.1</td>\n      <td>-10.0</td>\n      <td>-10.0</td>\n      <td>-10.0</td>\n      <td>-9.9</td>\n      <td>-9.9</td>\n      <td>-9.8</td>\n    </tr>\n    <tr>\n      <th>CHEMBL175</th>\n      <td>-10.1</td>\n      <td>-9.9</td>\n      <td>-9.8</td>\n      <td>-9.7</td>\n      <td>-9.7</td>\n      <td>-9.7</td>\n      <td>-9.7</td>\n      <td>-9.7</td>\n      <td>-9.6</td>\n      <td>-9.6</td>\n    </tr>\n    <tr>\n      <th>CHEMBL6</th>\n      <td>-10.0</td>\n      <td>-9.4</td>\n      <td>-9.2</td>\n      <td>-9.0</td>\n      <td>-9.0</td>\n      <td>-8.8</td>\n      <td>-8.7</td>\n      <td>-8.5</td>\n      <td>-8.5</td>\n      <td>-8.5</td>\n    </tr>\n  </tbody>\n</table>\n</div>"
     },
     "execution_count": 48,
     "metadata": {},
     "output_type": "execute_result"
    }
   ],
   "source": [
    "df.sort_values(0, ascending=False)"
   ],
   "metadata": {
    "collapsed": false
   }
  },
  {
   "cell_type": "code",
   "execution_count": 50,
   "outputs": [],
   "source": [
    "df['avg'] = [sum([float(score)for score in scores]) for scores in results.values()]"
   ],
   "metadata": {
    "collapsed": false
   }
  },
  {
   "cell_type": "code",
   "execution_count": 51,
   "outputs": [
    {
     "data": {
      "text/plain": "                   0      1      2      3      4      5      6      7      8  \\\nCHEMBL704       -9.4   -9.4   -9.3   -9.3   -9.3   -9.3   -9.2   -9.2   -9.2   \nCHEMBL563      -11.4  -11.4  -10.9  -10.8  -10.7  -10.5  -10.5  -10.5  -10.5   \nCHEMBL1077     -11.1  -10.9  -10.8  -10.6  -10.5  -10.5  -10.4  -10.4  -10.4   \nCHEMBL6        -10.0   -9.4   -9.2   -9.0   -9.0   -8.8   -8.7   -8.5   -8.5   \nCHEMBL1071     -11.5  -11.4  -11.4  -11.3  -11.3  -11.2  -10.8  -10.7  -10.7   \nCHEMBL404108   -12.1  -11.9  -11.4  -11.2  -11.0  -11.0  -11.0  -10.9  -10.9   \nCHEMBL19299    -11.1  -11.0  -10.8  -10.7  -10.6  -10.5  -10.5  -10.4  -10.3   \nCHEMBL145       -9.0   -8.9   -8.7   -8.7   -8.7   -8.7   -8.7   -8.6   -8.6   \nCHEMBL469      -11.5  -11.4  -11.2  -11.2  -11.1  -11.0  -11.0  -10.9  -10.9   \nCHEMBL154      -10.7  -10.4  -10.4  -10.3  -10.3  -10.3  -10.2  -10.2  -10.1   \nCHEMBL75435    -10.4  -10.4  -10.4  -10.3  -10.3  -10.2  -10.1  -10.0  -10.0   \nCHEMBL1201124   -9.6   -9.6   -9.6   -9.4   -9.2   -9.2   -9.0   -8.9   -8.9   \nCHEMBL175      -10.1   -9.9   -9.8   -9.7   -9.7   -9.7   -9.7   -9.7   -9.6   \nCHEMBL424       -9.5   -9.5   -9.5   -9.5   -9.4   -9.4   -9.4   -9.4   -9.3   \nCHEMBL23588    -11.0  -11.0  -11.0  -11.0  -11.0  -11.0  -10.9  -10.9  -10.9   \nCHEMBL139       -9.7   -9.6   -9.5   -9.4   -9.4   -9.4   -9.4   -9.4   -9.4   \nCHEMBL1316     -11.5  -11.2  -11.1  -11.1  -10.9  -10.9  -10.9  -10.9  -10.8   \nCHEMBL435298   -11.4  -11.4  -11.1  -10.8  -10.7  -10.7  -10.6  -10.5  -10.5   \nCHEMBL25        -8.7   -8.6   -8.6   -8.6   -8.6   -8.6   -8.5   -8.5   -8.5   \nCHEMBL521      -10.3  -10.2  -10.1  -10.1  -10.0  -10.0  -10.0   -9.9   -9.9   \nCHEMBL571      -11.0  -10.8  -10.8  -10.5  -10.4  -10.4  -10.3  -10.3  -10.3   \nCHEMBL190083   -11.5  -11.3  -11.3  -11.2  -11.1  -11.1  -11.0  -11.0  -10.9   \nCHEMBL622      -11.3  -10.9  -10.8  -10.7  -10.6  -10.4  -10.2  -10.1   -9.9   \n\n                   9    avg  \nCHEMBL704       -9.2  -92.8  \nCHEMBL563      -10.5 -107.7  \nCHEMBL1077     -10.4 -106.0  \nCHEMBL6         -8.5  -89.6  \nCHEMBL1071     -10.7 -111.0  \nCHEMBL404108   -10.9 -112.3  \nCHEMBL19299    -10.3 -106.2  \nCHEMBL145       -8.6  -87.2  \nCHEMBL469      -10.9 -111.1  \nCHEMBL154      -10.1 -103.0  \nCHEMBL75435    -10.0 -102.1  \nCHEMBL1201124   -8.9  -92.3  \nCHEMBL175       -9.6  -97.5  \nCHEMBL424       -9.3  -94.2  \nCHEMBL23588    -10.9 -109.6  \nCHEMBL139       -9.3  -94.5  \nCHEMBL1316     -10.8 -110.1  \nCHEMBL435298   -10.5 -108.2  \nCHEMBL25        -8.5  -85.7  \nCHEMBL521       -9.8 -100.3  \nCHEMBL571      -10.3 -105.1  \nCHEMBL190083   -10.9 -111.3  \nCHEMBL622       -9.8 -104.7  ",
      "text/html": "<div>\n<style scoped>\n    .dataframe tbody tr th:only-of-type {\n        vertical-align: middle;\n    }\n\n    .dataframe tbody tr th {\n        vertical-align: top;\n    }\n\n    .dataframe thead th {\n        text-align: right;\n    }\n</style>\n<table border=\"1\" class=\"dataframe\">\n  <thead>\n    <tr style=\"text-align: right;\">\n      <th></th>\n      <th>0</th>\n      <th>1</th>\n      <th>2</th>\n      <th>3</th>\n      <th>4</th>\n      <th>5</th>\n      <th>6</th>\n      <th>7</th>\n      <th>8</th>\n      <th>9</th>\n      <th>avg</th>\n    </tr>\n  </thead>\n  <tbody>\n    <tr>\n      <th>CHEMBL704</th>\n      <td>-9.4</td>\n      <td>-9.4</td>\n      <td>-9.3</td>\n      <td>-9.3</td>\n      <td>-9.3</td>\n      <td>-9.3</td>\n      <td>-9.2</td>\n      <td>-9.2</td>\n      <td>-9.2</td>\n      <td>-9.2</td>\n      <td>-92.8</td>\n    </tr>\n    <tr>\n      <th>CHEMBL563</th>\n      <td>-11.4</td>\n      <td>-11.4</td>\n      <td>-10.9</td>\n      <td>-10.8</td>\n      <td>-10.7</td>\n      <td>-10.5</td>\n      <td>-10.5</td>\n      <td>-10.5</td>\n      <td>-10.5</td>\n      <td>-10.5</td>\n      <td>-107.7</td>\n    </tr>\n    <tr>\n      <th>CHEMBL1077</th>\n      <td>-11.1</td>\n      <td>-10.9</td>\n      <td>-10.8</td>\n      <td>-10.6</td>\n      <td>-10.5</td>\n      <td>-10.5</td>\n      <td>-10.4</td>\n      <td>-10.4</td>\n      <td>-10.4</td>\n      <td>-10.4</td>\n      <td>-106.0</td>\n    </tr>\n    <tr>\n      <th>CHEMBL6</th>\n      <td>-10.0</td>\n      <td>-9.4</td>\n      <td>-9.2</td>\n      <td>-9.0</td>\n      <td>-9.0</td>\n      <td>-8.8</td>\n      <td>-8.7</td>\n      <td>-8.5</td>\n      <td>-8.5</td>\n      <td>-8.5</td>\n      <td>-89.6</td>\n    </tr>\n    <tr>\n      <th>CHEMBL1071</th>\n      <td>-11.5</td>\n      <td>-11.4</td>\n      <td>-11.4</td>\n      <td>-11.3</td>\n      <td>-11.3</td>\n      <td>-11.2</td>\n      <td>-10.8</td>\n      <td>-10.7</td>\n      <td>-10.7</td>\n      <td>-10.7</td>\n      <td>-111.0</td>\n    </tr>\n    <tr>\n      <th>CHEMBL404108</th>\n      <td>-12.1</td>\n      <td>-11.9</td>\n      <td>-11.4</td>\n      <td>-11.2</td>\n      <td>-11.0</td>\n      <td>-11.0</td>\n      <td>-11.0</td>\n      <td>-10.9</td>\n      <td>-10.9</td>\n      <td>-10.9</td>\n      <td>-112.3</td>\n    </tr>\n    <tr>\n      <th>CHEMBL19299</th>\n      <td>-11.1</td>\n      <td>-11.0</td>\n      <td>-10.8</td>\n      <td>-10.7</td>\n      <td>-10.6</td>\n      <td>-10.5</td>\n      <td>-10.5</td>\n      <td>-10.4</td>\n      <td>-10.3</td>\n      <td>-10.3</td>\n      <td>-106.2</td>\n    </tr>\n    <tr>\n      <th>CHEMBL145</th>\n      <td>-9.0</td>\n      <td>-8.9</td>\n      <td>-8.7</td>\n      <td>-8.7</td>\n      <td>-8.7</td>\n      <td>-8.7</td>\n      <td>-8.7</td>\n      <td>-8.6</td>\n      <td>-8.6</td>\n      <td>-8.6</td>\n      <td>-87.2</td>\n    </tr>\n    <tr>\n      <th>CHEMBL469</th>\n      <td>-11.5</td>\n      <td>-11.4</td>\n      <td>-11.2</td>\n      <td>-11.2</td>\n      <td>-11.1</td>\n      <td>-11.0</td>\n      <td>-11.0</td>\n      <td>-10.9</td>\n      <td>-10.9</td>\n      <td>-10.9</td>\n      <td>-111.1</td>\n    </tr>\n    <tr>\n      <th>CHEMBL154</th>\n      <td>-10.7</td>\n      <td>-10.4</td>\n      <td>-10.4</td>\n      <td>-10.3</td>\n      <td>-10.3</td>\n      <td>-10.3</td>\n      <td>-10.2</td>\n      <td>-10.2</td>\n      <td>-10.1</td>\n      <td>-10.1</td>\n      <td>-103.0</td>\n    </tr>\n    <tr>\n      <th>CHEMBL75435</th>\n      <td>-10.4</td>\n      <td>-10.4</td>\n      <td>-10.4</td>\n      <td>-10.3</td>\n      <td>-10.3</td>\n      <td>-10.2</td>\n      <td>-10.1</td>\n      <td>-10.0</td>\n      <td>-10.0</td>\n      <td>-10.0</td>\n      <td>-102.1</td>\n    </tr>\n    <tr>\n      <th>CHEMBL1201124</th>\n      <td>-9.6</td>\n      <td>-9.6</td>\n      <td>-9.6</td>\n      <td>-9.4</td>\n      <td>-9.2</td>\n      <td>-9.2</td>\n      <td>-9.0</td>\n      <td>-8.9</td>\n      <td>-8.9</td>\n      <td>-8.9</td>\n      <td>-92.3</td>\n    </tr>\n    <tr>\n      <th>CHEMBL175</th>\n      <td>-10.1</td>\n      <td>-9.9</td>\n      <td>-9.8</td>\n      <td>-9.7</td>\n      <td>-9.7</td>\n      <td>-9.7</td>\n      <td>-9.7</td>\n      <td>-9.7</td>\n      <td>-9.6</td>\n      <td>-9.6</td>\n      <td>-97.5</td>\n    </tr>\n    <tr>\n      <th>CHEMBL424</th>\n      <td>-9.5</td>\n      <td>-9.5</td>\n      <td>-9.5</td>\n      <td>-9.5</td>\n      <td>-9.4</td>\n      <td>-9.4</td>\n      <td>-9.4</td>\n      <td>-9.4</td>\n      <td>-9.3</td>\n      <td>-9.3</td>\n      <td>-94.2</td>\n    </tr>\n    <tr>\n      <th>CHEMBL23588</th>\n      <td>-11.0</td>\n      <td>-11.0</td>\n      <td>-11.0</td>\n      <td>-11.0</td>\n      <td>-11.0</td>\n      <td>-11.0</td>\n      <td>-10.9</td>\n      <td>-10.9</td>\n      <td>-10.9</td>\n      <td>-10.9</td>\n      <td>-109.6</td>\n    </tr>\n    <tr>\n      <th>CHEMBL139</th>\n      <td>-9.7</td>\n      <td>-9.6</td>\n      <td>-9.5</td>\n      <td>-9.4</td>\n      <td>-9.4</td>\n      <td>-9.4</td>\n      <td>-9.4</td>\n      <td>-9.4</td>\n      <td>-9.4</td>\n      <td>-9.3</td>\n      <td>-94.5</td>\n    </tr>\n    <tr>\n      <th>CHEMBL1316</th>\n      <td>-11.5</td>\n      <td>-11.2</td>\n      <td>-11.1</td>\n      <td>-11.1</td>\n      <td>-10.9</td>\n      <td>-10.9</td>\n      <td>-10.9</td>\n      <td>-10.9</td>\n      <td>-10.8</td>\n      <td>-10.8</td>\n      <td>-110.1</td>\n    </tr>\n    <tr>\n      <th>CHEMBL435298</th>\n      <td>-11.4</td>\n      <td>-11.4</td>\n      <td>-11.1</td>\n      <td>-10.8</td>\n      <td>-10.7</td>\n      <td>-10.7</td>\n      <td>-10.6</td>\n      <td>-10.5</td>\n      <td>-10.5</td>\n      <td>-10.5</td>\n      <td>-108.2</td>\n    </tr>\n    <tr>\n      <th>CHEMBL25</th>\n      <td>-8.7</td>\n      <td>-8.6</td>\n      <td>-8.6</td>\n      <td>-8.6</td>\n      <td>-8.6</td>\n      <td>-8.6</td>\n      <td>-8.5</td>\n      <td>-8.5</td>\n      <td>-8.5</td>\n      <td>-8.5</td>\n      <td>-85.7</td>\n    </tr>\n    <tr>\n      <th>CHEMBL521</th>\n      <td>-10.3</td>\n      <td>-10.2</td>\n      <td>-10.1</td>\n      <td>-10.1</td>\n      <td>-10.0</td>\n      <td>-10.0</td>\n      <td>-10.0</td>\n      <td>-9.9</td>\n      <td>-9.9</td>\n      <td>-9.8</td>\n      <td>-100.3</td>\n    </tr>\n    <tr>\n      <th>CHEMBL571</th>\n      <td>-11.0</td>\n      <td>-10.8</td>\n      <td>-10.8</td>\n      <td>-10.5</td>\n      <td>-10.4</td>\n      <td>-10.4</td>\n      <td>-10.3</td>\n      <td>-10.3</td>\n      <td>-10.3</td>\n      <td>-10.3</td>\n      <td>-105.1</td>\n    </tr>\n    <tr>\n      <th>CHEMBL190083</th>\n      <td>-11.5</td>\n      <td>-11.3</td>\n      <td>-11.3</td>\n      <td>-11.2</td>\n      <td>-11.1</td>\n      <td>-11.1</td>\n      <td>-11.0</td>\n      <td>-11.0</td>\n      <td>-10.9</td>\n      <td>-10.9</td>\n      <td>-111.3</td>\n    </tr>\n    <tr>\n      <th>CHEMBL622</th>\n      <td>-11.3</td>\n      <td>-10.9</td>\n      <td>-10.8</td>\n      <td>-10.7</td>\n      <td>-10.6</td>\n      <td>-10.4</td>\n      <td>-10.2</td>\n      <td>-10.1</td>\n      <td>-9.9</td>\n      <td>-9.8</td>\n      <td>-104.7</td>\n    </tr>\n  </tbody>\n</table>\n</div>"
     },
     "execution_count": 51,
     "metadata": {},
     "output_type": "execute_result"
    }
   ],
   "source": [
    "df"
   ],
   "metadata": {
    "collapsed": false
   }
  },
  {
   "cell_type": "code",
   "execution_count": null,
   "outputs": [],
   "source": [],
   "metadata": {
    "collapsed": false
   }
  }
 ],
 "metadata": {
  "kernelspec": {
   "display_name": "Python 3",
   "language": "python",
   "name": "python3"
  },
  "language_info": {
   "codemirror_mode": {
    "name": "ipython",
    "version": 2
   },
   "file_extension": ".py",
   "mimetype": "text/x-python",
   "name": "python",
   "nbconvert_exporter": "python",
   "pygments_lexer": "ipython2",
   "version": "2.7.6"
  }
 },
 "nbformat": 4,
 "nbformat_minor": 0
}

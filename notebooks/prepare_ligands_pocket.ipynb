{
 "cells": [
  {
   "cell_type": "code",
   "execution_count": 1,
   "metadata": {
    "collapsed": true
   },
   "outputs": [],
   "source": [
    "import pandas as pd"
   ]
  },
  {
   "cell_type": "code",
   "execution_count": 2,
   "outputs": [
    {
     "data": {
      "text/plain": "  Molecule ChEMBL ID Molecule Name  Molecule Max Phase Molecular Weight  \\\n0      CHEMBL2115305           NaN                   0           455.94   \n1       CHEMBL274841           NaN                   0           374.85   \n2        CHEMBL15791           NaN                   0           362.50   \n3        CHEMBL72294           NaN                   0           344.39   \n4       CHEMBL304054           NaN                   0           330.37   \n\n  #RO5 Violations AlogP Compound Key  \\\n0               0  3.33            R   \n1               0  3.41           M2   \n2               0  4.11           4b   \n3               0  2.36           32   \n4               0  2.05           17   \n\n                                              Smiles Standard Type  \\\n0  COc1ccc2c(c1)c(CC(=O)NN1CCC[C@@H]1CO)c(C)n2C(=...          IC50   \n1  Cc1ccc(-c2ncc(Cl)cc2-c2ccc(S(C)(=O)=O)cc2)c[n+...          IC50   \n2  CONC1=NC(=O)/C(=C/c2cc(C(C)(C)C)c(O)c(C(C)(C)C...          IC50   \n3    Cc1ccc(-n2c(-c3ccc(S(N)(=O)=O)cc3)c(C)oc2=O)cc1          IC50   \n4       Cc1cccc(-n2c(-c3ccc(S(N)(=O)=O)cc3)coc2=O)c1          IC50   \n\n  Standard Relation  ...       Target Name Target Organism     Target Type  \\\n0               '='  ...  Cyclooxygenase-2    Homo sapiens  SINGLE PROTEIN   \n1               '='  ...  Cyclooxygenase-2    Homo sapiens  SINGLE PROTEIN   \n2               '='  ...  Cyclooxygenase-2    Homo sapiens  SINGLE PROTEIN   \n3               '='  ...  Cyclooxygenase-2    Homo sapiens  SINGLE PROTEIN   \n4               '='  ...  Cyclooxygenase-2    Homo sapiens  SINGLE PROTEIN   \n\n  Document ChEMBL ID Source ID     Source Description  \\\n0      CHEMBL1135305         1  Scientific Literature   \n1      CHEMBL1134752         1  Scientific Literature   \n2      CHEMBL1132621         1  Scientific Literature   \n3      CHEMBL1133663         1  Scientific Literature   \n4      CHEMBL1133663         1  Scientific Literature   \n\n           Document Journal Document Year Cell ChEMBL ID Properties  \n0  Bioorg. Med. Chem. Lett.        2002.0           None        NaN  \n1  Bioorg. Med. Chem. Lett.        2001.0           None        NaN  \n2             J. Med. Chem.        1999.0           None        NaN  \n3             J. Med. Chem.        2000.0           None        NaN  \n4             J. Med. Chem.        2000.0           None        NaN  \n\n[5 rows x 45 columns]",
      "text/html": "<div>\n<style scoped>\n    .dataframe tbody tr th:only-of-type {\n        vertical-align: middle;\n    }\n\n    .dataframe tbody tr th {\n        vertical-align: top;\n    }\n\n    .dataframe thead th {\n        text-align: right;\n    }\n</style>\n<table border=\"1\" class=\"dataframe\">\n  <thead>\n    <tr style=\"text-align: right;\">\n      <th></th>\n      <th>Molecule ChEMBL ID</th>\n      <th>Molecule Name</th>\n      <th>Molecule Max Phase</th>\n      <th>Molecular Weight</th>\n      <th>#RO5 Violations</th>\n      <th>AlogP</th>\n      <th>Compound Key</th>\n      <th>Smiles</th>\n      <th>Standard Type</th>\n      <th>Standard Relation</th>\n      <th>...</th>\n      <th>Target Name</th>\n      <th>Target Organism</th>\n      <th>Target Type</th>\n      <th>Document ChEMBL ID</th>\n      <th>Source ID</th>\n      <th>Source Description</th>\n      <th>Document Journal</th>\n      <th>Document Year</th>\n      <th>Cell ChEMBL ID</th>\n      <th>Properties</th>\n    </tr>\n  </thead>\n  <tbody>\n    <tr>\n      <th>0</th>\n      <td>CHEMBL2115305</td>\n      <td>NaN</td>\n      <td>0</td>\n      <td>455.94</td>\n      <td>0</td>\n      <td>3.33</td>\n      <td>R</td>\n      <td>COc1ccc2c(c1)c(CC(=O)NN1CCC[C@@H]1CO)c(C)n2C(=...</td>\n      <td>IC50</td>\n      <td>'='</td>\n      <td>...</td>\n      <td>Cyclooxygenase-2</td>\n      <td>Homo sapiens</td>\n      <td>SINGLE PROTEIN</td>\n      <td>CHEMBL1135305</td>\n      <td>1</td>\n      <td>Scientific Literature</td>\n      <td>Bioorg. Med. Chem. Lett.</td>\n      <td>2002.0</td>\n      <td>None</td>\n      <td>NaN</td>\n    </tr>\n    <tr>\n      <th>1</th>\n      <td>CHEMBL274841</td>\n      <td>NaN</td>\n      <td>0</td>\n      <td>374.85</td>\n      <td>0</td>\n      <td>3.41</td>\n      <td>M2</td>\n      <td>Cc1ccc(-c2ncc(Cl)cc2-c2ccc(S(C)(=O)=O)cc2)c[n+...</td>\n      <td>IC50</td>\n      <td>'='</td>\n      <td>...</td>\n      <td>Cyclooxygenase-2</td>\n      <td>Homo sapiens</td>\n      <td>SINGLE PROTEIN</td>\n      <td>CHEMBL1134752</td>\n      <td>1</td>\n      <td>Scientific Literature</td>\n      <td>Bioorg. Med. Chem. Lett.</td>\n      <td>2001.0</td>\n      <td>None</td>\n      <td>NaN</td>\n    </tr>\n    <tr>\n      <th>2</th>\n      <td>CHEMBL15791</td>\n      <td>NaN</td>\n      <td>0</td>\n      <td>362.50</td>\n      <td>0</td>\n      <td>4.11</td>\n      <td>4b</td>\n      <td>CONC1=NC(=O)/C(=C/c2cc(C(C)(C)C)c(O)c(C(C)(C)C...</td>\n      <td>IC50</td>\n      <td>'='</td>\n      <td>...</td>\n      <td>Cyclooxygenase-2</td>\n      <td>Homo sapiens</td>\n      <td>SINGLE PROTEIN</td>\n      <td>CHEMBL1132621</td>\n      <td>1</td>\n      <td>Scientific Literature</td>\n      <td>J. Med. Chem.</td>\n      <td>1999.0</td>\n      <td>None</td>\n      <td>NaN</td>\n    </tr>\n    <tr>\n      <th>3</th>\n      <td>CHEMBL72294</td>\n      <td>NaN</td>\n      <td>0</td>\n      <td>344.39</td>\n      <td>0</td>\n      <td>2.36</td>\n      <td>32</td>\n      <td>Cc1ccc(-n2c(-c3ccc(S(N)(=O)=O)cc3)c(C)oc2=O)cc1</td>\n      <td>IC50</td>\n      <td>'='</td>\n      <td>...</td>\n      <td>Cyclooxygenase-2</td>\n      <td>Homo sapiens</td>\n      <td>SINGLE PROTEIN</td>\n      <td>CHEMBL1133663</td>\n      <td>1</td>\n      <td>Scientific Literature</td>\n      <td>J. Med. Chem.</td>\n      <td>2000.0</td>\n      <td>None</td>\n      <td>NaN</td>\n    </tr>\n    <tr>\n      <th>4</th>\n      <td>CHEMBL304054</td>\n      <td>NaN</td>\n      <td>0</td>\n      <td>330.37</td>\n      <td>0</td>\n      <td>2.05</td>\n      <td>17</td>\n      <td>Cc1cccc(-n2c(-c3ccc(S(N)(=O)=O)cc3)coc2=O)c1</td>\n      <td>IC50</td>\n      <td>'='</td>\n      <td>...</td>\n      <td>Cyclooxygenase-2</td>\n      <td>Homo sapiens</td>\n      <td>SINGLE PROTEIN</td>\n      <td>CHEMBL1133663</td>\n      <td>1</td>\n      <td>Scientific Literature</td>\n      <td>J. Med. Chem.</td>\n      <td>2000.0</td>\n      <td>None</td>\n      <td>NaN</td>\n    </tr>\n  </tbody>\n</table>\n<p>5 rows × 45 columns</p>\n</div>"
     },
     "execution_count": 2,
     "metadata": {},
     "output_type": "execute_result"
    }
   ],
   "source": [
    "data_path = '../data/cox-2_chembl.csv'\n",
    "df = pd.read_csv(data_path, sep=';')\n",
    "df.head()"
   ],
   "metadata": {
    "collapsed": false
   }
  },
  {
   "cell_type": "code",
   "execution_count": 3,
   "outputs": [
    {
     "data": {
      "text/plain": "nM         6380\nug.mL-1      20\n%             1\nug            1\nµM            1\nName: Standard Units, dtype: int64"
     },
     "execution_count": 3,
     "metadata": {},
     "output_type": "execute_result"
    }
   ],
   "source": [
    "df['Standard Units'].value_counts()"
   ],
   "metadata": {
    "collapsed": false
   }
  },
  {
   "cell_type": "code",
   "execution_count": 4,
   "outputs": [
    {
     "data": {
      "text/plain": "nM    6380\nName: Standard Units, dtype: int64"
     },
     "execution_count": 4,
     "metadata": {},
     "output_type": "execute_result"
    }
   ],
   "source": [
    "df = df[df['Standard Units'] == 'nM']\n",
    "df['Standard Units'].value_counts()"
   ],
   "metadata": {
    "collapsed": false
   }
  },
  {
   "cell_type": "code",
   "execution_count": 5,
   "outputs": [
    {
     "data": {
      "text/plain": "Molecule ChEMBL ID               0\nMolecule Name                 5532\nMolecule Max Phase               0\nMolecular Weight                 0\n#RO5 Violations                  0\nAlogP                            0\nCompound Key                     0\nSmiles                           1\nStandard Type                    0\nStandard Relation               19\nStandard Value                  19\nStandard Units                   0\npChEMBL Value                 1260\nData Validity Comment         6080\nComment                       6273\nUo Units                         0\nLigand Efficiency BEI         1361\nLigand Efficiency LE          1361\nLigand Efficiency LLE         1361\nLigand Efficiency SEI         1361\nPotential Duplicate              0\nAssay ChEMBL ID                  0\nAssay Description                0\nAssay Type                       0\nBAO Format ID                    0\nBAO Label                        0\nAssay Organism                   0\nAssay Tissue ChEMBL ID           0\nAssay Tissue Name                0\nAssay Cell Type                  0\nAssay Subcellular Fraction       0\nAssay Parameters              6380\nAssay Variant Accession       6380\nAssay Variant Mutation        6380\nTarget ChEMBL ID                 0\nTarget Name                      0\nTarget Organism                  0\nTarget Type                      0\nDocument ChEMBL ID               0\nSource ID                        0\nSource Description               0\nDocument Journal               118\nDocument Year                   30\nCell ChEMBL ID                   0\nProperties                    6193\ndtype: int64"
     },
     "execution_count": 5,
     "metadata": {},
     "output_type": "execute_result"
    }
   ],
   "source": [
    "df.isna().sum()"
   ],
   "metadata": {
    "collapsed": false
   }
  },
  {
   "cell_type": "code",
   "execution_count": 6,
   "outputs": [],
   "source": [
    "df.dropna(subset=['Smiles', 'Standard Relation'], axis=0, inplace=True)"
   ],
   "metadata": {
    "collapsed": false
   }
  },
  {
   "cell_type": "code",
   "execution_count": 7,
   "outputs": [
    {
     "data": {
      "text/plain": "'='     5371\n'>'      933\n'<'       55\n'>='       1\nName: Standard Relation, dtype: int64"
     },
     "execution_count": 7,
     "metadata": {},
     "output_type": "execute_result"
    }
   ],
   "source": [
    "df['Standard Relation'].value_counts()"
   ],
   "metadata": {
    "collapsed": false
   }
  },
  {
   "cell_type": "code",
   "execution_count": 8,
   "outputs": [],
   "source": [
    "relevant_columns = ['Molecule ChEMBL ID', 'Molecule Name', 'Molecular Weight', '#RO5 Violations', 'Smiles',\n",
    "                    'Standard Value', 'Standard Units', 'pChEMBL Value']"
   ],
   "metadata": {
    "collapsed": false
   }
  },
  {
   "cell_type": "code",
   "execution_count": 9,
   "outputs": [],
   "source": [
    "df = df[df['Standard Relation'].str.contains('=')][relevant_columns]"
   ],
   "metadata": {
    "collapsed": false
   }
  },
  {
   "cell_type": "code",
   "execution_count": 10,
   "outputs": [],
   "source": [
    "sorted_df = df.sort_values(by='Standard Value')"
   ],
   "metadata": {
    "collapsed": false
   }
  },
  {
   "cell_type": "code",
   "execution_count": 11,
   "outputs": [
    {
     "data": {
      "text/plain": "  Molecule ChEMBL ID  Molecule Name Molecular Weight #RO5 Violations  \\\n0       CHEMBL513405            NaN           332.69            None   \n1       CHEMBL134342  THIOCTIC ACID           206.33               0   \n2        CHEMBL51085        EBSELEN           274.18            None   \n3       CHEMBL452730            NaN           328.27            None   \n4       CHEMBL501676            NaN           353.11            None   \n5       CHEMBL471171            NaN           332.69            None   \n6      CHEMBL2158361            NaN           287.32               0   \n7       CHEMBL499068            NaN           378.45               0   \n8       CHEMBL499069            NaN           377.47               0   \n9       CHEMBL501208            NaN           365.43               1   \n\n                                              Smiles  Standard Value  \\\n0                Cc1ccc(-c2cn[se]c2-c2ccc(Cl)cc2)cc1        0.000000   \n1                             O=C(O)CCCC[C@@H]1CCSS1        0.000000   \n2                        O=c1c2ccccc2[se]n1-c1ccccc1        0.000000   \n3                COc1ccc(-c2[se]ncc2-c2ccc(C)cc2)cc1        0.000000   \n4               Clc1ccc(-c2cn[se]c2-c2ccc(Cl)cc2)cc1        0.000000   \n5                Cc1ccc(-c2[se]ncc2-c2ccc(Cl)cc2)cc1        0.000000   \n6                CC(Oc1cc(=O)oc2ccccc12)C(=O)N1CCCC1        0.000000   \n7  COc1ccc(-c2c(-c3ccc(S(N)(=O)=O)cc3)[nH]c3ccccc...        0.005998   \n8  COc1ccc(-c2c(-c3ccc(S(C)(=O)=O)cc3)[nH]c3ccccc...        0.020000   \n9  CS(=O)(=O)c1ccc(-c2[nH]c3ccccc3c2-c2ccc(F)cc2)cc1        0.020000   \n\n  Standard Units  pChEMBL Value  \n0             nM            NaN  \n1             nM            NaN  \n2             nM            NaN  \n3             nM            NaN  \n4             nM            NaN  \n5             nM            NaN  \n6             nM            NaN  \n7             nM            NaN  \n8             nM           10.7  \n9             nM           10.7  ",
      "text/html": "<div>\n<style scoped>\n    .dataframe tbody tr th:only-of-type {\n        vertical-align: middle;\n    }\n\n    .dataframe tbody tr th {\n        vertical-align: top;\n    }\n\n    .dataframe thead th {\n        text-align: right;\n    }\n</style>\n<table border=\"1\" class=\"dataframe\">\n  <thead>\n    <tr style=\"text-align: right;\">\n      <th></th>\n      <th>Molecule ChEMBL ID</th>\n      <th>Molecule Name</th>\n      <th>Molecular Weight</th>\n      <th>#RO5 Violations</th>\n      <th>Smiles</th>\n      <th>Standard Value</th>\n      <th>Standard Units</th>\n      <th>pChEMBL Value</th>\n    </tr>\n  </thead>\n  <tbody>\n    <tr>\n      <th>0</th>\n      <td>CHEMBL513405</td>\n      <td>NaN</td>\n      <td>332.69</td>\n      <td>None</td>\n      <td>Cc1ccc(-c2cn[se]c2-c2ccc(Cl)cc2)cc1</td>\n      <td>0.000000</td>\n      <td>nM</td>\n      <td>NaN</td>\n    </tr>\n    <tr>\n      <th>1</th>\n      <td>CHEMBL134342</td>\n      <td>THIOCTIC ACID</td>\n      <td>206.33</td>\n      <td>0</td>\n      <td>O=C(O)CCCC[C@@H]1CCSS1</td>\n      <td>0.000000</td>\n      <td>nM</td>\n      <td>NaN</td>\n    </tr>\n    <tr>\n      <th>2</th>\n      <td>CHEMBL51085</td>\n      <td>EBSELEN</td>\n      <td>274.18</td>\n      <td>None</td>\n      <td>O=c1c2ccccc2[se]n1-c1ccccc1</td>\n      <td>0.000000</td>\n      <td>nM</td>\n      <td>NaN</td>\n    </tr>\n    <tr>\n      <th>3</th>\n      <td>CHEMBL452730</td>\n      <td>NaN</td>\n      <td>328.27</td>\n      <td>None</td>\n      <td>COc1ccc(-c2[se]ncc2-c2ccc(C)cc2)cc1</td>\n      <td>0.000000</td>\n      <td>nM</td>\n      <td>NaN</td>\n    </tr>\n    <tr>\n      <th>4</th>\n      <td>CHEMBL501676</td>\n      <td>NaN</td>\n      <td>353.11</td>\n      <td>None</td>\n      <td>Clc1ccc(-c2cn[se]c2-c2ccc(Cl)cc2)cc1</td>\n      <td>0.000000</td>\n      <td>nM</td>\n      <td>NaN</td>\n    </tr>\n    <tr>\n      <th>5</th>\n      <td>CHEMBL471171</td>\n      <td>NaN</td>\n      <td>332.69</td>\n      <td>None</td>\n      <td>Cc1ccc(-c2[se]ncc2-c2ccc(Cl)cc2)cc1</td>\n      <td>0.000000</td>\n      <td>nM</td>\n      <td>NaN</td>\n    </tr>\n    <tr>\n      <th>6</th>\n      <td>CHEMBL2158361</td>\n      <td>NaN</td>\n      <td>287.32</td>\n      <td>0</td>\n      <td>CC(Oc1cc(=O)oc2ccccc12)C(=O)N1CCCC1</td>\n      <td>0.000000</td>\n      <td>nM</td>\n      <td>NaN</td>\n    </tr>\n    <tr>\n      <th>7</th>\n      <td>CHEMBL499068</td>\n      <td>NaN</td>\n      <td>378.45</td>\n      <td>0</td>\n      <td>COc1ccc(-c2c(-c3ccc(S(N)(=O)=O)cc3)[nH]c3ccccc...</td>\n      <td>0.005998</td>\n      <td>nM</td>\n      <td>NaN</td>\n    </tr>\n    <tr>\n      <th>8</th>\n      <td>CHEMBL499069</td>\n      <td>NaN</td>\n      <td>377.47</td>\n      <td>0</td>\n      <td>COc1ccc(-c2c(-c3ccc(S(C)(=O)=O)cc3)[nH]c3ccccc...</td>\n      <td>0.020000</td>\n      <td>nM</td>\n      <td>10.7</td>\n    </tr>\n    <tr>\n      <th>9</th>\n      <td>CHEMBL501208</td>\n      <td>NaN</td>\n      <td>365.43</td>\n      <td>1</td>\n      <td>CS(=O)(=O)c1ccc(-c2[nH]c3ccccc3c2-c2ccc(F)cc2)cc1</td>\n      <td>0.020000</td>\n      <td>nM</td>\n      <td>10.7</td>\n    </tr>\n  </tbody>\n</table>\n</div>"
     },
     "execution_count": 11,
     "metadata": {},
     "output_type": "execute_result"
    }
   ],
   "source": [
    "sorted_df.drop_duplicates(subset='Molecule ChEMBL ID', keep='first', inplace=True)\n",
    "sorted_df.reset_index(drop=True, inplace=True)\n",
    "sorted_df.head(10)"
   ],
   "metadata": {
    "collapsed": false
   }
  },
  {
   "cell_type": "code",
   "execution_count": 12,
   "outputs": [],
   "source": [
    "sorted_df.to_csv('dataset_cleaned.csv')"
   ],
   "metadata": {
    "collapsed": false
   }
  },
  {
   "cell_type": "code",
   "execution_count": 13,
   "outputs": [
    {
     "data": {
      "text/plain": "3747"
     },
     "execution_count": 13,
     "metadata": {},
     "output_type": "execute_result"
    }
   ],
   "source": [
    "len(sorted_df)"
   ],
   "metadata": {
    "collapsed": false
   }
  },
  {
   "cell_type": "code",
   "execution_count": 14,
   "outputs": [],
   "source": [
    "from rdkit.Chem import PandasTools, Draw\n",
    "from rdkit import Chem\n",
    "from rdkit.Chem.Fragments import fr_Ar_COO, fr_COO"
   ],
   "metadata": {
    "collapsed": false
   }
  },
  {
   "cell_type": "code",
   "execution_count": 15,
   "outputs": [],
   "source": [
    "PandasTools.AddMoleculeColumnToFrame(sorted_df, smilesCol='Smiles', molCol='Mol')"
   ],
   "metadata": {
    "collapsed": false
   }
  },
  {
   "cell_type": "code",
   "execution_count": 16,
   "outputs": [
    {
     "data": {
      "text/plain": "<PIL.PngImagePlugin.PngImageFile image mode=RGB size=300x300>",
      "image/png": "[encoded data removed]"
     },
     "execution_count": 16,
     "metadata": {},
     "output_type": "execute_result"
    }
   ],
   "source": [
    "Draw.MolToImage(sorted_df.Mol[1])"
   ],
   "metadata": {
    "collapsed": false
   }
  },
  {
   "cell_type": "code",
   "execution_count": 17,
   "outputs": [
    {
     "data": {
      "text/plain": "1"
     },
     "execution_count": 17,
     "metadata": {},
     "output_type": "execute_result"
    }
   ],
   "source": [
    "b_acid = Chem.MolFromSmiles('O=C(O)c1ccccc1')\n",
    "fr_COO(b_acid)"
   ],
   "metadata": {
    "collapsed": false
   }
  },
  {
   "cell_type": "code",
   "execution_count": 18,
   "outputs": [],
   "source": [
    "sorted_df['COOH'] = sorted_df.Mol.apply(fr_COO)"
   ],
   "metadata": {
    "collapsed": false
   }
  },
  {
   "cell_type": "code",
   "execution_count": 19,
   "outputs": [
    {
     "data": {
      "text/plain": "0    3317\n1     416\n2      14\nName: COOH, dtype: int64"
     },
     "execution_count": 19,
     "metadata": {},
     "output_type": "execute_result"
    }
   ],
   "source": [
    "sorted_df['COOH'].value_counts()"
   ],
   "metadata": {
    "collapsed": false
   }
  },
  {
   "cell_type": "code",
   "execution_count": 20,
   "outputs": [],
   "source": [
    "acids_df = sorted_df[sorted_df['COOH']==1]"
   ],
   "metadata": {
    "collapsed": false
   }
  },
  {
   "cell_type": "code",
   "execution_count": 21,
   "outputs": [
    {
     "data": {
      "text/plain": "     Molecule ChEMBL ID  Molecule Name Molecular Weight #RO5 Violations  \\\n1          CHEMBL134342  THIOCTIC ACID           206.33               0   \n105       CHEMBL1288533            NaN           313.06               0   \n127          CHEMBL1077      BROMFENAC           334.17               0   \n138       CHEMBL1630225            NaN           334.72               0   \n140           CHEMBL139     DICLOFENAC           296.15               0   \n...                 ...            ...              ...             ...   \n3693      CHEMBL1288591            NaN           313.06               0   \n3701      CHEMBL1814713            NaN           358.41               0   \n3703      CHEMBL1814722            NaN           374.41               0   \n3717      CHEMBL1814708            NaN           394.18               0   \n3719      CHEMBL1814721            NaN           358.41               0   \n\n                                                 Smiles  Standard Value  \\\n1                                O=C(O)CCCC[C@@H]1CCSS1           0.000   \n105               O=C(O)C1=Cc2c(ccc(Cl)c2Cl)OC1C(F)(F)F           3.000   \n127                 Nc1c(CC(=O)O)cccc1C(=O)c1ccc(Br)cc1           4.803   \n138       CC(C)(C)c1cc2c(cc1Cl)C=C(C(=O)O)C(C(F)(F)F)O2           5.000   \n140                      O=C(O)Cc1ccccc1Nc1c(Cl)cccc1Cl           5.000   \n...                                                 ...             ...   \n3693              O=C(O)C1=Cc2ccc(Cl)c(Cl)c2OC1C(F)(F)F      300000.000   \n3701  Cc1ccc(-c2cc(C(C)C(=O)[O-])ccc2CC2CCCC2=O)cc1....      420000.000   \n3703  COc1ccc(-c2cc(CC3CCCC3=O)ccc2C(C)C(=O)[O-])cc1...      430000.000   \n3717           CC(C(=O)[O-])c1ccc(CC2CCCC2=O)cc1I.[Na+]      540000.000   \n3719  Cc1ccc(-c2cc(CC3CCCC3=O)ccc2C(C)C(=O)[O-])cc1....      540000.000   \n\n     Standard Units  pChEMBL Value  \\\n1                nM            NaN   \n105              nM           8.52   \n127              nM           8.32   \n138              nM           8.30   \n140              nM           8.30   \n...             ...            ...   \n3693             nM            NaN   \n3701             nM            NaN   \n3703             nM            NaN   \n3717             nM            NaN   \n3719             nM            NaN   \n\n                                                   Mol  COOH  \n1     <rdkit.Chem.rdchem.Mol object at 0x7f965a215120>     1  \n105   <rdkit.Chem.rdchem.Mol object at 0x7f95a5494e40>     1  \n127   <rdkit.Chem.rdchem.Mol object at 0x7f95a548f820>     1  \n138   <rdkit.Chem.rdchem.Mol object at 0x7f95a548fcf0>     1  \n140   <rdkit.Chem.rdchem.Mol object at 0x7f95a548fdd0>     1  \n...                                                ...   ...  \n3693  <rdkit.Chem.rdchem.Mol object at 0x7f95a54aa900>     1  \n3701  <rdkit.Chem.rdchem.Mol object at 0x7f95a54aac80>     1  \n3703  <rdkit.Chem.rdchem.Mol object at 0x7f95a54aad60>     1  \n3717  <rdkit.Chem.rdchem.Mol object at 0x7f95a548c3c0>     1  \n3719  <rdkit.Chem.rdchem.Mol object at 0x7f95a548c4a0>     1  \n\n[416 rows x 10 columns]",
      "text/html": "<div>\n<style scoped>\n    .dataframe tbody tr th:only-of-type {\n        vertical-align: middle;\n    }\n\n    .dataframe tbody tr th {\n        vertical-align: top;\n    }\n\n    .dataframe thead th {\n        text-align: right;\n    }\n</style>\n<table border=\"1\" class=\"dataframe\">\n  <thead>\n    <tr style=\"text-align: right;\">\n      <th></th>\n      <th>Molecule ChEMBL ID</th>\n      <th>Molecule Name</th>\n      <th>Molecular Weight</th>\n      <th>#RO5 Violations</th>\n      <th>Smiles</th>\n      <th>Standard Value</th>\n      <th>Standard Units</th>\n      <th>pChEMBL Value</th>\n      <th>Mol</th>\n      <th>COOH</th>\n    </tr>\n  </thead>\n  <tbody>\n    <tr>\n      <th>1</th>\n      <td>CHEMBL134342</td>\n      <td>THIOCTIC ACID</td>\n      <td>206.33</td>\n      <td>0</td>\n      <td>O=C(O)CCCC[C@@H]1CCSS1</td>\n      <td>0.000</td>\n      <td>nM</td>\n      <td>NaN</td>\n      <td>&lt;rdkit.Chem.rdchem.Mol object at 0x7f965a215120&gt;</td>\n      <td>1</td>\n    </tr>\n    <tr>\n      <th>105</th>\n      <td>CHEMBL1288533</td>\n      <td>NaN</td>\n      <td>313.06</td>\n      <td>0</td>\n      <td>O=C(O)C1=Cc2c(ccc(Cl)c2Cl)OC1C(F)(F)F</td>\n      <td>3.000</td>\n      <td>nM</td>\n      <td>8.52</td>\n      <td>&lt;rdkit.Chem.rdchem.Mol object at 0x7f95a5494e40&gt;</td>\n      <td>1</td>\n    </tr>\n    <tr>\n      <th>127</th>\n      <td>CHEMBL1077</td>\n      <td>BROMFENAC</td>\n      <td>334.17</td>\n      <td>0</td>\n      <td>Nc1c(CC(=O)O)cccc1C(=O)c1ccc(Br)cc1</td>\n      <td>4.803</td>\n      <td>nM</td>\n      <td>8.32</td>\n      <td>&lt;rdkit.Chem.rdchem.Mol object at 0x7f95a548f820&gt;</td>\n      <td>1</td>\n    </tr>\n    <tr>\n      <th>138</th>\n      <td>CHEMBL1630225</td>\n      <td>NaN</td>\n      <td>334.72</td>\n      <td>0</td>\n      <td>CC(C)(C)c1cc2c(cc1Cl)C=C(C(=O)O)C(C(F)(F)F)O2</td>\n      <td>5.000</td>\n      <td>nM</td>\n      <td>8.30</td>\n      <td>&lt;rdkit.Chem.rdchem.Mol object at 0x7f95a548fcf0&gt;</td>\n      <td>1</td>\n    </tr>\n    <tr>\n      <th>140</th>\n      <td>CHEMBL139</td>\n      <td>DICLOFENAC</td>\n      <td>296.15</td>\n      <td>0</td>\n      <td>O=C(O)Cc1ccccc1Nc1c(Cl)cccc1Cl</td>\n      <td>5.000</td>\n      <td>nM</td>\n      <td>8.30</td>\n      <td>&lt;rdkit.Chem.rdchem.Mol object at 0x7f95a548fdd0&gt;</td>\n      <td>1</td>\n    </tr>\n    <tr>\n      <th>...</th>\n      <td>...</td>\n      <td>...</td>\n      <td>...</td>\n      <td>...</td>\n      <td>...</td>\n      <td>...</td>\n      <td>...</td>\n      <td>...</td>\n      <td>...</td>\n      <td>...</td>\n    </tr>\n    <tr>\n      <th>3693</th>\n      <td>CHEMBL1288591</td>\n      <td>NaN</td>\n      <td>313.06</td>\n      <td>0</td>\n      <td>O=C(O)C1=Cc2ccc(Cl)c(Cl)c2OC1C(F)(F)F</td>\n      <td>300000.000</td>\n      <td>nM</td>\n      <td>NaN</td>\n      <td>&lt;rdkit.Chem.rdchem.Mol object at 0x7f95a54aa900&gt;</td>\n      <td>1</td>\n    </tr>\n    <tr>\n      <th>3701</th>\n      <td>CHEMBL1814713</td>\n      <td>NaN</td>\n      <td>358.41</td>\n      <td>0</td>\n      <td>Cc1ccc(-c2cc(C(C)C(=O)[O-])ccc2CC2CCCC2=O)cc1....</td>\n      <td>420000.000</td>\n      <td>nM</td>\n      <td>NaN</td>\n      <td>&lt;rdkit.Chem.rdchem.Mol object at 0x7f95a54aac80&gt;</td>\n      <td>1</td>\n    </tr>\n    <tr>\n      <th>3703</th>\n      <td>CHEMBL1814722</td>\n      <td>NaN</td>\n      <td>374.41</td>\n      <td>0</td>\n      <td>COc1ccc(-c2cc(CC3CCCC3=O)ccc2C(C)C(=O)[O-])cc1...</td>\n      <td>430000.000</td>\n      <td>nM</td>\n      <td>NaN</td>\n      <td>&lt;rdkit.Chem.rdchem.Mol object at 0x7f95a54aad60&gt;</td>\n      <td>1</td>\n    </tr>\n    <tr>\n      <th>3717</th>\n      <td>CHEMBL1814708</td>\n      <td>NaN</td>\n      <td>394.18</td>\n      <td>0</td>\n      <td>CC(C(=O)[O-])c1ccc(CC2CCCC2=O)cc1I.[Na+]</td>\n      <td>540000.000</td>\n      <td>nM</td>\n      <td>NaN</td>\n      <td>&lt;rdkit.Chem.rdchem.Mol object at 0x7f95a548c3c0&gt;</td>\n      <td>1</td>\n    </tr>\n    <tr>\n      <th>3719</th>\n      <td>CHEMBL1814721</td>\n      <td>NaN</td>\n      <td>358.41</td>\n      <td>0</td>\n      <td>Cc1ccc(-c2cc(CC3CCCC3=O)ccc2C(C)C(=O)[O-])cc1....</td>\n      <td>540000.000</td>\n      <td>nM</td>\n      <td>NaN</td>\n      <td>&lt;rdkit.Chem.rdchem.Mol object at 0x7f95a548c4a0&gt;</td>\n      <td>1</td>\n    </tr>\n  </tbody>\n</table>\n<p>416 rows × 10 columns</p>\n</div>"
     },
     "execution_count": 21,
     "metadata": {},
     "output_type": "execute_result"
    }
   ],
   "source": [
    "acids_df"
   ],
   "metadata": {
    "collapsed": false
   }
  },
  {
   "cell_type": "code",
   "execution_count": 29,
   "outputs": [
    {
     "data": {
      "text/plain": "1        True\n105      True\n127     False\n138      True\n140     False\n        ...  \n3693     True\n3701     True\n3703     True\n3717     True\n3719     True\nName: Smiles, Length: 416, dtype: bool"
     },
     "execution_count": 29,
     "metadata": {},
     "output_type": "execute_result"
    }
   ],
   "source": [],
   "metadata": {
    "collapsed": false
   }
  },
  {
   "cell_type": "code",
   "execution_count": 27,
   "outputs": [
    {
     "data": {
      "text/plain": "1                                  O=C(O)CCCC[C@@H]1CCSS1\n105                 O=C(O)C1=Cc2c(ccc(Cl)c2Cl)OC1C(F)(F)F\n127                   Nc1c(CC(=O)O)cccc1C(=O)c1ccc(Br)cc1\n138         CC(C)(C)c1cc2c(cc1Cl)C=C(C(=O)O)C(C(F)(F)F)O2\n140                        O=C(O)Cc1ccccc1Nc1c(Cl)cccc1Cl\n                              ...                        \n3693                O=C(O)C1=Cc2ccc(Cl)c(Cl)c2OC1C(F)(F)F\n3701    Cc1ccc(-c2cc(C(C)C(=O)[O-])ccc2CC2CCCC2=O)cc1....\n3703    COc1ccc(-c2cc(CC3CCCC3=O)ccc2C(C)C(=O)[O-])cc1...\n3717             CC(C(=O)[O-])c1ccc(CC2CCCC2=O)cc1I.[Na+]\n3719    Cc1ccc(-c2cc(CC3CCCC3=O)ccc2C(C)C(=O)[O-])cc1....\nName: Smiles, Length: 416, dtype: object"
     },
     "execution_count": 27,
     "metadata": {},
     "output_type": "execute_result"
    }
   ],
   "source": [
    "acids_df.Smiles.apply(lambda x: x.replace('[2H]', '[H]'))"
   ],
   "metadata": {
    "collapsed": false
   }
  },
  {
   "cell_type": "code",
   "execution_count": 25,
   "outputs": [
    {
     "data": {
      "text/plain": "384"
     },
     "execution_count": 25,
     "metadata": {},
     "output_type": "execute_result"
    }
   ],
   "source": [
    "len(acids_df[acids_df.Smiles.str.contains('[2H]')])"
   ],
   "metadata": {
    "collapsed": false
   }
  },
  {
   "cell_type": "code",
   "execution_count": 114,
   "outputs": [],
   "source": [
    "acids_df.to_csv('ligand_acid_dataset_v2.csv')"
   ],
   "metadata": {
    "collapsed": false
   }
  },
  {
   "cell_type": "code",
   "execution_count": 32,
   "outputs": [],
   "source": [
    "with open('ligands_v2.smi', 'w') as f:\n",
    "\n",
    "    f.writelines([line + '\\n' for line in acids_df.Smiles.to_list()])"
   ],
   "metadata": {
    "collapsed": false
   }
  },
  {
   "cell_type": "code",
   "execution_count": null,
   "outputs": [],
   "source": [],
   "metadata": {
    "collapsed": false
   }
  }
 ],
 "metadata": {
  "kernelspec": {
   "display_name": "Python 3",
   "language": "python",
   "name": "python3"
  },
  "language_info": {
   "codemirror_mode": {
    "name": "ipython",
    "version": 2
   },
   "file_extension": ".py",
   "mimetype": "text/x-python",
   "name": "python",
   "nbconvert_exporter": "python",
   "pygments_lexer": "ipython2",
   "version": "2.7.6"
  }
 },
 "nbformat": 4,
 "nbformat_minor": 0
}
